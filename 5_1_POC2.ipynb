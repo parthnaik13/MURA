{
  "nbformat": 4,
  "nbformat_minor": 0,
  "metadata": {
    "colab": {
      "provenance": [],
      "toc_visible": true,
      "collapsed_sections": [],
      "authorship_tag": "ABX9TyME/CKn0sP9nMebZ05nVmCH",
      "include_colab_link": true
    },
    "kernelspec": {
      "name": "python3",
      "display_name": "Python 3"
    },
    "language_info": {
      "name": "python"
    }
  },
  "cells": [
    {
      "cell_type": "markdown",
      "metadata": {
        "id": "view-in-github",
        "colab_type": "text"
      },
      "source": [
        "<a href=\"https://colab.research.google.com/github/parthnaik13/MURA/blob/master/5_1_POC2.ipynb\" target=\"_parent\"><img src=\"https://colab.research.google.com/assets/colab-badge.svg\" alt=\"Open In Colab\"/></a>"
      ]
    },
    {
      "cell_type": "markdown",
      "source": [
        "# POC 2\n",
        "\n",
        "In this notebook, we aim to follow along the footsteps of POC 1 to explore the relationship between race load that horses experience and its subsequent impact on their race performance (average race speed) using multi-variate modeling"
      ],
      "metadata": {
        "id": "f1QuDDLMEpAC"
      }
    },
    {
      "cell_type": "markdown",
      "source": [
        "## Things to look at in this modeling POC\n",
        "* Do we directly model avg race speed or do we model the change in season avg for horses?\n",
        "* Which confounding features to include?\n",
        "* Do we get a good model?\n",
        "* Do we see significance for race load features?\n",
        "* Are the effects in the direction in which we would expect them to be?\n",
        "* Can we quantify the effect of race load on avg race speed?\n",
        "  * Ex - 14 more rest days lead to a 7.5% increase in avg race speed\n",
        "  * Ex - 100 more furloghs lead to a 5% decrease in avg race speed"
      ],
      "metadata": {
        "id": "rlTR_BfvFEOo"
      }
    },
    {
      "cell_type": "markdown",
      "source": [
        "## Modeling steps\n",
        "\n",
        "1. Load the nyra_race_horse_speed.csv data which is prepped in the `3.1_Data_Prep.ipynb` notebook\n",
        "2. Create functions to calculate race-load features from the data\n",
        "  * Cumulative volume in terms of race distance from season start\n",
        "  * Avg rest intervals leading up to the race\n",
        "3. Create feature buckets (allow for some non-linearity in the model)\n",
        "3. Prepare the target\n",
        "  * Let's try to model a ratio of $\\frac{\\text{Speed in current race for horse}_i}{\\text{Avg speed across all races for horse}_i}$\n",
        "4. Analyze prepped target (can we do a linear regression for the target, the target ratios should look like a normal distribution)\n",
        "5. Filter data for modeling\n",
        "  * Just the typical races i.e. 'D' (dirt) and 'FT' (fast) tracks (avoid adding in more features to the model at this stage to capture speed variations due to track types)\n",
        "  * Filter out horses having less than 5 races (target maybe a bit unstable in these cases)\n",
        "6. Separate out a holdout set (for model validation)\n",
        "7. Fit a linear regression model\n",
        "  * Target - current to avg speed ratio\n",
        "  * Features\n",
        "    * Odds\n",
        "    * Weight carried\n",
        "    * Race-load features\n",
        "    * Race distance\n",
        "    * Race purse\n",
        "8. Look at the fitted model summary\n",
        "9. Is the model better than a naive model (model always predicting a 1)?\n"
      ],
      "metadata": {
        "id": "rrE9HvXLI0bz"
      }
    },
    {
      "cell_type": "markdown",
      "source": [
        "## Setup\n",
        "\n",
        "* Mount google drive\n",
        "* Load necessary python libraries"
      ],
      "metadata": {
        "id": "jO9mCYfLAKat"
      }
    },
    {
      "cell_type": "code",
      "source": [
        "# Mount google drive to access data files\n",
        "from google.colab import drive\n",
        "drive.mount('/content/drive')"
      ],
      "metadata": {
        "colab": {
          "base_uri": "https://localhost:8080/"
        },
        "id": "X5aaiuj5BAtu",
        "outputId": "33838d7a-c8a2-43a1-eb11-09e88274218c"
      },
      "execution_count": 1,
      "outputs": [
        {
          "output_type": "stream",
          "name": "stdout",
          "text": [
            "Mounted at /content/drive\n"
          ]
        }
      ]
    },
    {
      "cell_type": "code",
      "source": [
        "# Import necessary libs and print out their versions\n",
        "import numpy as np\n",
        "np.random.seed(7)\n",
        "\n",
        "import pandas as pd\n",
        "pd.set_option('display.max_columns', None) # Display all dataframe columns\n",
        "\n",
        "import matplotlib\n",
        "import matplotlib.pyplot as plt\n",
        "\n",
        "import statsmodels\n",
        "import sklearn\n",
        "\n",
        "print(f'numpy version - {np.__version__}')\n",
        "print(f'pandas version - {pd.__version__}')\n",
        "print(f'matplotlib version - {matplotlib.__version__}')\n",
        "print(f'statsmodels version- {statsmodels.__version__}')\n",
        "print(f'sklearn version - {sklearn.__version__}')"
      ],
      "metadata": {
        "colab": {
          "base_uri": "https://localhost:8080/"
        },
        "id": "Ymy1NJLsBeFC",
        "outputId": "997f6571-f66f-4c27-de89-eda27a0842f3"
      },
      "execution_count": 2,
      "outputs": [
        {
          "output_type": "stream",
          "name": "stdout",
          "text": [
            "numpy version - 1.21.6\n",
            "pandas version - 1.3.5\n",
            "matplotlib version - 3.2.2\n",
            "statsmodels version- 0.12.2\n",
            "sklearn version - 1.0.2\n"
          ]
        }
      ]
    },
    {
      "cell_type": "markdown",
      "source": [
        "## Load prepped race data\n",
        "\n",
        "Data prepped in the `3.1_Data_Prep.ipynb` notebook"
      ],
      "metadata": {
        "id": "EeL7Rr9o7zKE"
      }
    },
    {
      "cell_type": "code",
      "source": [
        "# Load the data from the gdrive mount\n",
        "nyra_df = pd.read_csv('/content/drive/MyDrive/NYRA_Data/nyra_race_horse_speed.csv', index_col = 0)\n",
        "print(f'Shape of the dataframe - {nyra_df.shape}')\n",
        "nyra_df.head(5)"
      ],
      "metadata": {
        "colab": {
          "base_uri": "https://localhost:8080/",
          "height": 461
        },
        "id": "OA6pqV3v7-l7",
        "outputId": "eb2f029f-bb2e-4ec1-c9a4-04a431b5a089"
      },
      "execution_count": 3,
      "outputs": [
        {
          "output_type": "stream",
          "name": "stdout",
          "text": [
            "Shape of the dataframe - (15080, 18)\n"
          ]
        },
        {
          "output_type": "execute_result",
          "data": {
            "text/plain": [
              "  track_id   race_date  race_number program_number  distance_id course_type  \\\n",
              "0      AQU  2019-01-01            1              3          650           D   \n",
              "1      AQU  2019-01-01            1              4          650           D   \n",
              "2      AQU  2019-01-01            1              5          650           D   \n",
              "3      AQU  2019-01-01            1              1          650           D   \n",
              "4      AQU  2019-01-01            1              2          650           D   \n",
              "\n",
              "  track_condition  run_up_distance race_type  purse            post_time  \\\n",
              "0             MY                36       AOC  80000  1900-01-01 12:20:00   \n",
              "1             MY                36       AOC  80000  1900-01-01 12:20:00   \n",
              "2             MY                36       AOC  80000  1900-01-01 12:20:00   \n",
              "3             MY                36       AOC  80000  1900-01-01 12:20:00   \n",
              "4             MY                36       AOC  80000  1900-01-01 12:20:00   \n",
              "\n",
              "   weight_carried           jockey  odds  horse_id  finishing_place  \\\n",
              "0             118     Jose Lezcano   180         3                4   \n",
              "1             123     Jomar Garcia  1280         4                5   \n",
              "2             118    Manuel Franco  1150         0                1   \n",
              "3             123      Dylan Davis   130         1                2   \n",
              "4             120  Junior Alvarado   295         2                3   \n",
              "\n",
              "           horse_name  avg_race_speed  \n",
              "0   Friend of Liberty       40.323190  \n",
              "1        Bobby's Song       40.437696  \n",
              "2  Jc's Shooting Star       41.286390  \n",
              "3    Sounds Delicious       40.898308  \n",
              "4       Crimson Frost       40.441267  "
            ],
            "text/html": [
              "\n",
              "  <div id=\"df-5cc7ad89-ac43-41ee-ba66-df78645856a3\">\n",
              "    <div class=\"colab-df-container\">\n",
              "      <div>\n",
              "<style scoped>\n",
              "    .dataframe tbody tr th:only-of-type {\n",
              "        vertical-align: middle;\n",
              "    }\n",
              "\n",
              "    .dataframe tbody tr th {\n",
              "        vertical-align: top;\n",
              "    }\n",
              "\n",
              "    .dataframe thead th {\n",
              "        text-align: right;\n",
              "    }\n",
              "</style>\n",
              "<table border=\"1\" class=\"dataframe\">\n",
              "  <thead>\n",
              "    <tr style=\"text-align: right;\">\n",
              "      <th></th>\n",
              "      <th>track_id</th>\n",
              "      <th>race_date</th>\n",
              "      <th>race_number</th>\n",
              "      <th>program_number</th>\n",
              "      <th>distance_id</th>\n",
              "      <th>course_type</th>\n",
              "      <th>track_condition</th>\n",
              "      <th>run_up_distance</th>\n",
              "      <th>race_type</th>\n",
              "      <th>purse</th>\n",
              "      <th>post_time</th>\n",
              "      <th>weight_carried</th>\n",
              "      <th>jockey</th>\n",
              "      <th>odds</th>\n",
              "      <th>horse_id</th>\n",
              "      <th>finishing_place</th>\n",
              "      <th>horse_name</th>\n",
              "      <th>avg_race_speed</th>\n",
              "    </tr>\n",
              "  </thead>\n",
              "  <tbody>\n",
              "    <tr>\n",
              "      <th>0</th>\n",
              "      <td>AQU</td>\n",
              "      <td>2019-01-01</td>\n",
              "      <td>1</td>\n",
              "      <td>3</td>\n",
              "      <td>650</td>\n",
              "      <td>D</td>\n",
              "      <td>MY</td>\n",
              "      <td>36</td>\n",
              "      <td>AOC</td>\n",
              "      <td>80000</td>\n",
              "      <td>1900-01-01 12:20:00</td>\n",
              "      <td>118</td>\n",
              "      <td>Jose Lezcano</td>\n",
              "      <td>180</td>\n",
              "      <td>3</td>\n",
              "      <td>4</td>\n",
              "      <td>Friend of Liberty</td>\n",
              "      <td>40.323190</td>\n",
              "    </tr>\n",
              "    <tr>\n",
              "      <th>1</th>\n",
              "      <td>AQU</td>\n",
              "      <td>2019-01-01</td>\n",
              "      <td>1</td>\n",
              "      <td>4</td>\n",
              "      <td>650</td>\n",
              "      <td>D</td>\n",
              "      <td>MY</td>\n",
              "      <td>36</td>\n",
              "      <td>AOC</td>\n",
              "      <td>80000</td>\n",
              "      <td>1900-01-01 12:20:00</td>\n",
              "      <td>123</td>\n",
              "      <td>Jomar Garcia</td>\n",
              "      <td>1280</td>\n",
              "      <td>4</td>\n",
              "      <td>5</td>\n",
              "      <td>Bobby's Song</td>\n",
              "      <td>40.437696</td>\n",
              "    </tr>\n",
              "    <tr>\n",
              "      <th>2</th>\n",
              "      <td>AQU</td>\n",
              "      <td>2019-01-01</td>\n",
              "      <td>1</td>\n",
              "      <td>5</td>\n",
              "      <td>650</td>\n",
              "      <td>D</td>\n",
              "      <td>MY</td>\n",
              "      <td>36</td>\n",
              "      <td>AOC</td>\n",
              "      <td>80000</td>\n",
              "      <td>1900-01-01 12:20:00</td>\n",
              "      <td>118</td>\n",
              "      <td>Manuel Franco</td>\n",
              "      <td>1150</td>\n",
              "      <td>0</td>\n",
              "      <td>1</td>\n",
              "      <td>Jc's Shooting Star</td>\n",
              "      <td>41.286390</td>\n",
              "    </tr>\n",
              "    <tr>\n",
              "      <th>3</th>\n",
              "      <td>AQU</td>\n",
              "      <td>2019-01-01</td>\n",
              "      <td>1</td>\n",
              "      <td>1</td>\n",
              "      <td>650</td>\n",
              "      <td>D</td>\n",
              "      <td>MY</td>\n",
              "      <td>36</td>\n",
              "      <td>AOC</td>\n",
              "      <td>80000</td>\n",
              "      <td>1900-01-01 12:20:00</td>\n",
              "      <td>123</td>\n",
              "      <td>Dylan Davis</td>\n",
              "      <td>130</td>\n",
              "      <td>1</td>\n",
              "      <td>2</td>\n",
              "      <td>Sounds Delicious</td>\n",
              "      <td>40.898308</td>\n",
              "    </tr>\n",
              "    <tr>\n",
              "      <th>4</th>\n",
              "      <td>AQU</td>\n",
              "      <td>2019-01-01</td>\n",
              "      <td>1</td>\n",
              "      <td>2</td>\n",
              "      <td>650</td>\n",
              "      <td>D</td>\n",
              "      <td>MY</td>\n",
              "      <td>36</td>\n",
              "      <td>AOC</td>\n",
              "      <td>80000</td>\n",
              "      <td>1900-01-01 12:20:00</td>\n",
              "      <td>120</td>\n",
              "      <td>Junior Alvarado</td>\n",
              "      <td>295</td>\n",
              "      <td>2</td>\n",
              "      <td>3</td>\n",
              "      <td>Crimson Frost</td>\n",
              "      <td>40.441267</td>\n",
              "    </tr>\n",
              "  </tbody>\n",
              "</table>\n",
              "</div>\n",
              "      <button class=\"colab-df-convert\" onclick=\"convertToInteractive('df-5cc7ad89-ac43-41ee-ba66-df78645856a3')\"\n",
              "              title=\"Convert this dataframe to an interactive table.\"\n",
              "              style=\"display:none;\">\n",
              "        \n",
              "  <svg xmlns=\"http://www.w3.org/2000/svg\" height=\"24px\"viewBox=\"0 0 24 24\"\n",
              "       width=\"24px\">\n",
              "    <path d=\"M0 0h24v24H0V0z\" fill=\"none\"/>\n",
              "    <path d=\"M18.56 5.44l.94 2.06.94-2.06 2.06-.94-2.06-.94-.94-2.06-.94 2.06-2.06.94zm-11 1L8.5 8.5l.94-2.06 2.06-.94-2.06-.94L8.5 2.5l-.94 2.06-2.06.94zm10 10l.94 2.06.94-2.06 2.06-.94-2.06-.94-.94-2.06-.94 2.06-2.06.94z\"/><path d=\"M17.41 7.96l-1.37-1.37c-.4-.4-.92-.59-1.43-.59-.52 0-1.04.2-1.43.59L10.3 9.45l-7.72 7.72c-.78.78-.78 2.05 0 2.83L4 21.41c.39.39.9.59 1.41.59.51 0 1.02-.2 1.41-.59l7.78-7.78 2.81-2.81c.8-.78.8-2.07 0-2.86zM5.41 20L4 18.59l7.72-7.72 1.47 1.35L5.41 20z\"/>\n",
              "  </svg>\n",
              "      </button>\n",
              "      \n",
              "  <style>\n",
              "    .colab-df-container {\n",
              "      display:flex;\n",
              "      flex-wrap:wrap;\n",
              "      gap: 12px;\n",
              "    }\n",
              "\n",
              "    .colab-df-convert {\n",
              "      background-color: #E8F0FE;\n",
              "      border: none;\n",
              "      border-radius: 50%;\n",
              "      cursor: pointer;\n",
              "      display: none;\n",
              "      fill: #1967D2;\n",
              "      height: 32px;\n",
              "      padding: 0 0 0 0;\n",
              "      width: 32px;\n",
              "    }\n",
              "\n",
              "    .colab-df-convert:hover {\n",
              "      background-color: #E2EBFA;\n",
              "      box-shadow: 0px 1px 2px rgba(60, 64, 67, 0.3), 0px 1px 3px 1px rgba(60, 64, 67, 0.15);\n",
              "      fill: #174EA6;\n",
              "    }\n",
              "\n",
              "    [theme=dark] .colab-df-convert {\n",
              "      background-color: #3B4455;\n",
              "      fill: #D2E3FC;\n",
              "    }\n",
              "\n",
              "    [theme=dark] .colab-df-convert:hover {\n",
              "      background-color: #434B5C;\n",
              "      box-shadow: 0px 1px 3px 1px rgba(0, 0, 0, 0.15);\n",
              "      filter: drop-shadow(0px 1px 2px rgba(0, 0, 0, 0.3));\n",
              "      fill: #FFFFFF;\n",
              "    }\n",
              "  </style>\n",
              "\n",
              "      <script>\n",
              "        const buttonEl =\n",
              "          document.querySelector('#df-5cc7ad89-ac43-41ee-ba66-df78645856a3 button.colab-df-convert');\n",
              "        buttonEl.style.display =\n",
              "          google.colab.kernel.accessAllowed ? 'block' : 'none';\n",
              "\n",
              "        async function convertToInteractive(key) {\n",
              "          const element = document.querySelector('#df-5cc7ad89-ac43-41ee-ba66-df78645856a3');\n",
              "          const dataTable =\n",
              "            await google.colab.kernel.invokeFunction('convertToInteractive',\n",
              "                                                     [key], {});\n",
              "          if (!dataTable) return;\n",
              "\n",
              "          const docLinkHtml = 'Like what you see? Visit the ' +\n",
              "            '<a target=\"_blank\" href=https://colab.research.google.com/notebooks/data_table.ipynb>data table notebook</a>'\n",
              "            + ' to learn more about interactive tables.';\n",
              "          element.innerHTML = '';\n",
              "          dataTable['output_type'] = 'display_data';\n",
              "          await google.colab.output.renderOutput(dataTable, element);\n",
              "          const docLink = document.createElement('div');\n",
              "          docLink.innerHTML = docLinkHtml;\n",
              "          element.appendChild(docLink);\n",
              "        }\n",
              "      </script>\n",
              "    </div>\n",
              "  </div>\n",
              "  "
            ]
          },
          "metadata": {},
          "execution_count": 3
        }
      ]
    },
    {
      "cell_type": "code",
      "source": [
        "# Assign proper dtypes wherever needed\n",
        "# Convert post_time to a datetime col (to extract the time part of things)\n",
        "nyra_df['post_time'] = pd.to_datetime(nyra_df['post_time'])\n",
        "# Incorporate the post time and convert this to a datetime column\n",
        "nyra_df['race_date'] = pd.to_datetime(nyra_df['race_date'].astype(str) + ' ' + nyra_df['post_time'].dt.time.astype(str))\n",
        "# post_time can now be dropped as its included in the race_date col\n",
        "nyra_df = nyra_df.drop('post_time', axis = 1)\n",
        "# race_number as a int/numeric col\n",
        "nyra_df['race_number'] = pd.to_numeric(nyra_df['race_number'])"
      ],
      "metadata": {
        "id": "ONhaOTLQ8SbY"
      },
      "execution_count": 4,
      "outputs": []
    },
    {
      "cell_type": "code",
      "source": [
        "# Check of nulls (we don't have any, just in case)\n",
        "nyra_df.isnull().sum().sum()"
      ],
      "metadata": {
        "colab": {
          "base_uri": "https://localhost:8080/"
        },
        "id": "1mX05zykDvYh",
        "outputId": "c0dffe43-ec1a-4acf-b6cc-07e534443df9"
      },
      "execution_count": 5,
      "outputs": [
        {
          "output_type": "execute_result",
          "data": {
            "text/plain": [
              "0"
            ]
          },
          "metadata": {},
          "execution_count": 5
        }
      ]
    },
    {
      "cell_type": "markdown",
      "source": [
        "## Race load features\n",
        "These features are indicative of the cumulative race load horses experience throughout the season\n",
        "\n",
        "Brainstorm:\n",
        "* Cumulative race distance (# of races ran since the start of the season)\n",
        "* Avg # of days between races (experienced from the start of the season)\n",
        "* Number of days/hours between previous and current race (did the horse get enough immediate rest)"
      ],
      "metadata": {
        "id": "ybVKNRBI8iSN"
      }
    },
    {
      "cell_type": "markdown",
      "source": [
        "### Calculate race load features"
      ],
      "metadata": {
        "id": "aZ6I7dOJ830j"
      }
    },
    {
      "cell_type": "code",
      "source": [
        "# Get race distance in miles\n",
        "nyra_df['race_distance_miles'] = nyra_df['distance_id'] / 8 # Conversion of furlongs to miles\n",
        "nyra_df['race_distance_miles'].describe()"
      ],
      "metadata": {
        "colab": {
          "base_uri": "https://localhost:8080/"
        },
        "id": "SkWkJ8Mz9VzF",
        "outputId": "53d5278a-7dde-497a-f8d7-e912a7d143da"
      },
      "execution_count": 6,
      "outputs": [
        {
          "output_type": "execute_result",
          "data": {
            "text/plain": [
              "count    15080.000000\n",
              "mean        90.718667\n",
              "std         18.820992\n",
              "min         56.250000\n",
              "25%         75.000000\n",
              "50%         87.500000\n",
              "75%        100.000000\n",
              "max        250.000000\n",
              "Name: race_distance_miles, dtype: float64"
            ]
          },
          "metadata": {},
          "execution_count": 6
        }
      ]
    },
    {
      "cell_type": "code",
      "source": [
        "# Function to calculate cumulative race load which can be applied over horse groups\n",
        "def race_load_features(horse_df):\n",
        "  \"\"\"\n",
        "  Function to calculate\n",
        "    * cumulative race distance given the race data for a horse\n",
        "    * average time between races (in days)\n",
        "    * time between the last and the current race\n",
        "  \n",
        "  Input: Horse race data (for a specific horse)\n",
        "\n",
        "  Output: Race load features in the form of a dataframe (to be joined with the original df by index)\n",
        "\n",
        "  Note: Race load features are at a race-level (calculated by looking at collective races for horses)\n",
        "  \"\"\"\n",
        "\n",
        "  # Sort races by race_date\n",
        "  horse_df = horse_df.sort_values(by = 'race_date', ascending = True)\n",
        "  \n",
        "  # Cumulative race distance\n",
        "\n",
        "  # Get previous race distance col (we don't want to include the current race distance as the horse is yet to run)\n",
        "  horse_df['prev_race_distance'] = horse_df['race_distance_miles'].shift(1)\n",
        "  # Replace NaNs with 0s (first race of the season)\n",
        "  horse_df = horse_df.fillna(0)\n",
        "  # Get the cumulative previous race/s distance\n",
        "  horse_df['cum_prev_race_distance'] = horse_df['prev_race_distance'].cumsum()\n",
        "\n",
        "  # Get average time between races and the time from the last to current race (in days)\n",
        "\n",
        "  # Get a previous race distance\n",
        "  horse_df['prev_race_date'] = horse_df['race_date'].shift(1)\n",
        "  horse_df['time_from_last_race'] = (horse_df['race_date'] - horse_df['prev_race_date']).dt.days\n",
        "  # Fill NaNs with 0s (first race of the season doesn't have a previous race)\n",
        "  horse_df = horse_df.fillna(0)\n",
        "  # Get average of the all the previous time_from_last_race for a horse\n",
        "  horse_df['prev_race_count'] = [i for i in range(0, horse_df.shape[0])]\n",
        "  horse_df['time_from_last_race_cumsum'] = horse_df['time_from_last_race'].cumsum()\n",
        "  horse_df['avg_time_from_last_race'] = horse_df['time_from_last_race_cumsum'] / horse_df['prev_race_count']\n",
        "  horse_df['avg_time_from_last_race'] = horse_df['avg_time_from_last_race'].fillna(0) # For the first race of the race season for the horse\n",
        "\n",
        "  return horse_df[['cum_prev_race_distance', 'avg_time_from_last_race', 'time_from_last_race']]"
      ],
      "metadata": {
        "id": "MxUGE0jKDAIW"
      },
      "execution_count": 7,
      "outputs": []
    },
    {
      "cell_type": "code",
      "source": [
        "# Get the cum_prev_race_distance for horses across races using the above function (join with nyra_df using the index)\n",
        "race_load_df = nyra_df.groupby('horse_id').apply(race_load_features).reset_index().set_index('level_1')\n",
        "# Shape of the df\n",
        "print(f'Shape of the df - {race_load_df.shape}')\n",
        "race_load_df.head(5)"
      ],
      "metadata": {
        "colab": {
          "base_uri": "https://localhost:8080/",
          "height": 255
        },
        "id": "uNmZALX1Hmhr",
        "outputId": "91f855a4-6601-475a-b024-2017561ac205"
      },
      "execution_count": 8,
      "outputs": [
        {
          "output_type": "stream",
          "name": "stdout",
          "text": [
            "Shape of the df - (15080, 4)\n"
          ]
        },
        {
          "output_type": "execute_result",
          "data": {
            "text/plain": [
              "         horse_id  cum_prev_race_distance  avg_time_from_last_race  \\\n",
              "level_1                                                              \n",
              "2               0                    0.00                 0.000000   \n",
              "7570            0                   81.25               145.000000   \n",
              "8444            0                  181.25                82.000000   \n",
              "12474           0                  256.25                66.666667   \n",
              "13907           0                  325.00                56.000000   \n",
              "\n",
              "         time_from_last_race  \n",
              "level_1                       \n",
              "2                        0.0  \n",
              "7570                   145.0  \n",
              "8444                    19.0  \n",
              "12474                   36.0  \n",
              "13907                   24.0  "
            ],
            "text/html": [
              "\n",
              "  <div id=\"df-74fde06b-23ae-4762-a6da-42d9fb316c57\">\n",
              "    <div class=\"colab-df-container\">\n",
              "      <div>\n",
              "<style scoped>\n",
              "    .dataframe tbody tr th:only-of-type {\n",
              "        vertical-align: middle;\n",
              "    }\n",
              "\n",
              "    .dataframe tbody tr th {\n",
              "        vertical-align: top;\n",
              "    }\n",
              "\n",
              "    .dataframe thead th {\n",
              "        text-align: right;\n",
              "    }\n",
              "</style>\n",
              "<table border=\"1\" class=\"dataframe\">\n",
              "  <thead>\n",
              "    <tr style=\"text-align: right;\">\n",
              "      <th></th>\n",
              "      <th>horse_id</th>\n",
              "      <th>cum_prev_race_distance</th>\n",
              "      <th>avg_time_from_last_race</th>\n",
              "      <th>time_from_last_race</th>\n",
              "    </tr>\n",
              "    <tr>\n",
              "      <th>level_1</th>\n",
              "      <th></th>\n",
              "      <th></th>\n",
              "      <th></th>\n",
              "      <th></th>\n",
              "    </tr>\n",
              "  </thead>\n",
              "  <tbody>\n",
              "    <tr>\n",
              "      <th>2</th>\n",
              "      <td>0</td>\n",
              "      <td>0.00</td>\n",
              "      <td>0.000000</td>\n",
              "      <td>0.0</td>\n",
              "    </tr>\n",
              "    <tr>\n",
              "      <th>7570</th>\n",
              "      <td>0</td>\n",
              "      <td>81.25</td>\n",
              "      <td>145.000000</td>\n",
              "      <td>145.0</td>\n",
              "    </tr>\n",
              "    <tr>\n",
              "      <th>8444</th>\n",
              "      <td>0</td>\n",
              "      <td>181.25</td>\n",
              "      <td>82.000000</td>\n",
              "      <td>19.0</td>\n",
              "    </tr>\n",
              "    <tr>\n",
              "      <th>12474</th>\n",
              "      <td>0</td>\n",
              "      <td>256.25</td>\n",
              "      <td>66.666667</td>\n",
              "      <td>36.0</td>\n",
              "    </tr>\n",
              "    <tr>\n",
              "      <th>13907</th>\n",
              "      <td>0</td>\n",
              "      <td>325.00</td>\n",
              "      <td>56.000000</td>\n",
              "      <td>24.0</td>\n",
              "    </tr>\n",
              "  </tbody>\n",
              "</table>\n",
              "</div>\n",
              "      <button class=\"colab-df-convert\" onclick=\"convertToInteractive('df-74fde06b-23ae-4762-a6da-42d9fb316c57')\"\n",
              "              title=\"Convert this dataframe to an interactive table.\"\n",
              "              style=\"display:none;\">\n",
              "        \n",
              "  <svg xmlns=\"http://www.w3.org/2000/svg\" height=\"24px\"viewBox=\"0 0 24 24\"\n",
              "       width=\"24px\">\n",
              "    <path d=\"M0 0h24v24H0V0z\" fill=\"none\"/>\n",
              "    <path d=\"M18.56 5.44l.94 2.06.94-2.06 2.06-.94-2.06-.94-.94-2.06-.94 2.06-2.06.94zm-11 1L8.5 8.5l.94-2.06 2.06-.94-2.06-.94L8.5 2.5l-.94 2.06-2.06.94zm10 10l.94 2.06.94-2.06 2.06-.94-2.06-.94-.94-2.06-.94 2.06-2.06.94z\"/><path d=\"M17.41 7.96l-1.37-1.37c-.4-.4-.92-.59-1.43-.59-.52 0-1.04.2-1.43.59L10.3 9.45l-7.72 7.72c-.78.78-.78 2.05 0 2.83L4 21.41c.39.39.9.59 1.41.59.51 0 1.02-.2 1.41-.59l7.78-7.78 2.81-2.81c.8-.78.8-2.07 0-2.86zM5.41 20L4 18.59l7.72-7.72 1.47 1.35L5.41 20z\"/>\n",
              "  </svg>\n",
              "      </button>\n",
              "      \n",
              "  <style>\n",
              "    .colab-df-container {\n",
              "      display:flex;\n",
              "      flex-wrap:wrap;\n",
              "      gap: 12px;\n",
              "    }\n",
              "\n",
              "    .colab-df-convert {\n",
              "      background-color: #E8F0FE;\n",
              "      border: none;\n",
              "      border-radius: 50%;\n",
              "      cursor: pointer;\n",
              "      display: none;\n",
              "      fill: #1967D2;\n",
              "      height: 32px;\n",
              "      padding: 0 0 0 0;\n",
              "      width: 32px;\n",
              "    }\n",
              "\n",
              "    .colab-df-convert:hover {\n",
              "      background-color: #E2EBFA;\n",
              "      box-shadow: 0px 1px 2px rgba(60, 64, 67, 0.3), 0px 1px 3px 1px rgba(60, 64, 67, 0.15);\n",
              "      fill: #174EA6;\n",
              "    }\n",
              "\n",
              "    [theme=dark] .colab-df-convert {\n",
              "      background-color: #3B4455;\n",
              "      fill: #D2E3FC;\n",
              "    }\n",
              "\n",
              "    [theme=dark] .colab-df-convert:hover {\n",
              "      background-color: #434B5C;\n",
              "      box-shadow: 0px 1px 3px 1px rgba(0, 0, 0, 0.15);\n",
              "      filter: drop-shadow(0px 1px 2px rgba(0, 0, 0, 0.3));\n",
              "      fill: #FFFFFF;\n",
              "    }\n",
              "  </style>\n",
              "\n",
              "      <script>\n",
              "        const buttonEl =\n",
              "          document.querySelector('#df-74fde06b-23ae-4762-a6da-42d9fb316c57 button.colab-df-convert');\n",
              "        buttonEl.style.display =\n",
              "          google.colab.kernel.accessAllowed ? 'block' : 'none';\n",
              "\n",
              "        async function convertToInteractive(key) {\n",
              "          const element = document.querySelector('#df-74fde06b-23ae-4762-a6da-42d9fb316c57');\n",
              "          const dataTable =\n",
              "            await google.colab.kernel.invokeFunction('convertToInteractive',\n",
              "                                                     [key], {});\n",
              "          if (!dataTable) return;\n",
              "\n",
              "          const docLinkHtml = 'Like what you see? Visit the ' +\n",
              "            '<a target=\"_blank\" href=https://colab.research.google.com/notebooks/data_table.ipynb>data table notebook</a>'\n",
              "            + ' to learn more about interactive tables.';\n",
              "          element.innerHTML = '';\n",
              "          dataTable['output_type'] = 'display_data';\n",
              "          await google.colab.output.renderOutput(dataTable, element);\n",
              "          const docLink = document.createElement('div');\n",
              "          docLink.innerHTML = docLinkHtml;\n",
              "          element.appendChild(docLink);\n",
              "        }\n",
              "      </script>\n",
              "    </div>\n",
              "  </div>\n",
              "  "
            ]
          },
          "metadata": {},
          "execution_count": 8
        }
      ]
    },
    {
      "cell_type": "code",
      "source": [
        "# Look for nulls in the race_load_df\n",
        "race_load_df.isnull().sum().sum()"
      ],
      "metadata": {
        "colab": {
          "base_uri": "https://localhost:8080/"
        },
        "id": "3XSJDrPmLCUH",
        "outputId": "82c81ab1-fb1e-4499-d282-3ac7e8e9bd6e"
      },
      "execution_count": 9,
      "outputs": [
        {
          "output_type": "execute_result",
          "data": {
            "text/plain": [
              "0"
            ]
          },
          "metadata": {},
          "execution_count": 9
        }
      ]
    },
    {
      "cell_type": "markdown",
      "source": [
        "### Look at the distributions of the race load features"
      ],
      "metadata": {
        "id": "QfY-5CZaGSmU"
      }
    },
    {
      "cell_type": "code",
      "source": [
        "# Cumulative distance covered in the previous races\n",
        "print(race_load_df['cum_prev_race_distance'].describe())\n",
        "# Generate the plot\n",
        "plt.figure(figsize = (10,6))\n",
        "plt.hist(race_load_df['cum_prev_race_distance'], bins = 20)\n",
        "plt.xlabel('Cumulative distance covered over past races (in miles)')\n",
        "plt.ylabel('Frequency')\n",
        "plt.title('Cumulative previous race distance')\n",
        "plt.show()"
      ],
      "metadata": {
        "colab": {
          "base_uri": "https://localhost:8080/",
          "height": 560
        },
        "id": "lDgugmZ8HP43",
        "outputId": "402e6965-b258-4486-ea62-f313ef2eaca7"
      },
      "execution_count": 10,
      "outputs": [
        {
          "output_type": "stream",
          "name": "stdout",
          "text": [
            "count    15080.000000\n",
            "mean       202.500000\n",
            "std        238.537386\n",
            "min          0.000000\n",
            "25%          0.000000\n",
            "50%        112.500000\n",
            "75%        306.250000\n",
            "max       1762.500000\n",
            "Name: cum_prev_race_distance, dtype: float64\n"
          ]
        },
        {
          "output_type": "display_data",
          "data": {
            "text/plain": [
              "<Figure size 720x432 with 1 Axes>"
            ],
            "image/png": "[encoded data removed]"
          },
          "metadata": {
            "needs_background": "light"
          }
        }
      ]
    },
    {
      "cell_type": "code",
      "source": [
        "# Average rest time (avg_time_from_last_race)\n",
        "print(race_load_df['avg_time_from_last_race'].describe())\n",
        "# Generate the plot\n",
        "plt.figure(figsize = (10,6))\n",
        "plt.hist(race_load_df['avg_time_from_last_race'], bins = 20)\n",
        "plt.xlabel('Average rest between 2 races uptill the current race (in days)')\n",
        "plt.ylabel('Frequency')\n",
        "plt.title('Average Time From Last Race')\n",
        "plt.show()"
      ],
      "metadata": {
        "colab": {
          "base_uri": "https://localhost:8080/",
          "height": 560
        },
        "id": "HXEQbWfALiRO",
        "outputId": "3104c69e-dda6-42cb-a0e3-db85eec3106d"
      },
      "execution_count": 11,
      "outputs": [
        {
          "output_type": "stream",
          "name": "stdout",
          "text": [
            "count    15080.000000\n",
            "mean        25.970114\n",
            "std         27.022233\n",
            "min          0.000000\n",
            "25%          0.000000\n",
            "50%         25.000000\n",
            "75%         36.666667\n",
            "max        336.000000\n",
            "Name: avg_time_from_last_race, dtype: float64\n"
          ]
        },
        {
          "output_type": "display_data",
          "data": {
            "text/plain": [
              "<Figure size 720x432 with 1 Axes>"
            ],
            "image/png": "[encoded data removed]"
          },
          "metadata": {
            "needs_background": "light"
          }
        }
      ]
    },
    {
      "cell_type": "code",
      "source": [
        "# Rest time since the last race (time_from_last_race)\n",
        "print(race_load_df['time_from_last_race'].describe())\n",
        "# Generate the plot\n",
        "plt.figure(figsize = (10,6))\n",
        "plt.hist(race_load_df['time_from_last_race'], bins = 20)\n",
        "plt.xlabel('Rest from the previous race to the current race (in days)')\n",
        "plt.ylabel('Frequency')\n",
        "plt.title('Time From Last Race')\n",
        "plt.show()"
      ],
      "metadata": {
        "colab": {
          "base_uri": "https://localhost:8080/",
          "height": 560
        },
        "id": "kNnJiNefMINx",
        "outputId": "7a082004-9992-492d-ae0f-41d9fc854874"
      },
      "execution_count": 12,
      "outputs": [
        {
          "output_type": "stream",
          "name": "stdout",
          "text": [
            "count    15080.000000\n",
            "mean        26.405637\n",
            "std         33.140778\n",
            "min          0.000000\n",
            "25%          0.000000\n",
            "50%         21.000000\n",
            "75%         35.000000\n",
            "max        347.000000\n",
            "Name: time_from_last_race, dtype: float64\n"
          ]
        },
        {
          "output_type": "display_data",
          "data": {
            "text/plain": [
              "<Figure size 720x432 with 1 Axes>"
            ],
            "image/png": "[encoded data removed]"
          },
          "metadata": {
            "needs_background": "light"
          }
        }
      ]
    },
    {
      "cell_type": "markdown",
      "source": [
        "### Join the race load features with the main df"
      ],
      "metadata": {
        "id": "0OrAQq07NJND"
      }
    },
    {
      "cell_type": "code",
      "source": [
        "# Join race_load_df and nyra_df on the index\n",
        "nyra_df = nyra_df.join(race_load_df[['cum_prev_race_distance', 'avg_time_from_last_race', 'time_from_last_race']], how = 'inner')\n",
        "# Look at the shape of the df\n",
        "print(f'Shape of the df - {nyra_df.shape}')\n",
        "# Check for nulls\n",
        "print(f'Nulls - {nyra_df.isnull().sum().sum()}')\n",
        "nyra_df.head(5)"
      ],
      "metadata": {
        "colab": {
          "base_uri": "https://localhost:8080/",
          "height": 478
        },
        "id": "eE5UjFfHNetM",
        "outputId": "b617da3a-ab7d-44f4-a754-33104e7f2def"
      },
      "execution_count": 13,
      "outputs": [
        {
          "output_type": "stream",
          "name": "stdout",
          "text": [
            "Shape of the df - (15080, 21)\n",
            "Nulls - 0\n"
          ]
        },
        {
          "output_type": "execute_result",
          "data": {
            "text/plain": [
              "  track_id           race_date  race_number program_number  distance_id  \\\n",
              "0      AQU 2019-01-01 12:20:00            1              3          650   \n",
              "1      AQU 2019-01-01 12:20:00            1              4          650   \n",
              "2      AQU 2019-01-01 12:20:00            1              5          650   \n",
              "3      AQU 2019-01-01 12:20:00            1              1          650   \n",
              "4      AQU 2019-01-01 12:20:00            1              2          650   \n",
              "\n",
              "  course_type track_condition  run_up_distance race_type  purse  \\\n",
              "0           D             MY                36       AOC  80000   \n",
              "1           D             MY                36       AOC  80000   \n",
              "2           D             MY                36       AOC  80000   \n",
              "3           D             MY                36       AOC  80000   \n",
              "4           D             MY                36       AOC  80000   \n",
              "\n",
              "   weight_carried           jockey  odds  horse_id  finishing_place  \\\n",
              "0             118     Jose Lezcano   180         3                4   \n",
              "1             123     Jomar Garcia  1280         4                5   \n",
              "2             118    Manuel Franco  1150         0                1   \n",
              "3             123      Dylan Davis   130         1                2   \n",
              "4             120  Junior Alvarado   295         2                3   \n",
              "\n",
              "           horse_name  avg_race_speed  race_distance_miles  \\\n",
              "0   Friend of Liberty       40.323190                81.25   \n",
              "1        Bobby's Song       40.437696                81.25   \n",
              "2  Jc's Shooting Star       41.286390                81.25   \n",
              "3    Sounds Delicious       40.898308                81.25   \n",
              "4       Crimson Frost       40.441267                81.25   \n",
              "\n",
              "   cum_prev_race_distance  avg_time_from_last_race  time_from_last_race  \n",
              "0                     0.0                      0.0                  0.0  \n",
              "1                     0.0                      0.0                  0.0  \n",
              "2                     0.0                      0.0                  0.0  \n",
              "3                     0.0                      0.0                  0.0  \n",
              "4                     0.0                      0.0                  0.0  "
            ],
            "text/html": [
              "\n",
              "  <div id=\"df-3b9b93f2-c1c8-49e5-9490-6d52d401156c\">\n",
              "    <div class=\"colab-df-container\">\n",
              "      <div>\n",
              "<style scoped>\n",
              "    .dataframe tbody tr th:only-of-type {\n",
              "        vertical-align: middle;\n",
              "    }\n",
              "\n",
              "    .dataframe tbody tr th {\n",
              "        vertical-align: top;\n",
              "    }\n",
              "\n",
              "    .dataframe thead th {\n",
              "        text-align: right;\n",
              "    }\n",
              "</style>\n",
              "<table border=\"1\" class=\"dataframe\">\n",
              "  <thead>\n",
              "    <tr style=\"text-align: right;\">\n",
              "      <th></th>\n",
              "      <th>track_id</th>\n",
              "      <th>race_date</th>\n",
              "      <th>race_number</th>\n",
              "      <th>program_number</th>\n",
              "      <th>distance_id</th>\n",
              "      <th>course_type</th>\n",
              "      <th>track_condition</th>\n",
              "      <th>run_up_distance</th>\n",
              "      <th>race_type</th>\n",
              "      <th>purse</th>\n",
              "      <th>weight_carried</th>\n",
              "      <th>jockey</th>\n",
              "      <th>odds</th>\n",
              "      <th>horse_id</th>\n",
              "      <th>finishing_place</th>\n",
              "      <th>horse_name</th>\n",
              "      <th>avg_race_speed</th>\n",
              "      <th>race_distance_miles</th>\n",
              "      <th>cum_prev_race_distance</th>\n",
              "      <th>avg_time_from_last_race</th>\n",
              "      <th>time_from_last_race</th>\n",
              "    </tr>\n",
              "  </thead>\n",
              "  <tbody>\n",
              "    <tr>\n",
              "      <th>0</th>\n",
              "      <td>AQU</td>\n",
              "      <td>2019-01-01 12:20:00</td>\n",
              "      <td>1</td>\n",
              "      <td>3</td>\n",
              "      <td>650</td>\n",
              "      <td>D</td>\n",
              "      <td>MY</td>\n",
              "      <td>36</td>\n",
              "      <td>AOC</td>\n",
              "      <td>80000</td>\n",
              "      <td>118</td>\n",
              "      <td>Jose Lezcano</td>\n",
              "      <td>180</td>\n",
              "      <td>3</td>\n",
              "      <td>4</td>\n",
              "      <td>Friend of Liberty</td>\n",
              "      <td>40.323190</td>\n",
              "      <td>81.25</td>\n",
              "      <td>0.0</td>\n",
              "      <td>0.0</td>\n",
              "      <td>0.0</td>\n",
              "    </tr>\n",
              "    <tr>\n",
              "      <th>1</th>\n",
              "      <td>AQU</td>\n",
              "      <td>2019-01-01 12:20:00</td>\n",
              "      <td>1</td>\n",
              "      <td>4</td>\n",
              "      <td>650</td>\n",
              "      <td>D</td>\n",
              "      <td>MY</td>\n",
              "      <td>36</td>\n",
              "      <td>AOC</td>\n",
              "      <td>80000</td>\n",
              "      <td>123</td>\n",
              "      <td>Jomar Garcia</td>\n",
              "      <td>1280</td>\n",
              "      <td>4</td>\n",
              "      <td>5</td>\n",
              "      <td>Bobby's Song</td>\n",
              "      <td>40.437696</td>\n",
              "      <td>81.25</td>\n",
              "      <td>0.0</td>\n",
              "      <td>0.0</td>\n",
              "      <td>0.0</td>\n",
              "    </tr>\n",
              "    <tr>\n",
              "      <th>2</th>\n",
              "      <td>AQU</td>\n",
              "      <td>2019-01-01 12:20:00</td>\n",
              "      <td>1</td>\n",
              "      <td>5</td>\n",
              "      <td>650</td>\n",
              "      <td>D</td>\n",
              "      <td>MY</td>\n",
              "      <td>36</td>\n",
              "      <td>AOC</td>\n",
              "      <td>80000</td>\n",
              "      <td>118</td>\n",
              "      <td>Manuel Franco</td>\n",
              "      <td>1150</td>\n",
              "      <td>0</td>\n",
              "      <td>1</td>\n",
              "      <td>Jc's Shooting Star</td>\n",
              "      <td>41.286390</td>\n",
              "      <td>81.25</td>\n",
              "      <td>0.0</td>\n",
              "      <td>0.0</td>\n",
              "      <td>0.0</td>\n",
              "    </tr>\n",
              "    <tr>\n",
              "      <th>3</th>\n",
              "      <td>AQU</td>\n",
              "      <td>2019-01-01 12:20:00</td>\n",
              "      <td>1</td>\n",
              "      <td>1</td>\n",
              "      <td>650</td>\n",
              "      <td>D</td>\n",
              "      <td>MY</td>\n",
              "      <td>36</td>\n",
              "      <td>AOC</td>\n",
              "      <td>80000</td>\n",
              "      <td>123</td>\n",
              "      <td>Dylan Davis</td>\n",
              "      <td>130</td>\n",
              "      <td>1</td>\n",
              "      <td>2</td>\n",
              "      <td>Sounds Delicious</td>\n",
              "      <td>40.898308</td>\n",
              "      <td>81.25</td>\n",
              "      <td>0.0</td>\n",
              "      <td>0.0</td>\n",
              "      <td>0.0</td>\n",
              "    </tr>\n",
              "    <tr>\n",
              "      <th>4</th>\n",
              "      <td>AQU</td>\n",
              "      <td>2019-01-01 12:20:00</td>\n",
              "      <td>1</td>\n",
              "      <td>2</td>\n",
              "      <td>650</td>\n",
              "      <td>D</td>\n",
              "      <td>MY</td>\n",
              "      <td>36</td>\n",
              "      <td>AOC</td>\n",
              "      <td>80000</td>\n",
              "      <td>120</td>\n",
              "      <td>Junior Alvarado</td>\n",
              "      <td>295</td>\n",
              "      <td>2</td>\n",
              "      <td>3</td>\n",
              "      <td>Crimson Frost</td>\n",
              "      <td>40.441267</td>\n",
              "      <td>81.25</td>\n",
              "      <td>0.0</td>\n",
              "      <td>0.0</td>\n",
              "      <td>0.0</td>\n",
              "    </tr>\n",
              "  </tbody>\n",
              "</table>\n",
              "</div>\n",
              "      <button class=\"colab-df-convert\" onclick=\"convertToInteractive('df-3b9b93f2-c1c8-49e5-9490-6d52d401156c')\"\n",
              "              title=\"Convert this dataframe to an interactive table.\"\n",
              "              style=\"display:none;\">\n",
              "        \n",
              "  <svg xmlns=\"http://www.w3.org/2000/svg\" height=\"24px\"viewBox=\"0 0 24 24\"\n",
              "       width=\"24px\">\n",
              "    <path d=\"M0 0h24v24H0V0z\" fill=\"none\"/>\n",
              "    <path d=\"M18.56 5.44l.94 2.06.94-2.06 2.06-.94-2.06-.94-.94-2.06-.94 2.06-2.06.94zm-11 1L8.5 8.5l.94-2.06 2.06-.94-2.06-.94L8.5 2.5l-.94 2.06-2.06.94zm10 10l.94 2.06.94-2.06 2.06-.94-2.06-.94-.94-2.06-.94 2.06-2.06.94z\"/><path d=\"M17.41 7.96l-1.37-1.37c-.4-.4-.92-.59-1.43-.59-.52 0-1.04.2-1.43.59L10.3 9.45l-7.72 7.72c-.78.78-.78 2.05 0 2.83L4 21.41c.39.39.9.59 1.41.59.51 0 1.02-.2 1.41-.59l7.78-7.78 2.81-2.81c.8-.78.8-2.07 0-2.86zM5.41 20L4 18.59l7.72-7.72 1.47 1.35L5.41 20z\"/>\n",
              "  </svg>\n",
              "      </button>\n",
              "      \n",
              "  <style>\n",
              "    .colab-df-container {\n",
              "      display:flex;\n",
              "      flex-wrap:wrap;\n",
              "      gap: 12px;\n",
              "    }\n",
              "\n",
              "    .colab-df-convert {\n",
              "      background-color: #E8F0FE;\n",
              "      border: none;\n",
              "      border-radius: 50%;\n",
              "      cursor: pointer;\n",
              "      display: none;\n",
              "      fill: #1967D2;\n",
              "      height: 32px;\n",
              "      padding: 0 0 0 0;\n",
              "      width: 32px;\n",
              "    }\n",
              "\n",
              "    .colab-df-convert:hover {\n",
              "      background-color: #E2EBFA;\n",
              "      box-shadow: 0px 1px 2px rgba(60, 64, 67, 0.3), 0px 1px 3px 1px rgba(60, 64, 67, 0.15);\n",
              "      fill: #174EA6;\n",
              "    }\n",
              "\n",
              "    [theme=dark] .colab-df-convert {\n",
              "      background-color: #3B4455;\n",
              "      fill: #D2E3FC;\n",
              "    }\n",
              "\n",
              "    [theme=dark] .colab-df-convert:hover {\n",
              "      background-color: #434B5C;\n",
              "      box-shadow: 0px 1px 3px 1px rgba(0, 0, 0, 0.15);\n",
              "      filter: drop-shadow(0px 1px 2px rgba(0, 0, 0, 0.3));\n",
              "      fill: #FFFFFF;\n",
              "    }\n",
              "  </style>\n",
              "\n",
              "      <script>\n",
              "        const buttonEl =\n",
              "          document.querySelector('#df-3b9b93f2-c1c8-49e5-9490-6d52d401156c button.colab-df-convert');\n",
              "        buttonEl.style.display =\n",
              "          google.colab.kernel.accessAllowed ? 'block' : 'none';\n",
              "\n",
              "        async function convertToInteractive(key) {\n",
              "          const element = document.querySelector('#df-3b9b93f2-c1c8-49e5-9490-6d52d401156c');\n",
              "          const dataTable =\n",
              "            await google.colab.kernel.invokeFunction('convertToInteractive',\n",
              "                                                     [key], {});\n",
              "          if (!dataTable) return;\n",
              "\n",
              "          const docLinkHtml = 'Like what you see? Visit the ' +\n",
              "            '<a target=\"_blank\" href=https://colab.research.google.com/notebooks/data_table.ipynb>data table notebook</a>'\n",
              "            + ' to learn more about interactive tables.';\n",
              "          element.innerHTML = '';\n",
              "          dataTable['output_type'] = 'display_data';\n",
              "          await google.colab.output.renderOutput(dataTable, element);\n",
              "          const docLink = document.createElement('div');\n",
              "          docLink.innerHTML = docLinkHtml;\n",
              "          element.appendChild(docLink);\n",
              "        }\n",
              "      </script>\n",
              "    </div>\n",
              "  </div>\n",
              "  "
            ]
          },
          "metadata": {},
          "execution_count": 13
        }
      ]
    },
    {
      "cell_type": "markdown",
      "source": [
        "## Bucket the race load features\n",
        "\n",
        "Creating feature buckets allows for non-linearity in our linear regression model, we potentially need this non-linearity to capture effects such as increase in horse speed with increase in races to a point after which too many races cause fatigue and we start to see horse's performance diminish further"
      ],
      "metadata": {
        "id": "8tp7rE8juPcv"
      }
    },
    {
      "cell_type": "code",
      "source": [
        "# Let's start by creating bins having widths of 250 miles\n",
        "nyra_df['cum_prev_race_distance_bins'] = pd.cut(\n",
        "    nyra_df['cum_prev_race_distance'],\n",
        "    bins = [0, 250, 500, 750, 1000, 2000],\n",
        "    include_lowest = True\n",
        ").astype(str)\n",
        "\n",
        "# Rename the first bin to be [0, 250] instead of the (-0.001, 250]\n",
        "nyra_df.loc[\n",
        "    nyra_df['cum_prev_race_distance_bins'] == '(-0.001, 250.0]',\n",
        "    'cum_prev_race_distance_bins'\n",
        "] = '0_250'\n",
        "# Rename rest of the columns to play well with statsmodels\n",
        "nyra_df.loc[\n",
        "    nyra_df['cum_prev_race_distance_bins'] == '(250.0, 500.0]',\n",
        "    'cum_prev_race_distance_bins'\n",
        "] = '251_500'\n",
        "nyra_df.loc[\n",
        "    nyra_df['cum_prev_race_distance_bins'] == '(500.0, 750.0]',\n",
        "    'cum_prev_race_distance_bins'\n",
        "] = '500_750'\n",
        "nyra_df.loc[\n",
        "    nyra_df['cum_prev_race_distance_bins'] == '(750.0, 1000.0]',\n",
        "    'cum_prev_race_distance_bins'\n",
        "] = '751_1000'\n",
        "nyra_df.loc[\n",
        "    nyra_df['cum_prev_race_distance_bins'] == '(1000.0, 2000.0]',\n",
        "    'cum_prev_race_distance_bins'\n",
        "] = '1001_2000'\n",
        "\n",
        "\n",
        "# Distribution of races across the bins \n",
        "(nyra_df['cum_prev_race_distance_bins'].value_counts() / nyra_df.shape[0]) * 100"
      ],
      "metadata": {
        "colab": {
          "base_uri": "https://localhost:8080/"
        },
        "id": "Ld9Kzsto2JUH",
        "outputId": "95d9bbf9-fc72-47f7-fceb-c99fee2e4a05"
      },
      "execution_count": 14,
      "outputs": [
        {
          "output_type": "execute_result",
          "data": {
            "text/plain": [
              "0_250        70.179045\n",
              "251_500      18.547745\n",
              "500_750       7.519894\n",
              "751_1000      2.553050\n",
              "1001_2000     1.200265\n",
              "Name: cum_prev_race_distance_bins, dtype: float64"
            ]
          },
          "metadata": {},
          "execution_count": 14
        }
      ]
    },
    {
      "cell_type": "code",
      "source": [
        "# Create one-hot encoding for the cum_prev_race_distance_bins column\n",
        "nyra_df = pd.get_dummies(nyra_df, columns = ['cum_prev_race_distance_bins'])\n",
        "# Drop the [0, 250] bucket (this will be our base level)\n",
        "nyra_df = nyra_df.drop('cum_prev_race_distance_bins_0_250', axis = 1)\n",
        "# Rename dummies to play well \n",
        "nyra_df.head(5)"
      ],
      "metadata": {
        "colab": {
          "base_uri": "https://localhost:8080/",
          "height": 444
        },
        "id": "qTsssusB4i4F",
        "outputId": "2c83daaa-83d4-4266-d5e2-3cf94a0a12b9"
      },
      "execution_count": 15,
      "outputs": [
        {
          "output_type": "execute_result",
          "data": {
            "text/plain": [
              "  track_id           race_date  race_number program_number  distance_id  \\\n",
              "0      AQU 2019-01-01 12:20:00            1              3          650   \n",
              "1      AQU 2019-01-01 12:20:00            1              4          650   \n",
              "2      AQU 2019-01-01 12:20:00            1              5          650   \n",
              "3      AQU 2019-01-01 12:20:00            1              1          650   \n",
              "4      AQU 2019-01-01 12:20:00            1              2          650   \n",
              "\n",
              "  course_type track_condition  run_up_distance race_type  purse  \\\n",
              "0           D             MY                36       AOC  80000   \n",
              "1           D             MY                36       AOC  80000   \n",
              "2           D             MY                36       AOC  80000   \n",
              "3           D             MY                36       AOC  80000   \n",
              "4           D             MY                36       AOC  80000   \n",
              "\n",
              "   weight_carried           jockey  odds  horse_id  finishing_place  \\\n",
              "0             118     Jose Lezcano   180         3                4   \n",
              "1             123     Jomar Garcia  1280         4                5   \n",
              "2             118    Manuel Franco  1150         0                1   \n",
              "3             123      Dylan Davis   130         1                2   \n",
              "4             120  Junior Alvarado   295         2                3   \n",
              "\n",
              "           horse_name  avg_race_speed  race_distance_miles  \\\n",
              "0   Friend of Liberty       40.323190                81.25   \n",
              "1        Bobby's Song       40.437696                81.25   \n",
              "2  Jc's Shooting Star       41.286390                81.25   \n",
              "3    Sounds Delicious       40.898308                81.25   \n",
              "4       Crimson Frost       40.441267                81.25   \n",
              "\n",
              "   cum_prev_race_distance  avg_time_from_last_race  time_from_last_race  \\\n",
              "0                     0.0                      0.0                  0.0   \n",
              "1                     0.0                      0.0                  0.0   \n",
              "2                     0.0                      0.0                  0.0   \n",
              "3                     0.0                      0.0                  0.0   \n",
              "4                     0.0                      0.0                  0.0   \n",
              "\n",
              "   cum_prev_race_distance_bins_1001_2000  cum_prev_race_distance_bins_251_500  \\\n",
              "0                                      0                                    0   \n",
              "1                                      0                                    0   \n",
              "2                                      0                                    0   \n",
              "3                                      0                                    0   \n",
              "4                                      0                                    0   \n",
              "\n",
              "   cum_prev_race_distance_bins_500_750  cum_prev_race_distance_bins_751_1000  \n",
              "0                                    0                                     0  \n",
              "1                                    0                                     0  \n",
              "2                                    0                                     0  \n",
              "3                                    0                                     0  \n",
              "4                                    0                                     0  "
            ],
            "text/html": [
              "\n",
              "  <div id=\"df-c4b45b08-3ed4-4ead-b7ab-1fc62b673b1c\">\n",
              "    <div class=\"colab-df-container\">\n",
              "      <div>\n",
              "<style scoped>\n",
              "    .dataframe tbody tr th:only-of-type {\n",
              "        vertical-align: middle;\n",
              "    }\n",
              "\n",
              "    .dataframe tbody tr th {\n",
              "        vertical-align: top;\n",
              "    }\n",
              "\n",
              "    .dataframe thead th {\n",
              "        text-align: right;\n",
              "    }\n",
              "</style>\n",
              "<table border=\"1\" class=\"dataframe\">\n",
              "  <thead>\n",
              "    <tr style=\"text-align: right;\">\n",
              "      <th></th>\n",
              "      <th>track_id</th>\n",
              "      <th>race_date</th>\n",
              "      <th>race_number</th>\n",
              "      <th>program_number</th>\n",
              "      <th>distance_id</th>\n",
              "      <th>course_type</th>\n",
              "      <th>track_condition</th>\n",
              "      <th>run_up_distance</th>\n",
              "      <th>race_type</th>\n",
              "      <th>purse</th>\n",
              "      <th>weight_carried</th>\n",
              "      <th>jockey</th>\n",
              "      <th>odds</th>\n",
              "      <th>horse_id</th>\n",
              "      <th>finishing_place</th>\n",
              "      <th>horse_name</th>\n",
              "      <th>avg_race_speed</th>\n",
              "      <th>race_distance_miles</th>\n",
              "      <th>cum_prev_race_distance</th>\n",
              "      <th>avg_time_from_last_race</th>\n",
              "      <th>time_from_last_race</th>\n",
              "      <th>cum_prev_race_distance_bins_1001_2000</th>\n",
              "      <th>cum_prev_race_distance_bins_251_500</th>\n",
              "      <th>cum_prev_race_distance_bins_500_750</th>\n",
              "      <th>cum_prev_race_distance_bins_751_1000</th>\n",
              "    </tr>\n",
              "  </thead>\n",
              "  <tbody>\n",
              "    <tr>\n",
              "      <th>0</th>\n",
              "      <td>AQU</td>\n",
              "      <td>2019-01-01 12:20:00</td>\n",
              "      <td>1</td>\n",
              "      <td>3</td>\n",
              "      <td>650</td>\n",
              "      <td>D</td>\n",
              "      <td>MY</td>\n",
              "      <td>36</td>\n",
              "      <td>AOC</td>\n",
              "      <td>80000</td>\n",
              "      <td>118</td>\n",
              "      <td>Jose Lezcano</td>\n",
              "      <td>180</td>\n",
              "      <td>3</td>\n",
              "      <td>4</td>\n",
              "      <td>Friend of Liberty</td>\n",
              "      <td>40.323190</td>\n",
              "      <td>81.25</td>\n",
              "      <td>0.0</td>\n",
              "      <td>0.0</td>\n",
              "      <td>0.0</td>\n",
              "      <td>0</td>\n",
              "      <td>0</td>\n",
              "      <td>0</td>\n",
              "      <td>0</td>\n",
              "    </tr>\n",
              "    <tr>\n",
              "      <th>1</th>\n",
              "      <td>AQU</td>\n",
              "      <td>2019-01-01 12:20:00</td>\n",
              "      <td>1</td>\n",
              "      <td>4</td>\n",
              "      <td>650</td>\n",
              "      <td>D</td>\n",
              "      <td>MY</td>\n",
              "      <td>36</td>\n",
              "      <td>AOC</td>\n",
              "      <td>80000</td>\n",
              "      <td>123</td>\n",
              "      <td>Jomar Garcia</td>\n",
              "      <td>1280</td>\n",
              "      <td>4</td>\n",
              "      <td>5</td>\n",
              "      <td>Bobby's Song</td>\n",
              "      <td>40.437696</td>\n",
              "      <td>81.25</td>\n",
              "      <td>0.0</td>\n",
              "      <td>0.0</td>\n",
              "      <td>0.0</td>\n",
              "      <td>0</td>\n",
              "      <td>0</td>\n",
              "      <td>0</td>\n",
              "      <td>0</td>\n",
              "    </tr>\n",
              "    <tr>\n",
              "      <th>2</th>\n",
              "      <td>AQU</td>\n",
              "      <td>2019-01-01 12:20:00</td>\n",
              "      <td>1</td>\n",
              "      <td>5</td>\n",
              "      <td>650</td>\n",
              "      <td>D</td>\n",
              "      <td>MY</td>\n",
              "      <td>36</td>\n",
              "      <td>AOC</td>\n",
              "      <td>80000</td>\n",
              "      <td>118</td>\n",
              "      <td>Manuel Franco</td>\n",
              "      <td>1150</td>\n",
              "      <td>0</td>\n",
              "      <td>1</td>\n",
              "      <td>Jc's Shooting Star</td>\n",
              "      <td>41.286390</td>\n",
              "      <td>81.25</td>\n",
              "      <td>0.0</td>\n",
              "      <td>0.0</td>\n",
              "      <td>0.0</td>\n",
              "      <td>0</td>\n",
              "      <td>0</td>\n",
              "      <td>0</td>\n",
              "      <td>0</td>\n",
              "    </tr>\n",
              "    <tr>\n",
              "      <th>3</th>\n",
              "      <td>AQU</td>\n",
              "      <td>2019-01-01 12:20:00</td>\n",
              "      <td>1</td>\n",
              "      <td>1</td>\n",
              "      <td>650</td>\n",
              "      <td>D</td>\n",
              "      <td>MY</td>\n",
              "      <td>36</td>\n",
              "      <td>AOC</td>\n",
              "      <td>80000</td>\n",
              "      <td>123</td>\n",
              "      <td>Dylan Davis</td>\n",
              "      <td>130</td>\n",
              "      <td>1</td>\n",
              "      <td>2</td>\n",
              "      <td>Sounds Delicious</td>\n",
              "      <td>40.898308</td>\n",
              "      <td>81.25</td>\n",
              "      <td>0.0</td>\n",
              "      <td>0.0</td>\n",
              "      <td>0.0</td>\n",
              "      <td>0</td>\n",
              "      <td>0</td>\n",
              "      <td>0</td>\n",
              "      <td>0</td>\n",
              "    </tr>\n",
              "    <tr>\n",
              "      <th>4</th>\n",
              "      <td>AQU</td>\n",
              "      <td>2019-01-01 12:20:00</td>\n",
              "      <td>1</td>\n",
              "      <td>2</td>\n",
              "      <td>650</td>\n",
              "      <td>D</td>\n",
              "      <td>MY</td>\n",
              "      <td>36</td>\n",
              "      <td>AOC</td>\n",
              "      <td>80000</td>\n",
              "      <td>120</td>\n",
              "      <td>Junior Alvarado</td>\n",
              "      <td>295</td>\n",
              "      <td>2</td>\n",
              "      <td>3</td>\n",
              "      <td>Crimson Frost</td>\n",
              "      <td>40.441267</td>\n",
              "      <td>81.25</td>\n",
              "      <td>0.0</td>\n",
              "      <td>0.0</td>\n",
              "      <td>0.0</td>\n",
              "      <td>0</td>\n",
              "      <td>0</td>\n",
              "      <td>0</td>\n",
              "      <td>0</td>\n",
              "    </tr>\n",
              "  </tbody>\n",
              "</table>\n",
              "</div>\n",
              "      <button class=\"colab-df-convert\" onclick=\"convertToInteractive('df-c4b45b08-3ed4-4ead-b7ab-1fc62b673b1c')\"\n",
              "              title=\"Convert this dataframe to an interactive table.\"\n",
              "              style=\"display:none;\">\n",
              "        \n",
              "  <svg xmlns=\"http://www.w3.org/2000/svg\" height=\"24px\"viewBox=\"0 0 24 24\"\n",
              "       width=\"24px\">\n",
              "    <path d=\"M0 0h24v24H0V0z\" fill=\"none\"/>\n",
              "    <path d=\"M18.56 5.44l.94 2.06.94-2.06 2.06-.94-2.06-.94-.94-2.06-.94 2.06-2.06.94zm-11 1L8.5 8.5l.94-2.06 2.06-.94-2.06-.94L8.5 2.5l-.94 2.06-2.06.94zm10 10l.94 2.06.94-2.06 2.06-.94-2.06-.94-.94-2.06-.94 2.06-2.06.94z\"/><path d=\"M17.41 7.96l-1.37-1.37c-.4-.4-.92-.59-1.43-.59-.52 0-1.04.2-1.43.59L10.3 9.45l-7.72 7.72c-.78.78-.78 2.05 0 2.83L4 21.41c.39.39.9.59 1.41.59.51 0 1.02-.2 1.41-.59l7.78-7.78 2.81-2.81c.8-.78.8-2.07 0-2.86zM5.41 20L4 18.59l7.72-7.72 1.47 1.35L5.41 20z\"/>\n",
              "  </svg>\n",
              "      </button>\n",
              "      \n",
              "  <style>\n",
              "    .colab-df-container {\n",
              "      display:flex;\n",
              "      flex-wrap:wrap;\n",
              "      gap: 12px;\n",
              "    }\n",
              "\n",
              "    .colab-df-convert {\n",
              "      background-color: #E8F0FE;\n",
              "      border: none;\n",
              "      border-radius: 50%;\n",
              "      cursor: pointer;\n",
              "      display: none;\n",
              "      fill: #1967D2;\n",
              "      height: 32px;\n",
              "      padding: 0 0 0 0;\n",
              "      width: 32px;\n",
              "    }\n",
              "\n",
              "    .colab-df-convert:hover {\n",
              "      background-color: #E2EBFA;\n",
              "      box-shadow: 0px 1px 2px rgba(60, 64, 67, 0.3), 0px 1px 3px 1px rgba(60, 64, 67, 0.15);\n",
              "      fill: #174EA6;\n",
              "    }\n",
              "\n",
              "    [theme=dark] .colab-df-convert {\n",
              "      background-color: #3B4455;\n",
              "      fill: #D2E3FC;\n",
              "    }\n",
              "\n",
              "    [theme=dark] .colab-df-convert:hover {\n",
              "      background-color: #434B5C;\n",
              "      box-shadow: 0px 1px 3px 1px rgba(0, 0, 0, 0.15);\n",
              "      filter: drop-shadow(0px 1px 2px rgba(0, 0, 0, 0.3));\n",
              "      fill: #FFFFFF;\n",
              "    }\n",
              "  </style>\n",
              "\n",
              "      <script>\n",
              "        const buttonEl =\n",
              "          document.querySelector('#df-c4b45b08-3ed4-4ead-b7ab-1fc62b673b1c button.colab-df-convert');\n",
              "        buttonEl.style.display =\n",
              "          google.colab.kernel.accessAllowed ? 'block' : 'none';\n",
              "\n",
              "        async function convertToInteractive(key) {\n",
              "          const element = document.querySelector('#df-c4b45b08-3ed4-4ead-b7ab-1fc62b673b1c');\n",
              "          const dataTable =\n",
              "            await google.colab.kernel.invokeFunction('convertToInteractive',\n",
              "                                                     [key], {});\n",
              "          if (!dataTable) return;\n",
              "\n",
              "          const docLinkHtml = 'Like what you see? Visit the ' +\n",
              "            '<a target=\"_blank\" href=https://colab.research.google.com/notebooks/data_table.ipynb>data table notebook</a>'\n",
              "            + ' to learn more about interactive tables.';\n",
              "          element.innerHTML = '';\n",
              "          dataTable['output_type'] = 'display_data';\n",
              "          await google.colab.output.renderOutput(dataTable, element);\n",
              "          const docLink = document.createElement('div');\n",
              "          docLink.innerHTML = docLinkHtml;\n",
              "          element.appendChild(docLink);\n",
              "        }\n",
              "      </script>\n",
              "    </div>\n",
              "  </div>\n",
              "  "
            ]
          },
          "metadata": {},
          "execution_count": 15
        }
      ]
    },
    {
      "cell_type": "markdown",
      "source": [
        "## Prepare the target\n",
        "\n",
        "$Target = \\frac{\\text{Speed in current race for horse}_i}{\\text{Avg speed across all races for horse}_i}$\n",
        "\n",
        "* In order to account for the change in speed rather than just the race speed which can vary by horses, we model the ratio of the race speed for a horse to the average speed we recorded for that horse\n",
        "* So a 0.8 target would indicate that $horse_i$ was 20% slower than its average speed in the race of interest"
      ],
      "metadata": {
        "id": "KBAj5IxtNrE_"
      }
    },
    {
      "cell_type": "code",
      "source": [
        "# Get the average speeds for horses across races\n",
        "horse_avg_speeds_df = nyra_df.groupby('horse_id').agg({'avg_race_speed' : 'mean', 'race_number' : 'count'}).reset_index()\n",
        "horse_avg_speeds_df = horse_avg_speeds_df.rename(columns = {'avg_race_speed' : 'avg_horse_speed', 'race_number' : 'race_count' })\n",
        "# Merge with nyra_df\n",
        "nyra_df = nyra_df.merge(horse_avg_speeds_df, how = 'left', on = 'horse_id')"
      ],
      "metadata": {
        "id": "s06RyDYXktoD"
      },
      "execution_count": 16,
      "outputs": []
    },
    {
      "cell_type": "code",
      "source": [
        "plt.hist(np.clip(horse_avg_speeds_df['avg_horse_speed'], a_min = 30, a_max = 50), bins = 20)"
      ],
      "metadata": {
        "colab": {
          "base_uri": "https://localhost:8080/",
          "height": 387
        },
        "id": "draUOgmjpybT",
        "outputId": "f08c105c-a34f-43c9-fd1c-6217e0226372"
      },
      "execution_count": 19,
      "outputs": [
        {
          "output_type": "execute_result",
          "data": {
            "text/plain": [
              "(array([7.000e+00, 0.000e+00, 1.000e+00, 7.000e+00, 8.000e+00, 9.000e+00,\n",
              "        2.600e+01, 7.200e+01, 1.670e+02, 3.920e+02, 8.700e+02, 1.330e+03,\n",
              "        1.071e+03, 4.310e+02, 1.200e+02, 4.800e+01, 2.000e+01, 5.000e+00,\n",
              "        1.100e+01, 4.300e+01]),\n",
              " array([30., 31., 32., 33., 34., 35., 36., 37., 38., 39., 40., 41., 42.,\n",
              "        43., 44., 45., 46., 47., 48., 49., 50.]),\n",
              " <a list of 20 Patch objects>)"
            ]
          },
          "metadata": {},
          "execution_count": 19
        },
        {
          "output_type": "display_data",
          "data": {
            "text/plain": [
              "<Figure size 432x288 with 1 Axes>"
            ],
            "image/png": "[encoded data removed]"
          },
          "metadata": {
            "needs_background": "light"
          }
        }
      ]
    },
    {
      "cell_type": "code",
      "source": [
        "# Calculate target\n",
        "nyra_df['target'] = nyra_df['avg_race_speed'] / nyra_df['avg_horse_speed']\n",
        "# Target desccription\n",
        "print(nyra_df['target'].describe())"
      ],
      "metadata": {
        "colab": {
          "base_uri": "https://localhost:8080/"
        },
        "id": "LCM4eA_7eO7w",
        "outputId": "e61072a9-c432-40dd-a42a-14b4ed8cc15d"
      },
      "execution_count": 237,
      "outputs": [
        {
          "output_type": "stream",
          "name": "stdout",
          "text": [
            "count    15080.000000\n",
            "mean         1.000000\n",
            "std          0.085408\n",
            "min          0.257663\n",
            "25%          0.982994\n",
            "50%          1.000000\n",
            "75%          1.015977\n",
            "max          4.416183\n",
            "Name: target, dtype: float64\n"
          ]
        }
      ]
    },
    {
      "cell_type": "code",
      "source": [
        "# Capping the target at the 95% percentile (ceil) and 1% percentile (floor)\n",
        "nyra_df['target'] = np.clip(nyra_df['target'], a_min = np.quantile(nyra_df['target'], 0.01), a_max = np.quantile(nyra_df['target'], 0.99))\n",
        "# Distribution of the target after capping\n",
        "print(nyra_df['target'].describe())\n",
        "# Histogram\n",
        "plt.figure(figsize = (10,6))\n",
        "plt.hist(nyra_df['target'], bins = 20)\n",
        "plt.xlabel('Target')\n",
        "plt.ylabel('Frequency')\n",
        "plt.title('Capped target')\n",
        "plt.show()"
      ],
      "metadata": {
        "colab": {
          "base_uri": "https://localhost:8080/",
          "height": 560
        },
        "id": "r0p8pBvWfR4T",
        "outputId": "4af7380f-fbce-4165-e95e-76dca15b5eb4"
      },
      "execution_count": 238,
      "outputs": [
        {
          "output_type": "stream",
          "name": "stdout",
          "text": [
            "count    15080.000000\n",
            "mean         0.997289\n",
            "std          0.037465\n",
            "min          0.834461\n",
            "25%          0.982994\n",
            "50%          1.000000\n",
            "75%          1.015977\n",
            "max          1.118229\n",
            "Name: target, dtype: float64\n"
          ]
        },
        {
          "output_type": "display_data",
          "data": {
            "text/plain": [
              "<Figure size 720x432 with 1 Axes>"
            ],
            "image/png": "[encoded data removed]"
          },
          "metadata": {
            "needs_background": "light"
          }
        }
      ]
    },
    {
      "cell_type": "markdown",
      "source": [
        "* The capped target appears to be somewhat normal (which we would expect) with a slightly longer tail towards the lower values\n",
        "* At max we see a 17% reduction in avg speed\n",
        "* At max we see a 11% improvement in avg speed\n",
        "\n",
        "We should plan to eliminate horses having fewer than 5 races as the avg horse speed and hence the target would be unstable with lesser number of races (samples)"
      ],
      "metadata": {
        "id": "J7IxNXBngiZV"
      }
    },
    {
      "cell_type": "markdown",
      "source": [
        "## Filter data for modeling"
      ],
      "metadata": {
        "id": "7mUw7-eNeHSx"
      }
    },
    {
      "cell_type": "code",
      "source": [
        "# # Filter to just the typical races i.e. dirt and fast type of track conditions\n",
        "# nyra_modeling_df = nyra_df.loc[\n",
        "#     (nyra_df['course_type'] == 'D') &\n",
        "#     (nyra_df['track_condition'] == 'FT '),\n",
        "#     :\n",
        "# ].copy()\n",
        "# # Look at the shape of the df\n",
        "# nyra_modeling_df.shape"
      ],
      "metadata": {
        "id": "tutNt8qRhqs6"
      },
      "execution_count": 239,
      "outputs": []
    },
    {
      "cell_type": "code",
      "source": [
        "# Filter out horses having less than 5 races\n",
        "nyra_modeling_df = nyra_df.loc[\n",
        "    (nyra_df['race_count'] >= 5),\n",
        "    #(nyra_df['course_type'] == 'D'),\n",
        "    :\n",
        "].copy()\n",
        "# Look at the shape of the df\n",
        "nyra_modeling_df.shape"
      ],
      "metadata": {
        "colab": {
          "base_uri": "https://localhost:8080/"
        },
        "id": "azMBHX0LdWu3",
        "outputId": "ff553d09-8244-49ef-b6ba-f0e547a65335"
      },
      "execution_count": 269,
      "outputs": [
        {
          "output_type": "execute_result",
          "data": {
            "text/plain": [
              "(7959, 28)"
            ]
          },
          "metadata": {},
          "execution_count": 269
        }
      ]
    },
    {
      "cell_type": "markdown",
      "source": [
        "## Select features for modeling"
      ],
      "metadata": {
        "id": "olfbx7Xol6TA"
      }
    },
    {
      "cell_type": "code",
      "source": [
        "# Columns in the df\n",
        "nyra_modeling_df.columns"
      ],
      "metadata": {
        "colab": {
          "base_uri": "https://localhost:8080/"
        },
        "id": "zWUQzl2kjr4P",
        "outputId": "e39d32e9-9b5a-430a-c778-086f310a6341"
      },
      "execution_count": 270,
      "outputs": [
        {
          "output_type": "execute_result",
          "data": {
            "text/plain": [
              "Index(['track_id', 'race_date', 'race_number', 'program_number', 'distance_id',\n",
              "       'course_type', 'track_condition', 'run_up_distance', 'race_type',\n",
              "       'purse', 'weight_carried', 'jockey', 'odds', 'horse_id',\n",
              "       'finishing_place', 'horse_name', 'avg_race_speed',\n",
              "       'race_distance_miles', 'cum_prev_race_distance',\n",
              "       'avg_time_from_last_race', 'time_from_last_race',\n",
              "       'cum_prev_race_distance_bins_1001_2000',\n",
              "       'cum_prev_race_distance_bins_251_500',\n",
              "       'cum_prev_race_distance_bins_500_750',\n",
              "       'cum_prev_race_distance_bins_751_1000', 'avg_horse_speed', 'race_count',\n",
              "       'target'],\n",
              "      dtype='object')"
            ]
          },
          "metadata": {},
          "execution_count": 270
        }
      ]
    },
    {
      "cell_type": "code",
      "source": [
        "# Select features and the target to use\n",
        "features = [\n",
        "    'weight_carried', 'odds', 'avg_time_from_last_race', 'race_distance_miles', 'purse', 'run_up_distance',\n",
        "    'cum_prev_race_distance_bins_1001_2000', 'cum_prev_race_distance_bins_251_500', 'cum_prev_race_distance_bins_500_750', 'cum_prev_race_distance_bins_751_1000',\n",
        "    'race_count'\n",
        "]  # 'time_from_last_race'\n",
        "\n",
        "target = ['target']"
      ],
      "metadata": {
        "id": "Iaic1SBSjqpP"
      },
      "execution_count": 277,
      "outputs": []
    },
    {
      "cell_type": "markdown",
      "source": [
        "Exploring modeling excitement lol!"
      ],
      "metadata": {
        "id": "J5lBmjFesno4"
      }
    },
    {
      "cell_type": "code",
      "source": [
        "plt.matshow(nyra_modeling_df[features].corr())\n",
        "plt.show()"
      ],
      "metadata": {
        "colab": {
          "base_uri": "https://localhost:8080/",
          "height": 275
        },
        "id": "skUmdk94k3iP",
        "outputId": "80429756-1bb5-4823-85c2-88c08b7b9bbe"
      },
      "execution_count": 278,
      "outputs": [
        {
          "output_type": "display_data",
          "data": {
            "text/plain": [
              "<Figure size 288x288 with 1 Axes>"
            ],
            "image/png": "[encoded data removed]"
          },
          "metadata": {
            "needs_background": "light"
          }
        }
      ]
    },
    {
      "cell_type": "code",
      "source": [
        "formula = 'target ~ ' + ' + '.join(features) + ' + cum_prev_race_distance_bins_751_1000 * avg_time_from_last_race + cum_prev_race_distance_bins_1001_2000 * avg_time_from_last_race + cum_prev_race_distance_bins_251_500 *  avg_time_from_last_race + cum_prev_race_distance_bins_500_750 * avg_time_from_last_race'\n",
        "print(formula)"
      ],
      "metadata": {
        "colab": {
          "base_uri": "https://localhost:8080/"
        },
        "id": "lCRs22x38TvW",
        "outputId": "29f2e5fe-664a-4cb7-9b95-27a2997fa403"
      },
      "execution_count": 279,
      "outputs": [
        {
          "output_type": "stream",
          "name": "stdout",
          "text": [
            "target ~ weight_carried + odds + avg_time_from_last_race + race_distance_miles + purse + run_up_distance + cum_prev_race_distance_bins_1001_2000 + cum_prev_race_distance_bins_251_500 + cum_prev_race_distance_bins_500_750 + cum_prev_race_distance_bins_751_1000 + race_count + cum_prev_race_distance_bins_751_1000 * avg_time_from_last_race + cum_prev_race_distance_bins_1001_2000 * avg_time_from_last_race + cum_prev_race_distance_bins_251_500 *  avg_time_from_last_race + cum_prev_race_distance_bins_500_750 * avg_time_from_last_race\n"
          ]
        }
      ]
    },
    {
      "cell_type": "code",
      "source": [
        "import statsmodels.formula.api as smf\n",
        "\n",
        "model = smf.ols(formula = formula, data = nyra_modeling_df).fit()\n",
        "\n",
        "# model summary\n",
        "print(model.summary())"
      ],
      "metadata": {
        "colab": {
          "base_uri": "https://localhost:8080/"
        },
        "id": "7HIWkJcXkg3Q",
        "outputId": "48fd73ff-d738-4b7d-d6c8-78aec0cc6d90"
      },
      "execution_count": 280,
      "outputs": [
        {
          "output_type": "stream",
          "name": "stdout",
          "text": [
            "                            OLS Regression Results                            \n",
            "==============================================================================\n",
            "Dep. Variable:                 target   R-squared:                       0.067\n",
            "Model:                            OLS   Adj. R-squared:                  0.065\n",
            "Method:                 Least Squares   F-statistic:                     37.76\n",
            "Date:                Thu, 08 Sep 2022   Prob (F-statistic):          4.78e-107\n",
            "Time:                        03:34:07   Log-Likelihood:                 14002.\n",
            "No. Observations:                7959   AIC:                        -2.797e+04\n",
            "Df Residuals:                    7943   BIC:                        -2.786e+04\n",
            "Df Model:                          15                                         \n",
            "Covariance Type:            nonrobust                                         \n",
            "=================================================================================================================================\n",
            "                                                                    coef    std err          t      P>|t|      [0.025      0.975]\n",
            "---------------------------------------------------------------------------------------------------------------------------------\n",
            "Intercept                                                         1.0184      0.019     54.246      0.000       0.982       1.055\n",
            "weight_carried                                                 8.341e-05      0.000      0.536      0.592      -0.000       0.000\n",
            "odds                                                           2.342e-07   2.46e-07      0.953      0.341   -2.48e-07    7.16e-07\n",
            "avg_time_from_last_race                                           0.0002   2.71e-05      8.441      0.000       0.000       0.000\n",
            "race_distance_miles                                              -0.0006   3.28e-05    -16.785      0.000      -0.001      -0.000\n",
            "purse                                                          2.764e-08   6.29e-09      4.397      0.000    1.53e-08       4e-08\n",
            "run_up_distance                                                   0.0002   1.39e-05     11.753      0.000       0.000       0.000\n",
            "cum_prev_race_distance_bins_1001_2000                             0.0515      0.014      3.768      0.000       0.025       0.078\n",
            "cum_prev_race_distance_bins_251_500                               0.0103      0.002      4.242      0.000       0.006       0.015\n",
            "cum_prev_race_distance_bins_500_750                               0.0295      0.005      6.368      0.000       0.020       0.039\n",
            "cum_prev_race_distance_bins_751_1000                              0.0574      0.009      6.156      0.000       0.039       0.076\n",
            "race_count                                                       -0.0009      0.000     -4.656      0.000      -0.001      -0.001\n",
            "cum_prev_race_distance_bins_751_1000:avg_time_from_last_race     -0.0017      0.000     -5.221      0.000      -0.002      -0.001\n",
            "cum_prev_race_distance_bins_1001_2000:avg_time_from_last_race    -0.0020      0.001     -3.300      0.001      -0.003      -0.001\n",
            "cum_prev_race_distance_bins_251_500:avg_time_from_last_race      -0.0001   6.38e-05     -1.756      0.079      -0.000    1.31e-05\n",
            "cum_prev_race_distance_bins_500_750:avg_time_from_last_race      -0.0007      0.000     -4.805      0.000      -0.001      -0.000\n",
            "==============================================================================\n",
            "Omnibus:                     1659.462   Durbin-Watson:                   1.607\n",
            "Prob(Omnibus):                  0.000   Jarque-Bera (JB):             5819.368\n",
            "Skew:                          -1.027   Prob(JB):                         0.00\n",
            "Kurtosis:                       6.651   Cond. No.                     4.12e+06\n",
            "==============================================================================\n",
            "\n",
            "Notes:\n",
            "[1] Standard Errors assume that the covariance matrix of the errors is correctly specified.\n",
            "[2] The condition number is large, 4.12e+06. This might indicate that there are\n",
            "strong multicollinearity or other numerical problems.\n"
          ]
        }
      ]
    },
    {
      "cell_type": "code",
      "source": [
        "from sklearn.ensemble import RandomForestRegressor\n",
        "\n",
        "test_model = RandomForestRegressor()\n",
        "\n",
        "test_model = test_model.fit(nyra_modeling_df[features], nyra_modeling_df[target])"
      ],
      "metadata": {
        "colab": {
          "base_uri": "https://localhost:8080/"
        },
        "id": "YdgiulzpF65i",
        "outputId": "437ca85f-db04-4252-cd54-9d65bcaa5946"
      },
      "execution_count": 275,
      "outputs": [
        {
          "output_type": "stream",
          "name": "stderr",
          "text": [
            "/usr/local/lib/python3.7/dist-packages/ipykernel_launcher.py:5: DataConversionWarning: A column-vector y was passed when a 1d array was expected. Please change the shape of y to (n_samples,), for example using ravel().\n",
            "  \"\"\"\n"
          ]
        }
      ]
    },
    {
      "cell_type": "code",
      "source": [
        "features = features\n",
        "importances = test_model.feature_importances_\n",
        "indices = np.argsort(importances)\n",
        "\n",
        "plt.title('Feature Importances')\n",
        "plt.barh(range(len(indices)), importances[indices], color='b', align='center')\n",
        "plt.yticks(range(len(indices)), [features[i] for i in indices])\n",
        "plt.xlabel('Relative Importance')\n",
        "plt.show()"
      ],
      "metadata": {
        "colab": {
          "base_uri": "https://localhost:8080/",
          "height": 295
        },
        "id": "-UehdbMoGsWG",
        "outputId": "61d41111-51e7-4e11-db95-86ef0ce91e95"
      },
      "execution_count": 276,
      "outputs": [
        {
          "output_type": "display_data",
          "data": {
            "text/plain": [
              "<Figure size 432x288 with 1 Axes>"
            ],
            "image/png": "[encoded data removed]"
          },
          "metadata": {
            "needs_background": "light"
          }
        }
      ]
    },
    {
      "cell_type": "code",
      "source": [
        "mape(nyra_modeling_df['target'], test_model.predict(nyra_modeling_df[features])) * 100"
      ],
      "metadata": {
        "colab": {
          "base_uri": "https://localhost:8080/"
        },
        "id": "7bYedRKFGP9L",
        "outputId": "07ae4088-6756-4d24-825c-e68d94953bb2"
      },
      "execution_count": 257,
      "outputs": [
        {
          "output_type": "execute_result",
          "data": {
            "text/plain": [
              "1.1104690916348134"
            ]
          },
          "metadata": {},
          "execution_count": 257
        }
      ]
    },
    {
      "cell_type": "code",
      "source": [
        "from sklearn.metrics import mean_absolute_percentage_error as mape\n",
        "from sklearn.metrics import mean_absolute_error as mae\n",
        "\n",
        "mape(nyra_modeling_df['target'], model.predict(nyra_modeling_df)) * 100\n",
        "#mae(nyra_modeling_df['target'], model.predict(nyra_modeling_df)) * 100"
      ],
      "metadata": {
        "colab": {
          "base_uri": "https://localhost:8080/"
        },
        "id": "HTLD3uLtlubB",
        "outputId": "7dddf181-22e5-4603-b720-8b18f5e4cef8"
      },
      "execution_count": 254,
      "outputs": [
        {
          "output_type": "execute_result",
          "data": {
            "text/plain": [
              "2.9815188981115748"
            ]
          },
          "metadata": {},
          "execution_count": 254
        }
      ]
    },
    {
      "cell_type": "code",
      "source": [
        "nyra_modeling_df.iloc[2,:]"
      ],
      "metadata": {
        "colab": {
          "base_uri": "https://localhost:8080/"
        },
        "id": "r8fNFS2fqeBP",
        "outputId": "f3b465cd-ad09-4e0b-c7be-9ff1ba895009"
      },
      "execution_count": null,
      "outputs": [
        {
          "output_type": "execute_result",
          "data": {
            "text/plain": [
              "weight_carried             121.000000\n",
              "odds                       580.000000\n",
              "cum_prev_race_distance     100.000000\n",
              "avg_time_from_last_race      7.000000\n",
              "target                       1.022828\n",
              "Name: 362, dtype: float64"
            ]
          },
          "metadata": {},
          "execution_count": 239
        }
      ]
    },
    {
      "cell_type": "code",
      "source": [
        "nyra_modeling_df.iloc[3,:]"
      ],
      "metadata": {
        "colab": {
          "base_uri": "https://localhost:8080/"
        },
        "id": "wxjD97sZqM8G",
        "outputId": "ef023c23-d5bd-427a-f9ba-ccb2dc5e4a46"
      },
      "execution_count": null,
      "outputs": [
        {
          "output_type": "execute_result",
          "data": {
            "text/plain": [
              "weight_carried             122.000000\n",
              "odds                       950.000000\n",
              "cum_prev_race_distance      87.500000\n",
              "avg_time_from_last_race      9.000000\n",
              "target                       1.000626\n",
              "Name: 396, dtype: float64"
            ]
          },
          "metadata": {},
          "execution_count": 240
        }
      ]
    },
    {
      "cell_type": "code",
      "source": [
        "model.predict(nyra_modeling_df).iloc[2]"
      ],
      "metadata": {
        "colab": {
          "base_uri": "https://localhost:8080/"
        },
        "id": "8hNal0YCqRl3",
        "outputId": "63b9bb8a-baa6-4eec-f410-88f2f12bc9a7"
      },
      "execution_count": null,
      "outputs": [
        {
          "output_type": "execute_result",
          "data": {
            "text/plain": [
              "0.986353001375075"
            ]
          },
          "metadata": {},
          "execution_count": 241
        }
      ]
    },
    {
      "cell_type": "code",
      "source": [
        "mape(nyra_modeling_df['target'], [1 for i in range(nyra_modeling_df.shape[0])]) * 100\n",
        "#mae(nyra_modeling_df['target'], [1 for i in range(nyra_modeling_df.shape[0])]) * 100"
      ],
      "metadata": {
        "colab": {
          "base_uri": "https://localhost:8080/"
        },
        "id": "YBbfSiumm0qX",
        "outputId": "5038bce2-a368-4f9f-e07b-278d3b6140a5"
      },
      "execution_count": 258,
      "outputs": [
        {
          "output_type": "execute_result",
          "data": {
            "text/plain": [
              "3.1665237830304087"
            ]
          },
          "metadata": {},
          "execution_count": 258
        }
      ]
    },
    {
      "cell_type": "markdown",
      "source": [
        "## Get a holdout set"
      ],
      "metadata": {
        "id": "SEmp8O8gjiQp"
      }
    },
    {
      "cell_type": "code",
      "source": [
        "# Use sklearn functions for getting the holdout set"
      ],
      "metadata": {
        "id": "YSUSqz4ejla4"
      },
      "execution_count": null,
      "outputs": []
    },
    {
      "cell_type": "code",
      "source": [
        "print('I\\'m alive')"
      ],
      "metadata": {
        "colab": {
          "base_uri": "https://localhost:8080/"
        },
        "id": "2YIe_Q59-Hyn",
        "outputId": "cf7a1e22-4f36-43be-b3e1-1e87413a750f"
      },
      "execution_count": null,
      "outputs": [
        {
          "output_type": "stream",
          "name": "stdout",
          "text": [
            "I'm alive\n"
          ]
        }
      ]
    },
    {
      "cell_type": "code",
      "source": [
        "nyra_df.columns"
      ],
      "metadata": {
        "colab": {
          "base_uri": "https://localhost:8080/"
        },
        "id": "b2rqT-7zBfVU",
        "outputId": "39fe1375-41ff-44b4-f41f-733641fbded6"
      },
      "execution_count": 173,
      "outputs": [
        {
          "output_type": "execute_result",
          "data": {
            "text/plain": [
              "Index(['track_id', 'race_date', 'race_number', 'program_number', 'distance_id',\n",
              "       'course_type', 'track_condition', 'run_up_distance', 'race_type',\n",
              "       'purse', 'weight_carried', 'jockey', 'odds', 'horse_id',\n",
              "       'finishing_place', 'horse_name', 'avg_race_speed',\n",
              "       'race_distance_miles', 'cum_prev_race_distance',\n",
              "       'avg_time_from_last_race', 'time_from_last_race',\n",
              "       'cum_prev_race_distance_bins_1000_2000',\n",
              "       'cum_prev_race_distance_bins_251_500',\n",
              "       'cum_prev_race_distance_bins_500_750',\n",
              "       'cum_prev_race_distance_bins_751_1000', 'avg_horse_speed', 'race_count',\n",
              "       'target'],\n",
              "      dtype='object')"
            ]
          },
          "metadata": {},
          "execution_count": 173
        }
      ]
    },
    {
      "cell_type": "code",
      "source": [
        "nyra_df.groupby(nyra_df['course_type']).agg({'avg_race_speed' : 'mean', 'race_number' : 'count'}).reset_index()"
      ],
      "metadata": {
        "id": "1RL1jZ2i90TV",
        "colab": {
          "base_uri": "https://localhost:8080/",
          "height": 206
        },
        "outputId": "d504edd2-4611-4b7e-8699-ef5e75dca971"
      },
      "execution_count": 176,
      "outputs": [
        {
          "output_type": "execute_result",
          "data": {
            "text/plain": [
              "  course_type  avg_race_speed  race_number\n",
              "0           D       41.257293         9570\n",
              "1           I       42.766970         2002\n",
              "2           M       38.590039           76\n",
              "3           O       42.434696          621\n",
              "4           T       43.047329         2811"
            ],
            "text/html": [
              "\n",
              "  <div id=\"df-309d77d0-3f38-4b2f-9f6d-abeaf78d74a5\">\n",
              "    <div class=\"colab-df-container\">\n",
              "      <div>\n",
              "<style scoped>\n",
              "    .dataframe tbody tr th:only-of-type {\n",
              "        vertical-align: middle;\n",
              "    }\n",
              "\n",
              "    .dataframe tbody tr th {\n",
              "        vertical-align: top;\n",
              "    }\n",
              "\n",
              "    .dataframe thead th {\n",
              "        text-align: right;\n",
              "    }\n",
              "</style>\n",
              "<table border=\"1\" class=\"dataframe\">\n",
              "  <thead>\n",
              "    <tr style=\"text-align: right;\">\n",
              "      <th></th>\n",
              "      <th>course_type</th>\n",
              "      <th>avg_race_speed</th>\n",
              "      <th>race_number</th>\n",
              "    </tr>\n",
              "  </thead>\n",
              "  <tbody>\n",
              "    <tr>\n",
              "      <th>0</th>\n",
              "      <td>D</td>\n",
              "      <td>41.257293</td>\n",
              "      <td>9570</td>\n",
              "    </tr>\n",
              "    <tr>\n",
              "      <th>1</th>\n",
              "      <td>I</td>\n",
              "      <td>42.766970</td>\n",
              "      <td>2002</td>\n",
              "    </tr>\n",
              "    <tr>\n",
              "      <th>2</th>\n",
              "      <td>M</td>\n",
              "      <td>38.590039</td>\n",
              "      <td>76</td>\n",
              "    </tr>\n",
              "    <tr>\n",
              "      <th>3</th>\n",
              "      <td>O</td>\n",
              "      <td>42.434696</td>\n",
              "      <td>621</td>\n",
              "    </tr>\n",
              "    <tr>\n",
              "      <th>4</th>\n",
              "      <td>T</td>\n",
              "      <td>43.047329</td>\n",
              "      <td>2811</td>\n",
              "    </tr>\n",
              "  </tbody>\n",
              "</table>\n",
              "</div>\n",
              "      <button class=\"colab-df-convert\" onclick=\"convertToInteractive('df-309d77d0-3f38-4b2f-9f6d-abeaf78d74a5')\"\n",
              "              title=\"Convert this dataframe to an interactive table.\"\n",
              "              style=\"display:none;\">\n",
              "        \n",
              "  <svg xmlns=\"http://www.w3.org/2000/svg\" height=\"24px\"viewBox=\"0 0 24 24\"\n",
              "       width=\"24px\">\n",
              "    <path d=\"M0 0h24v24H0V0z\" fill=\"none\"/>\n",
              "    <path d=\"M18.56 5.44l.94 2.06.94-2.06 2.06-.94-2.06-.94-.94-2.06-.94 2.06-2.06.94zm-11 1L8.5 8.5l.94-2.06 2.06-.94-2.06-.94L8.5 2.5l-.94 2.06-2.06.94zm10 10l.94 2.06.94-2.06 2.06-.94-2.06-.94-.94-2.06-.94 2.06-2.06.94z\"/><path d=\"M17.41 7.96l-1.37-1.37c-.4-.4-.92-.59-1.43-.59-.52 0-1.04.2-1.43.59L10.3 9.45l-7.72 7.72c-.78.78-.78 2.05 0 2.83L4 21.41c.39.39.9.59 1.41.59.51 0 1.02-.2 1.41-.59l7.78-7.78 2.81-2.81c.8-.78.8-2.07 0-2.86zM5.41 20L4 18.59l7.72-7.72 1.47 1.35L5.41 20z\"/>\n",
              "  </svg>\n",
              "      </button>\n",
              "      \n",
              "  <style>\n",
              "    .colab-df-container {\n",
              "      display:flex;\n",
              "      flex-wrap:wrap;\n",
              "      gap: 12px;\n",
              "    }\n",
              "\n",
              "    .colab-df-convert {\n",
              "      background-color: #E8F0FE;\n",
              "      border: none;\n",
              "      border-radius: 50%;\n",
              "      cursor: pointer;\n",
              "      display: none;\n",
              "      fill: #1967D2;\n",
              "      height: 32px;\n",
              "      padding: 0 0 0 0;\n",
              "      width: 32px;\n",
              "    }\n",
              "\n",
              "    .colab-df-convert:hover {\n",
              "      background-color: #E2EBFA;\n",
              "      box-shadow: 0px 1px 2px rgba(60, 64, 67, 0.3), 0px 1px 3px 1px rgba(60, 64, 67, 0.15);\n",
              "      fill: #174EA6;\n",
              "    }\n",
              "\n",
              "    [theme=dark] .colab-df-convert {\n",
              "      background-color: #3B4455;\n",
              "      fill: #D2E3FC;\n",
              "    }\n",
              "\n",
              "    [theme=dark] .colab-df-convert:hover {\n",
              "      background-color: #434B5C;\n",
              "      box-shadow: 0px 1px 3px 1px rgba(0, 0, 0, 0.15);\n",
              "      filter: drop-shadow(0px 1px 2px rgba(0, 0, 0, 0.3));\n",
              "      fill: #FFFFFF;\n",
              "    }\n",
              "  </style>\n",
              "\n",
              "      <script>\n",
              "        const buttonEl =\n",
              "          document.querySelector('#df-309d77d0-3f38-4b2f-9f6d-abeaf78d74a5 button.colab-df-convert');\n",
              "        buttonEl.style.display =\n",
              "          google.colab.kernel.accessAllowed ? 'block' : 'none';\n",
              "\n",
              "        async function convertToInteractive(key) {\n",
              "          const element = document.querySelector('#df-309d77d0-3f38-4b2f-9f6d-abeaf78d74a5');\n",
              "          const dataTable =\n",
              "            await google.colab.kernel.invokeFunction('convertToInteractive',\n",
              "                                                     [key], {});\n",
              "          if (!dataTable) return;\n",
              "\n",
              "          const docLinkHtml = 'Like what you see? Visit the ' +\n",
              "            '<a target=\"_blank\" href=https://colab.research.google.com/notebooks/data_table.ipynb>data table notebook</a>'\n",
              "            + ' to learn more about interactive tables.';\n",
              "          element.innerHTML = '';\n",
              "          dataTable['output_type'] = 'display_data';\n",
              "          await google.colab.output.renderOutput(dataTable, element);\n",
              "          const docLink = document.createElement('div');\n",
              "          docLink.innerHTML = docLinkHtml;\n",
              "          element.appendChild(docLink);\n",
              "        }\n",
              "      </script>\n",
              "    </div>\n",
              "  </div>\n",
              "  "
            ]
          },
          "metadata": {},
          "execution_count": 176
        }
      ]
    }
  ]
}