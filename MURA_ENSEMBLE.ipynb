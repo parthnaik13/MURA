{
  "nbformat": 4,
  "nbformat_minor": 0,
  "metadata": {
    "colab": {
      "name": "MURA_ENSEMBLE.ipynb",
      "version": "0.3.2",
      "provenance": [],
      "collapsed_sections": [],
      "toc_visible": true
    },
    "kernelspec": {
      "name": "python3",
      "display_name": "Python 3"
    }
  },
  "cells": [
    {
      "cell_type": "markdown",
      "metadata": {
        "id": "yqzNXxDqTXZE",
        "colab_type": "text"
      },
      "source": [
        "# MURA project deep learning"
      ]
    },
    {
      "cell_type": "markdown",
      "metadata": {
        "id": "Zql7i_4ht2oo",
        "colab_type": "text"
      },
      "source": [
        "### Updates - 04/23/2019\n",
        "1. Selected on ELBOW for training our models.\n",
        "2. Models(pre-built) are now training w/o errors.\n",
        "3. Need to fix issue of stagnant train acc,loss and volatile valid acc,loss by shuffling train and valid lists.\n",
        "\n",
        "### Updates - 04/20/2019\n",
        "1. Reshaping the images to be of size 512x512 which is the size used in most of the MURA implementaions on github.\n",
        "2. Reshaping is done by black padding the images so that the original image stays in the center."
      ]
    },
    {
      "cell_type": "markdown",
      "metadata": {
        "id": "X5QYtOa3TeYT",
        "colab_type": "text"
      },
      "source": [
        "Dataset and competition page - https://stanfordmlgroup.github.io/competitions/mura/"
      ]
    },
    {
      "cell_type": "code",
      "metadata": {
        "id": "jVUbC90FTlKZ",
        "colab_type": "code",
        "colab": {}
      },
      "source": [
        "# Import necessary libraries\n",
        "\n",
        "# Numerical computation\n",
        "import numpy as np\n",
        "\n",
        "# Data manipulation\n",
        "import pandas as pd\n",
        "\n",
        "# Deep Learning libraries\n",
        "import tensorflow as tf\n",
        "from tensorflow.python import keras\n",
        "\n",
        "# Data Viz\n",
        "import matplotlib.pyplot as plt\n",
        "%matplotlib inline\n",
        "\n",
        "# Operating system lib\n",
        "import os"
      ],
      "execution_count": 0,
      "outputs": []
    },
    {
      "cell_type": "code",
      "metadata": {
        "id": "yDzBSSW-J30z",
        "colab_type": "code",
        "outputId": "7296c9ee-5ce8-460e-f359-6c97508e102e",
        "colab": {
          "base_uri": "https://localhost:8080/",
          "height": 34
        }
      },
      "source": [
        "# Download the MURA dataset\n",
        "# Reference -\n",
        "from urllib.request import urlretrieve\n",
        "from zipfile import ZipFile\n",
        "\n",
        "def download(url, file):\n",
        "    if not os.path.isfile(file):\n",
        "        print(\"Download file... \" + file + \" ...\")\n",
        "        urlretrieve(url,file)\n",
        "        print(\"File downloaded\")\n",
        "\n",
        "download('https://cs.stanford.edu/group/mlgroup/MURA-v1.1.zip','MURA.zip')\n",
        "print(\"All the files are downloaded\")"
      ],
      "execution_count": 0,
      "outputs": [
        {
          "output_type": "stream",
          "text": [
            "All the files are downloaded\n"
          ],
          "name": "stdout"
        }
      ]
    },
    {
      "cell_type": "code",
      "metadata": {
        "id": "DzUZVhw_MH09",
        "colab_type": "code",
        "outputId": "52c8698f-59a0-48ff-a505-48e921edca93",
        "colab": {
          "base_uri": "https://localhost:8080/",
          "height": 68
        }
      },
      "source": [
        "# Unzip the file\n",
        "!unzip MURA.zip"
      ],
      "execution_count": 0,
      "outputs": [
        {
          "output_type": "stream",
          "text": [
            "Archive:  MURA.zip\n",
            "replace MURA-v1.1/train_labeled_studies.csv? [y]es, [n]o, [A]ll, [N]one, [r]ename: N\n",
            "N\n"
          ],
          "name": "stdout"
        }
      ]
    },
    {
      "cell_type": "code",
      "metadata": {
        "id": "mM4LL7sJSHge",
        "colab_type": "code",
        "outputId": "56f5dbab-010d-45f9-ce60-4d86e8003b05",
        "colab": {
          "base_uri": "https://localhost:8080/",
          "height": 119
        }
      },
      "source": [
        "# Change working directory and display the files and folders within the MURA-v1.1 directory\n",
        "os.chdir('MURA-v1.1')\n",
        "os.listdir()"
      ],
      "execution_count": 0,
      "outputs": [
        {
          "output_type": "execute_result",
          "data": {
            "text/plain": [
              "['train',\n",
              " 'valid_image_paths.csv',\n",
              " 'train_image_paths.csv',\n",
              " 'train_labeled_studies.csv',\n",
              " 'valid_labeled_studies.csv',\n",
              " 'valid']"
            ]
          },
          "metadata": {
            "tags": []
          },
          "execution_count": 15
        }
      ]
    },
    {
      "cell_type": "code",
      "metadata": {
        "id": "r5rg2ol0SZuB",
        "colab_type": "code",
        "outputId": "663473f9-b714-4530-d9b9-193780e62a9c",
        "colab": {
          "base_uri": "https://localhost:8080/",
          "height": 204
        }
      },
      "source": [
        "# Load the csv file as a pandas df containing the training image paths\n",
        "train_image_paths = pd.read_csv('train_image_paths.csv',header=None)\n",
        "train_image_paths.columns = ['image_path']\n",
        "train_image_paths.head(5)\n",
        "\n",
        "# Load the csv file as a pandas df containing the validation image paths\n",
        "valid_image_paths = pd.read_csv('valid_image_paths.csv',header=None)\n",
        "valid_image_paths.columns = ['image_path']\n",
        "valid_image_paths.head(5)"
      ],
      "execution_count": 0,
      "outputs": [
        {
          "output_type": "execute_result",
          "data": {
            "text/html": [
              "<div>\n",
              "<style scoped>\n",
              "    .dataframe tbody tr th:only-of-type {\n",
              "        vertical-align: middle;\n",
              "    }\n",
              "\n",
              "    .dataframe tbody tr th {\n",
              "        vertical-align: top;\n",
              "    }\n",
              "\n",
              "    .dataframe thead th {\n",
              "        text-align: right;\n",
              "    }\n",
              "</style>\n",
              "<table border=\"1\" class=\"dataframe\">\n",
              "  <thead>\n",
              "    <tr style=\"text-align: right;\">\n",
              "      <th></th>\n",
              "      <th>image_path</th>\n",
              "    </tr>\n",
              "  </thead>\n",
              "  <tbody>\n",
              "    <tr>\n",
              "      <th>0</th>\n",
              "      <td>MURA-v1.1/valid/XR_WRIST/patient11185/study1_p...</td>\n",
              "    </tr>\n",
              "    <tr>\n",
              "      <th>1</th>\n",
              "      <td>MURA-v1.1/valid/XR_WRIST/patient11185/study1_p...</td>\n",
              "    </tr>\n",
              "    <tr>\n",
              "      <th>2</th>\n",
              "      <td>MURA-v1.1/valid/XR_WRIST/patient11185/study1_p...</td>\n",
              "    </tr>\n",
              "    <tr>\n",
              "      <th>3</th>\n",
              "      <td>MURA-v1.1/valid/XR_WRIST/patient11185/study1_p...</td>\n",
              "    </tr>\n",
              "    <tr>\n",
              "      <th>4</th>\n",
              "      <td>MURA-v1.1/valid/XR_WRIST/patient11186/study1_p...</td>\n",
              "    </tr>\n",
              "  </tbody>\n",
              "</table>\n",
              "</div>"
            ],
            "text/plain": [
              "                                          image_path\n",
              "0  MURA-v1.1/valid/XR_WRIST/patient11185/study1_p...\n",
              "1  MURA-v1.1/valid/XR_WRIST/patient11185/study1_p...\n",
              "2  MURA-v1.1/valid/XR_WRIST/patient11185/study1_p...\n",
              "3  MURA-v1.1/valid/XR_WRIST/patient11185/study1_p...\n",
              "4  MURA-v1.1/valid/XR_WRIST/patient11186/study1_p..."
            ]
          },
          "metadata": {
            "tags": []
          },
          "execution_count": 16
        }
      ]
    },
    {
      "cell_type": "code",
      "metadata": {
        "id": "YL1qBIsCSkER",
        "colab_type": "code",
        "outputId": "88623c6c-37d8-40a7-80a7-8d96e1a99697",
        "colab": {
          "base_uri": "https://localhost:8080/",
          "height": 204
        }
      },
      "source": [
        "# Load the csv file as a pandas df containing the training study labels\n",
        "train_labelled_studies = pd.read_csv('train_labeled_studies.csv',header=None)\n",
        "train_labelled_studies.columns = ['study_name','label']\n",
        "train_labelled_studies.head(5)\n",
        "\n",
        "# Load the csv file as a pandas df containing the validation study labels\n",
        "valid_labelled_studies = pd.read_csv('valid_labeled_studies.csv',header=None)\n",
        "valid_labelled_studies.columns = ['study_name','label']\n",
        "valid_labelled_studies.head(5)"
      ],
      "execution_count": 0,
      "outputs": [
        {
          "output_type": "execute_result",
          "data": {
            "text/html": [
              "<div>\n",
              "<style scoped>\n",
              "    .dataframe tbody tr th:only-of-type {\n",
              "        vertical-align: middle;\n",
              "    }\n",
              "\n",
              "    .dataframe tbody tr th {\n",
              "        vertical-align: top;\n",
              "    }\n",
              "\n",
              "    .dataframe thead th {\n",
              "        text-align: right;\n",
              "    }\n",
              "</style>\n",
              "<table border=\"1\" class=\"dataframe\">\n",
              "  <thead>\n",
              "    <tr style=\"text-align: right;\">\n",
              "      <th></th>\n",
              "      <th>study_name</th>\n",
              "      <th>label</th>\n",
              "    </tr>\n",
              "  </thead>\n",
              "  <tbody>\n",
              "    <tr>\n",
              "      <th>0</th>\n",
              "      <td>MURA-v1.1/valid/XR_WRIST/patient11185/study1_p...</td>\n",
              "      <td>1</td>\n",
              "    </tr>\n",
              "    <tr>\n",
              "      <th>1</th>\n",
              "      <td>MURA-v1.1/valid/XR_WRIST/patient11186/study1_p...</td>\n",
              "      <td>1</td>\n",
              "    </tr>\n",
              "    <tr>\n",
              "      <th>2</th>\n",
              "      <td>MURA-v1.1/valid/XR_WRIST/patient11186/study2_p...</td>\n",
              "      <td>1</td>\n",
              "    </tr>\n",
              "    <tr>\n",
              "      <th>3</th>\n",
              "      <td>MURA-v1.1/valid/XR_WRIST/patient11186/study3_p...</td>\n",
              "      <td>1</td>\n",
              "    </tr>\n",
              "    <tr>\n",
              "      <th>4</th>\n",
              "      <td>MURA-v1.1/valid/XR_WRIST/patient11187/study1_p...</td>\n",
              "      <td>1</td>\n",
              "    </tr>\n",
              "  </tbody>\n",
              "</table>\n",
              "</div>"
            ],
            "text/plain": [
              "                                          study_name  label\n",
              "0  MURA-v1.1/valid/XR_WRIST/patient11185/study1_p...      1\n",
              "1  MURA-v1.1/valid/XR_WRIST/patient11186/study1_p...      1\n",
              "2  MURA-v1.1/valid/XR_WRIST/patient11186/study2_p...      1\n",
              "3  MURA-v1.1/valid/XR_WRIST/patient11186/study3_p...      1\n",
              "4  MURA-v1.1/valid/XR_WRIST/patient11187/study1_p...      1"
            ]
          },
          "metadata": {
            "tags": []
          },
          "execution_count": 17
        }
      ]
    },
    {
      "cell_type": "code",
      "metadata": {
        "id": "YssdOChsyp4Z",
        "colab_type": "code",
        "colab": {}
      },
      "source": [
        "# Go back one directory to the parent\n",
        "os.chdir('..')"
      ],
      "execution_count": 0,
      "outputs": []
    },
    {
      "cell_type": "code",
      "metadata": {
        "id": "pBH88mtEkfhL",
        "colab_type": "code",
        "colab": {}
      },
      "source": [
        "\n",
        "def addImageLists(df):\n",
        "  \"\"\"\n",
        "  Function which takes a studies dataframe (train or valid) and returns the dataframe after adding a new column containing lists of images in that study\n",
        "  \"\"\"\n",
        "  # Our column containing a list of images for each study\n",
        "  images = []\n",
        "\n",
        "  for study_name in df['study_name']:\n",
        "    image_list = [study_name+image_name for image_name in os.listdir(study_name)]\n",
        "    images.append(image_list)\n",
        "    \n",
        "  # Add the column and return the dataframe\n",
        "  df['images'] = images\n",
        "  return df\n",
        "  "
      ],
      "execution_count": 0,
      "outputs": []
    },
    {
      "cell_type": "code",
      "metadata": {
        "id": "rayh3L5av4oH",
        "colab_type": "code",
        "colab": {}
      },
      "source": [
        "# Create the new train_labelled_studies df for EDA\n",
        "train_labelled_studies = addImageLists(train_labelled_studies)\n",
        "# Create the new valid_labelled_studies df for EDA\n",
        "valid_labelled_studies = addImageLists(valid_labelled_studies)"
      ],
      "execution_count": 0,
      "outputs": []
    },
    {
      "cell_type": "code",
      "metadata": {
        "id": "rz1imGZAIEKz",
        "colab_type": "code",
        "colab": {}
      },
      "source": [
        "# Filter data relevant only to a particular body part\n",
        "# MURA-v1.1/train/XR_SHOULDER/patient00001/study1_positive/\n",
        "\n",
        "BODY_PART = 'XR_ELBOW'\n",
        "\n",
        "# Filter the train dataframe for a particular body part\n",
        "train_labelled_studies = train_labelled_studies[train_labelled_studies['study_name'].str.contains(BODY_PART)]\n",
        "\n",
        "# Filter the valid dataframe for a particular body part\n",
        "valid_labelled_studies = valid_labelled_studies[valid_labelled_studies['study_name'].str.contains(BODY_PART)]"
      ],
      "execution_count": 0,
      "outputs": []
    },
    {
      "cell_type": "code",
      "metadata": {
        "id": "Y1iG6HhUt38R",
        "colab_type": "code",
        "colab": {}
      },
      "source": [
        "def createImageLists(df):\n",
        "  \"\"\"\n",
        "  Function which takes a studies dataframe (train or valid) and returns the dataframe after adding a new column containing lists of images in that study\n",
        "  \"\"\"\n",
        "  # Our column containing a list of images for each study\n",
        "  images = []\n",
        "  labels = []\n",
        "  \n",
        "  for index, row in df.iterrows():\n",
        "    \n",
        "    study_name = row['study_name']\n",
        "    label = row['label']\n",
        "    \n",
        "    for image_name in os.listdir(study_name):\n",
        "      images.append(study_name+image_name)\n",
        "      labels.append(label)\n",
        "    \n",
        "  return images,labels"
      ],
      "execution_count": 0,
      "outputs": []
    },
    {
      "cell_type": "code",
      "metadata": {
        "id": "y31InFgMvAWF",
        "colab_type": "code",
        "colab": {}
      },
      "source": [
        "# Generate the train image and label lists\n",
        "train_image_list, train_label_list = createImageLists(train_labelled_studies)\n",
        "\n",
        "# Generate the validation image and label lists\n",
        "valid_image_list, valid_label_list = createImageLists(valid_labelled_studies)"
      ],
      "execution_count": 0,
      "outputs": []
    },
    {
      "cell_type": "code",
      "metadata": {
        "id": "tEsFdDmVSrbl",
        "colab_type": "code",
        "outputId": "877d1a77-a16c-42d5-dc5b-d3494ba2d5c0",
        "colab": {
          "base_uri": "https://localhost:8080/",
          "height": 71
        }
      },
      "source": [
        "# Start an interactive tf session\n",
        "sess = tf.InteractiveSession()"
      ],
      "execution_count": 0,
      "outputs": [
        {
          "output_type": "stream",
          "text": [
            "/usr/local/lib/python3.6/dist-packages/tensorflow/python/client/session.py:1702: UserWarning: An interactive session is already active. This can cause out-of-memory errors in some cases. You must explicitly call `InteractiveSession.close()` to release resources held by the other session(s).\n",
            "  warnings.warn('An interactive session is already active. This can '\n"
          ],
          "name": "stderr"
        }
      ]
    },
    {
      "cell_type": "markdown",
      "metadata": {
        "id": "1xqS7Gva4TUl",
        "colab_type": "text"
      },
      "source": [
        "### Load VGG16 model"
      ]
    },
    {
      "cell_type": "code",
      "metadata": {
        "id": "iIVB7LHH-_6p",
        "colab_type": "code",
        "outputId": "5bf7eecf-f051-4937-84c6-c7ac7c0d8bd1",
        "colab": {
          "base_uri": "https://localhost:8080/",
          "height": 105
        }
      },
      "source": [
        "#Try loading our models\n",
        "from keras.models import model_from_json\n",
        "from keras import optimizers\n",
        "\n",
        "# load json and create model\n",
        "json_file = open('VGG16_model_finetuned_extra_architecture.json', 'r')\n",
        "loaded_model_json = json_file.read()\n",
        "json_file.close()\n",
        "loaded_model1 = model_from_json(loaded_model_json)\n",
        "# load weights into new model\n",
        "loaded_model1.load_weights(\"VGG16_model_extra_weights.h5\")\n",
        "print(\"Loaded model from disk\")\n",
        " \n",
        "# evaluate loaded model on test data\n",
        "loaded_model1.compile(loss='binary_crossentropy',optimizer=optimizers.Adam(lr=1e-7),metrics=['acc'])"
      ],
      "execution_count": 0,
      "outputs": [
        {
          "output_type": "stream",
          "text": [
            "WARNING:tensorflow:From /usr/local/lib/python3.6/dist-packages/tensorflow/python/framework/op_def_library.py:263: colocate_with (from tensorflow.python.framework.ops) is deprecated and will be removed in a future version.\n",
            "Instructions for updating:\n",
            "Colocations handled automatically by placer.\n",
            "Loaded model from disk\n"
          ],
          "name": "stdout"
        }
      ]
    },
    {
      "cell_type": "markdown",
      "metadata": {
        "id": "xiOfyYlh4XIN",
        "colab_type": "text"
      },
      "source": [
        "### Load Inception model"
      ]
    },
    {
      "cell_type": "code",
      "metadata": {
        "id": "2lJo1Jz74h-U",
        "colab_type": "code",
        "colab": {}
      },
      "source": [
        "from keras.models import load_model\n",
        "\n",
        "loaded_model2 = load_model(\"best_model_dropout (4).h5\")"
      ],
      "execution_count": 0,
      "outputs": []
    },
    {
      "cell_type": "markdown",
      "metadata": {
        "id": "4SR5K4Cr4vNi",
        "colab_type": "text"
      },
      "source": [
        "### Load VGG19 model"
      ]
    },
    {
      "cell_type": "code",
      "metadata": {
        "id": "yPg3cyNe4udg",
        "colab_type": "code",
        "outputId": "efab92d4-91a6-40bc-d23e-856163640e2a",
        "colab": {
          "base_uri": "https://localhost:8080/",
          "height": 139
        }
      },
      "source": [
        "from keras.models import load_model\n",
        "\n",
        "loaded_model3 = load_model(\"VGG19_no_freeze_do2_acc1.h5\")"
      ],
      "execution_count": 0,
      "outputs": [
        {
          "output_type": "stream",
          "text": [
            "WARNING:tensorflow:From /usr/local/lib/python3.6/dist-packages/keras/backend/tensorflow_backend.py:3445: calling dropout (from tensorflow.python.ops.nn_ops) with keep_prob is deprecated and will be removed in a future version.\n",
            "Instructions for updating:\n",
            "Please use `rate` instead of `keep_prob`. Rate should be set to `rate = 1 - keep_prob`.\n",
            "WARNING:tensorflow:From /usr/local/lib/python3.6/dist-packages/tensorflow/python/ops/math_ops.py:3066: to_int32 (from tensorflow.python.ops.math_ops) is deprecated and will be removed in a future version.\n",
            "Instructions for updating:\n",
            "Use tf.cast instead.\n"
          ],
          "name": "stdout"
        }
      ]
    },
    {
      "cell_type": "markdown",
      "metadata": {
        "id": "5XeVoKO6DckV",
        "colab_type": "text"
      },
      "source": [
        "## Loaded our best models successfully"
      ]
    },
    {
      "cell_type": "markdown",
      "metadata": {
        "id": "kYG2PkX20zlJ",
        "colab_type": "text"
      },
      "source": [
        "## Now get studywise predictions\n",
        "\n",
        "Each study can have 1 or more images, To get studywise predictions we predict the class(0/1) of each image of the study and then the final study predcition is the arithmetic mean of the the predictions(sigmoid) of the study images using a threshold value of 0.5 to determine whether the study is classified as 0(normal) or 1(abnormal)."
      ]
    },
    {
      "cell_type": "code",
      "metadata": {
        "id": "uPmuUOvFS2Er",
        "colab_type": "code",
        "outputId": "4c55265e-af68-4823-b75f-4fb653ff000a",
        "colab": {
          "base_uri": "https://localhost:8080/",
          "height": 204
        }
      },
      "source": [
        "# Studywise predictions\n",
        "valid_labelled_studies.head(5)"
      ],
      "execution_count": 0,
      "outputs": [
        {
          "output_type": "execute_result",
          "data": {
            "text/html": [
              "<div>\n",
              "<style scoped>\n",
              "    .dataframe tbody tr th:only-of-type {\n",
              "        vertical-align: middle;\n",
              "    }\n",
              "\n",
              "    .dataframe tbody tr th {\n",
              "        vertical-align: top;\n",
              "    }\n",
              "\n",
              "    .dataframe thead th {\n",
              "        text-align: right;\n",
              "    }\n",
              "</style>\n",
              "<table border=\"1\" class=\"dataframe\">\n",
              "  <thead>\n",
              "    <tr style=\"text-align: right;\">\n",
              "      <th></th>\n",
              "      <th>study_name</th>\n",
              "      <th>label</th>\n",
              "      <th>images</th>\n",
              "    </tr>\n",
              "  </thead>\n",
              "  <tbody>\n",
              "    <tr>\n",
              "      <th>866</th>\n",
              "      <td>MURA-v1.1/valid/XR_ELBOW/patient11659/study1_p...</td>\n",
              "      <td>1</td>\n",
              "      <td>[MURA-v1.1/valid/XR_ELBOW/patient11659/study1_...</td>\n",
              "    </tr>\n",
              "    <tr>\n",
              "      <th>867</th>\n",
              "      <td>MURA-v1.1/valid/XR_ELBOW/patient11802/study1_p...</td>\n",
              "      <td>1</td>\n",
              "      <td>[MURA-v1.1/valid/XR_ELBOW/patient11802/study1_...</td>\n",
              "    </tr>\n",
              "    <tr>\n",
              "      <th>868</th>\n",
              "      <td>MURA-v1.1/valid/XR_ELBOW/patient11803/study1_p...</td>\n",
              "      <td>1</td>\n",
              "      <td>[MURA-v1.1/valid/XR_ELBOW/patient11803/study1_...</td>\n",
              "    </tr>\n",
              "    <tr>\n",
              "      <th>869</th>\n",
              "      <td>MURA-v1.1/valid/XR_ELBOW/patient11804/study1_p...</td>\n",
              "      <td>1</td>\n",
              "      <td>[MURA-v1.1/valid/XR_ELBOW/patient11804/study1_...</td>\n",
              "    </tr>\n",
              "    <tr>\n",
              "      <th>870</th>\n",
              "      <td>MURA-v1.1/valid/XR_ELBOW/patient11805/study1_p...</td>\n",
              "      <td>1</td>\n",
              "      <td>[MURA-v1.1/valid/XR_ELBOW/patient11805/study1_...</td>\n",
              "    </tr>\n",
              "  </tbody>\n",
              "</table>\n",
              "</div>"
            ],
            "text/plain": [
              "                                            study_name  label  \\\n",
              "866  MURA-v1.1/valid/XR_ELBOW/patient11659/study1_p...      1   \n",
              "867  MURA-v1.1/valid/XR_ELBOW/patient11802/study1_p...      1   \n",
              "868  MURA-v1.1/valid/XR_ELBOW/patient11803/study1_p...      1   \n",
              "869  MURA-v1.1/valid/XR_ELBOW/patient11804/study1_p...      1   \n",
              "870  MURA-v1.1/valid/XR_ELBOW/patient11805/study1_p...      1   \n",
              "\n",
              "                                                images  \n",
              "866  [MURA-v1.1/valid/XR_ELBOW/patient11659/study1_...  \n",
              "867  [MURA-v1.1/valid/XR_ELBOW/patient11802/study1_...  \n",
              "868  [MURA-v1.1/valid/XR_ELBOW/patient11803/study1_...  \n",
              "869  [MURA-v1.1/valid/XR_ELBOW/patient11804/study1_...  \n",
              "870  [MURA-v1.1/valid/XR_ELBOW/patient11805/study1_...  "
            ]
          },
          "metadata": {
            "tags": []
          },
          "execution_count": 26
        }
      ]
    },
    {
      "cell_type": "markdown",
      "metadata": {
        "id": "w_cfnvli4QIH",
        "colab_type": "text"
      },
      "source": [
        "## Get predictions for VGG16"
      ]
    },
    {
      "cell_type": "code",
      "metadata": {
        "id": "SDab2dTLbLBp",
        "colab_type": "code",
        "outputId": "13060449-b73e-4340-f235-e078e38c5f33",
        "colab": {
          "base_uri": "https://localhost:8080/",
          "height": 5389
        }
      },
      "source": [
        "# Studywise predictions\n",
        "studywise_predictions_binary_vgg16 = []\n",
        "studywise_predictions = []\n",
        "\n",
        "test_counter = 0\n",
        "\n",
        "for indx,study_row in valid_labelled_studies.iterrows():\n",
        "  print('Study:\\n',study_row['study_name'])\n",
        "  \n",
        "  # List of images for the study\n",
        "  study_image_list = study_row['images']\n",
        "  \n",
        "  # List to store the predictions for each image\n",
        "  study_predictions = []\n",
        "  \n",
        "  # Number of study images\n",
        "  num_study_imgs = len(study_image_list)\n",
        "  \n",
        "  for study_image in study_image_list:\n",
        "    # Read the image from disk\n",
        "    image_string = tf.read_file(study_image)\n",
        "    # Decode the image\n",
        "    image = tf.image.decode_png(image_string,channels=3)\n",
        "    # Resize into 512x512 images\n",
        "    image_vgg = tf.image.resize_image_with_crop_or_pad(image,512,512)\n",
        "    # Plot the image\n",
        "    image_vgg = sess.run(image_vgg)\n",
        "    # plt.imshow(image)\n",
        "    # plt.title(study_image[-10:])\n",
        "    # plt.show()\n",
        "    # Make the predictions\n",
        "    image_vgg = np.reshape(image_vgg,newshape=[1,512,512,3])\n",
        "    pred = loaded_model1.predict(image_vgg)\n",
        "    study_predictions.append(pred)\n",
        "    \n",
        "  # Take the average of all predictions as the study prediction\n",
        "  avg_prediction = sum(study_predictions)/num_study_imgs\n",
        "  \n",
        "  # Sigmoid values\n",
        "  studywise_predictions.append(avg_prediction)\n",
        "    \n",
        "  # Class predictions 0/1\n",
        "  if avg_prediction < 0.5:\n",
        "    studywise_predictions_binary_vgg16.append(0)\n",
        "  else:\n",
        "    studywise_predictions_binary_vgg16.append(1)\n",
        "  \n",
        "#   test_counter+=1\n",
        "  \n",
        "#   if test_counter==5:\n",
        "#     break"
      ],
      "execution_count": 0,
      "outputs": [
        {
          "output_type": "stream",
          "text": [
            "Study:\n",
            " MURA-v1.1/valid/XR_ELBOW/patient11659/study1_positive/\n",
            "Study:\n",
            " MURA-v1.1/valid/XR_ELBOW/patient11802/study1_positive/\n",
            "Study:\n",
            " MURA-v1.1/valid/XR_ELBOW/patient11803/study1_positive/\n",
            "Study:\n",
            " MURA-v1.1/valid/XR_ELBOW/patient11804/study1_positive/\n",
            "Study:\n",
            " MURA-v1.1/valid/XR_ELBOW/patient11805/study1_positive/\n",
            "Study:\n",
            " MURA-v1.1/valid/XR_ELBOW/patient11414/study1_positive/\n",
            "Study:\n",
            " MURA-v1.1/valid/XR_ELBOW/patient11186/study1_positive/\n",
            "Study:\n",
            " MURA-v1.1/valid/XR_ELBOW/patient11806/study1_positive/\n",
            "Study:\n",
            " MURA-v1.1/valid/XR_ELBOW/patient11807/study1_positive/\n",
            "Study:\n",
            " MURA-v1.1/valid/XR_ELBOW/patient11793/study1_positive/\n",
            "Study:\n",
            " MURA-v1.1/valid/XR_ELBOW/patient11358/study1_positive/\n",
            "Study:\n",
            " MURA-v1.1/valid/XR_ELBOW/patient11417/study1_positive/\n",
            "Study:\n",
            " MURA-v1.1/valid/XR_ELBOW/patient11417/study2_positive/\n",
            "Study:\n",
            " MURA-v1.1/valid/XR_ELBOW/patient11586/study1_positive/\n",
            "Study:\n",
            " MURA-v1.1/valid/XR_ELBOW/patient11389/study1_positive/\n",
            "Study:\n",
            " MURA-v1.1/valid/XR_ELBOW/patient11808/study1_positive/\n",
            "Study:\n",
            " MURA-v1.1/valid/XR_ELBOW/patient11342/study1_positive/\n",
            "Study:\n",
            " MURA-v1.1/valid/XR_ELBOW/patient11603/study1_positive/\n",
            "Study:\n",
            " MURA-v1.1/valid/XR_ELBOW/patient11809/study1_positive/\n",
            "Study:\n",
            " MURA-v1.1/valid/XR_ELBOW/patient11810/study1_positive/\n",
            "Study:\n",
            " MURA-v1.1/valid/XR_ELBOW/patient11811/study1_positive/\n",
            "Study:\n",
            " MURA-v1.1/valid/XR_ELBOW/patient11812/study1_positive/\n",
            "Study:\n",
            " MURA-v1.1/valid/XR_ELBOW/patient11189/study1_positive/\n",
            "Study:\n",
            " MURA-v1.1/valid/XR_ELBOW/patient11780/study1_positive/\n",
            "Study:\n",
            " MURA-v1.1/valid/XR_ELBOW/patient11813/study1_positive/\n",
            "Study:\n",
            " MURA-v1.1/valid/XR_ELBOW/patient11472/study1_positive/\n",
            "Study:\n",
            " MURA-v1.1/valid/XR_ELBOW/patient11326/study1_positive/\n",
            "Study:\n",
            " MURA-v1.1/valid/XR_ELBOW/patient11814/study1_positive/\n",
            "Study:\n",
            " MURA-v1.1/valid/XR_ELBOW/patient11390/study1_positive/\n",
            "Study:\n",
            " MURA-v1.1/valid/XR_ELBOW/patient11390/study2_negative/\n",
            "Study:\n",
            " MURA-v1.1/valid/XR_ELBOW/patient11264/study1_positive/\n",
            "Study:\n",
            " MURA-v1.1/valid/XR_ELBOW/patient11815/study1_positive/\n",
            "Study:\n",
            " MURA-v1.1/valid/XR_ELBOW/patient11816/study1_positive/\n",
            "Study:\n",
            " MURA-v1.1/valid/XR_ELBOW/patient11817/study1_positive/\n",
            "Study:\n",
            " MURA-v1.1/valid/XR_ELBOW/patient11818/study1_positive/\n",
            "Study:\n",
            " MURA-v1.1/valid/XR_ELBOW/patient11819/study1_positive/\n",
            "Study:\n",
            " MURA-v1.1/valid/XR_ELBOW/patient11820/study1_positive/\n",
            "Study:\n",
            " MURA-v1.1/valid/XR_ELBOW/patient11821/study1_positive/\n",
            "Study:\n",
            " MURA-v1.1/valid/XR_ELBOW/patient11764/study1_positive/\n",
            "Study:\n",
            " MURA-v1.1/valid/XR_ELBOW/patient11312/study1_positive/\n",
            "Study:\n",
            " MURA-v1.1/valid/XR_ELBOW/patient11430/study1_positive/\n",
            "Study:\n",
            " MURA-v1.1/valid/XR_ELBOW/patient11822/study1_positive/\n",
            "Study:\n",
            " MURA-v1.1/valid/XR_ELBOW/patient11823/study1_positive/\n",
            "Study:\n",
            " MURA-v1.1/valid/XR_ELBOW/patient11824/study1_positive/\n",
            "Study:\n",
            " MURA-v1.1/valid/XR_ELBOW/patient11824/study2_negative/\n",
            "Study:\n",
            " MURA-v1.1/valid/XR_ELBOW/patient11825/study1_positive/\n",
            "Study:\n",
            " MURA-v1.1/valid/XR_ELBOW/patient11756/study1_positive/\n",
            "Study:\n",
            " MURA-v1.1/valid/XR_ELBOW/patient11826/study1_positive/\n",
            "Study:\n",
            " MURA-v1.1/valid/XR_ELBOW/patient11827/study1_positive/\n",
            "Study:\n",
            " MURA-v1.1/valid/XR_ELBOW/patient11827/study2_negative/\n",
            "Study:\n",
            " MURA-v1.1/valid/XR_ELBOW/patient11828/study1_positive/\n",
            "Study:\n",
            " MURA-v1.1/valid/XR_ELBOW/patient11829/study1_positive/\n",
            "Study:\n",
            " MURA-v1.1/valid/XR_ELBOW/patient11830/study1_positive/\n",
            "Study:\n",
            " MURA-v1.1/valid/XR_ELBOW/patient11236/study1_positive/\n",
            "Study:\n",
            " MURA-v1.1/valid/XR_ELBOW/patient11831/study1_positive/\n",
            "Study:\n",
            " MURA-v1.1/valid/XR_ELBOW/patient11832/study1_positive/\n",
            "Study:\n",
            " MURA-v1.1/valid/XR_ELBOW/patient11833/study1_positive/\n",
            "Study:\n",
            " MURA-v1.1/valid/XR_ELBOW/patient11834/study1_positive/\n",
            "Study:\n",
            " MURA-v1.1/valid/XR_ELBOW/patient11835/study1_positive/\n",
            "Study:\n",
            " MURA-v1.1/valid/XR_ELBOW/patient11836/study1_positive/\n",
            "Study:\n",
            " MURA-v1.1/valid/XR_ELBOW/patient11837/study1_positive/\n",
            "Study:\n",
            " MURA-v1.1/valid/XR_ELBOW/patient11838/study1_positive/\n",
            "Study:\n",
            " MURA-v1.1/valid/XR_ELBOW/patient11421/study1_positive/\n",
            "Study:\n",
            " MURA-v1.1/valid/XR_ELBOW/patient11839/study1_positive/\n",
            "Study:\n",
            " MURA-v1.1/valid/XR_ELBOW/patient11840/study1_positive/\n",
            "Study:\n",
            " MURA-v1.1/valid/XR_ELBOW/patient11841/study1_positive/\n",
            "Study:\n",
            " MURA-v1.1/valid/XR_ELBOW/patient11842/study1_positive/\n",
            "Study:\n",
            " MURA-v1.1/valid/XR_ELBOW/patient11843/study1_positive/\n",
            "Study:\n",
            " MURA-v1.1/valid/XR_ELBOW/patient11844/study1_positive/\n",
            "Study:\n",
            " MURA-v1.1/valid/XR_ELBOW/patient11243/study1_negative/\n",
            "Study:\n",
            " MURA-v1.1/valid/XR_ELBOW/patient11736/study1_negative/\n",
            "Study:\n",
            " MURA-v1.1/valid/XR_ELBOW/patient11651/study1_negative/\n",
            "Study:\n",
            " MURA-v1.1/valid/XR_ELBOW/patient11345/study1_negative/\n",
            "Study:\n",
            " MURA-v1.1/valid/XR_ELBOW/patient11845/study1_negative/\n",
            "Study:\n",
            " MURA-v1.1/valid/XR_ELBOW/patient11846/study1_negative/\n",
            "Study:\n",
            " MURA-v1.1/valid/XR_ELBOW/patient11847/study1_negative/\n",
            "Study:\n",
            " MURA-v1.1/valid/XR_ELBOW/patient11534/study1_negative/\n",
            "Study:\n",
            " MURA-v1.1/valid/XR_ELBOW/patient11848/study1_negative/\n",
            "Study:\n",
            " MURA-v1.1/valid/XR_ELBOW/patient11773/study1_negative/\n",
            "Study:\n",
            " MURA-v1.1/valid/XR_ELBOW/patient11849/study1_negative/\n",
            "Study:\n",
            " MURA-v1.1/valid/XR_ELBOW/patient11850/study1_negative/\n",
            "Study:\n",
            " MURA-v1.1/valid/XR_ELBOW/patient11569/study1_negative/\n",
            "Study:\n",
            " MURA-v1.1/valid/XR_ELBOW/patient11606/study1_negative/\n",
            "Study:\n",
            " MURA-v1.1/valid/XR_ELBOW/patient11851/study1_negative/\n",
            "Study:\n",
            " MURA-v1.1/valid/XR_ELBOW/patient11851/study2_negative/\n",
            "Study:\n",
            " MURA-v1.1/valid/XR_ELBOW/patient11563/study1_negative/\n",
            "Study:\n",
            " MURA-v1.1/valid/XR_ELBOW/patient11204/study1_negative/\n",
            "Study:\n",
            " MURA-v1.1/valid/XR_ELBOW/patient11222/study1_negative/\n",
            "Study:\n",
            " MURA-v1.1/valid/XR_ELBOW/patient11852/study1_negative/\n",
            "Study:\n",
            " MURA-v1.1/valid/XR_ELBOW/patient11238/study1_negative/\n",
            "Study:\n",
            " MURA-v1.1/valid/XR_ELBOW/patient11673/study1_negative/\n",
            "Study:\n",
            " MURA-v1.1/valid/XR_ELBOW/patient11853/study1_negative/\n",
            "Study:\n",
            " MURA-v1.1/valid/XR_ELBOW/patient11854/study1_negative/\n",
            "Study:\n",
            " MURA-v1.1/valid/XR_ELBOW/patient11443/study1_negative/\n",
            "Study:\n",
            " MURA-v1.1/valid/XR_ELBOW/patient11855/study1_negative/\n",
            "Study:\n",
            " MURA-v1.1/valid/XR_ELBOW/patient11375/study1_negative/\n",
            "Study:\n",
            " MURA-v1.1/valid/XR_ELBOW/patient11466/study1_negative/\n",
            "Study:\n",
            " MURA-v1.1/valid/XR_ELBOW/patient11349/study1_negative/\n",
            "Study:\n",
            " MURA-v1.1/valid/XR_ELBOW/patient11856/study1_negative/\n",
            "Study:\n",
            " MURA-v1.1/valid/XR_ELBOW/patient11478/study1_negative/\n",
            "Study:\n",
            " MURA-v1.1/valid/XR_ELBOW/patient11857/study1_negative/\n",
            "Study:\n",
            " MURA-v1.1/valid/XR_ELBOW/patient11763/study1_negative/\n",
            "Study:\n",
            " MURA-v1.1/valid/XR_ELBOW/patient11568/study1_negative/\n",
            "Study:\n",
            " MURA-v1.1/valid/XR_ELBOW/patient11287/study1_negative/\n",
            "Study:\n",
            " MURA-v1.1/valid/XR_ELBOW/patient11711/study1_negative/\n",
            "Study:\n",
            " MURA-v1.1/valid/XR_ELBOW/patient11858/study1_negative/\n",
            "Study:\n",
            " MURA-v1.1/valid/XR_ELBOW/patient11859/study1_negative/\n",
            "Study:\n",
            " MURA-v1.1/valid/XR_ELBOW/patient11860/study1_negative/\n",
            "Study:\n",
            " MURA-v1.1/valid/XR_ELBOW/patient11282/study1_negative/\n",
            "Study:\n",
            " MURA-v1.1/valid/XR_ELBOW/patient11317/study1_negative/\n",
            "Study:\n",
            " MURA-v1.1/valid/XR_ELBOW/patient11536/study1_negative/\n",
            "Study:\n",
            " MURA-v1.1/valid/XR_ELBOW/patient11861/study1_negative/\n",
            "Study:\n",
            " MURA-v1.1/valid/XR_ELBOW/patient11588/study1_negative/\n",
            "Study:\n",
            " MURA-v1.1/valid/XR_ELBOW/patient11247/study1_negative/\n",
            "Study:\n",
            " MURA-v1.1/valid/XR_ELBOW/patient11724/study1_negative/\n",
            "Study:\n",
            " MURA-v1.1/valid/XR_ELBOW/patient11862/study1_negative/\n",
            "Study:\n",
            " MURA-v1.1/valid/XR_ELBOW/patient11259/study1_negative/\n",
            "Study:\n",
            " MURA-v1.1/valid/XR_ELBOW/patient11402/study1_negative/\n",
            "Study:\n",
            " MURA-v1.1/valid/XR_ELBOW/patient11235/study1_negative/\n",
            "Study:\n",
            " MURA-v1.1/valid/XR_ELBOW/patient11783/study1_negative/\n",
            "Study:\n",
            " MURA-v1.1/valid/XR_ELBOW/patient11582/study1_negative/\n",
            "Study:\n",
            " MURA-v1.1/valid/XR_ELBOW/patient11863/study1_negative/\n",
            "Study:\n",
            " MURA-v1.1/valid/XR_ELBOW/patient11338/study1_negative/\n",
            "Study:\n",
            " MURA-v1.1/valid/XR_ELBOW/patient11338/study2_negative/\n",
            "Study:\n",
            " MURA-v1.1/valid/XR_ELBOW/patient11864/study1_negative/\n",
            "Study:\n",
            " MURA-v1.1/valid/XR_ELBOW/patient11865/study1_negative/\n",
            "Study:\n",
            " MURA-v1.1/valid/XR_ELBOW/patient11866/study1_negative/\n",
            "Study:\n",
            " MURA-v1.1/valid/XR_ELBOW/patient11495/study1_negative/\n",
            "Study:\n",
            " MURA-v1.1/valid/XR_ELBOW/patient11867/study1_negative/\n",
            "Study:\n",
            " MURA-v1.1/valid/XR_ELBOW/patient11775/study1_negative/\n",
            "Study:\n",
            " MURA-v1.1/valid/XR_ELBOW/patient11283/study1_negative/\n",
            "Study:\n",
            " MURA-v1.1/valid/XR_ELBOW/patient11868/study1_negative/\n",
            "Study:\n",
            " MURA-v1.1/valid/XR_ELBOW/patient11262/study1_negative/\n",
            "Study:\n",
            " MURA-v1.1/valid/XR_ELBOW/patient11869/study1_negative/\n",
            "Study:\n",
            " MURA-v1.1/valid/XR_ELBOW/patient11408/study1_negative/\n",
            "Study:\n",
            " MURA-v1.1/valid/XR_ELBOW/patient11777/study1_negative/\n",
            "Study:\n",
            " MURA-v1.1/valid/XR_ELBOW/patient11708/study1_negative/\n",
            "Study:\n",
            " MURA-v1.1/valid/XR_ELBOW/patient11870/study1_negative/\n",
            "Study:\n",
            " MURA-v1.1/valid/XR_ELBOW/patient11871/study1_negative/\n",
            "Study:\n",
            " MURA-v1.1/valid/XR_ELBOW/patient11388/study1_negative/\n",
            "Study:\n",
            " MURA-v1.1/valid/XR_ELBOW/patient11872/study1_negative/\n",
            "Study:\n",
            " MURA-v1.1/valid/XR_ELBOW/patient11873/study1_negative/\n",
            "Study:\n",
            " MURA-v1.1/valid/XR_ELBOW/patient11874/study1_negative/\n",
            "Study:\n",
            " MURA-v1.1/valid/XR_ELBOW/patient11372/study1_negative/\n",
            "Study:\n",
            " MURA-v1.1/valid/XR_ELBOW/patient11875/study1_negative/\n",
            "Study:\n",
            " MURA-v1.1/valid/XR_ELBOW/patient11876/study1_negative/\n",
            "Study:\n",
            " MURA-v1.1/valid/XR_ELBOW/patient11523/study1_negative/\n",
            "Study:\n",
            " MURA-v1.1/valid/XR_ELBOW/patient11877/study1_negative/\n",
            "Study:\n",
            " MURA-v1.1/valid/XR_ELBOW/patient11878/study1_negative/\n",
            "Study:\n",
            " MURA-v1.1/valid/XR_ELBOW/patient11368/study1_negative/\n",
            "Study:\n",
            " MURA-v1.1/valid/XR_ELBOW/patient11521/study1_negative/\n",
            "Study:\n",
            " MURA-v1.1/valid/XR_ELBOW/patient11797/study1_negative/\n",
            "Study:\n",
            " MURA-v1.1/valid/XR_ELBOW/patient11879/study1_negative/\n",
            "Study:\n",
            " MURA-v1.1/valid/XR_ELBOW/patient11217/study1_negative/\n",
            "Study:\n",
            " MURA-v1.1/valid/XR_ELBOW/patient11880/study1_negative/\n",
            "Study:\n",
            " MURA-v1.1/valid/XR_ELBOW/patient11205/study1_negative/\n",
            "Study:\n",
            " MURA-v1.1/valid/XR_ELBOW/patient11881/study1_negative/\n",
            "Study:\n",
            " MURA-v1.1/valid/XR_ELBOW/patient11334/study1_negative/\n"
          ],
          "name": "stdout"
        }
      ]
    },
    {
      "cell_type": "code",
      "metadata": {
        "id": "ajH_zd2JGaWF",
        "colab_type": "code",
        "outputId": "c6768697-ba6c-48b7-9658-065e6cbcfb7d",
        "colab": {
          "base_uri": "https://localhost:8080/",
          "height": 170
        }
      },
      "source": [
        "# Get the study classification report\n",
        "from sklearn.metrics import classification_report\n",
        "print(classification_report(studywise_predictions_binary_vgg16,valid_labelled_studies['label'].tolist()),)"
      ],
      "execution_count": 0,
      "outputs": [
        {
          "output_type": "stream",
          "text": [
            "              precision    recall  f1-score   support\n",
            "\n",
            "           0       0.95      0.84      0.89       103\n",
            "           1       0.76      0.91      0.83        55\n",
            "\n",
            "   micro avg       0.87      0.87      0.87       158\n",
            "   macro avg       0.85      0.88      0.86       158\n",
            "weighted avg       0.88      0.87      0.87       158\n",
            "\n"
          ],
          "name": "stdout"
        }
      ]
    },
    {
      "cell_type": "code",
      "metadata": {
        "id": "ApQdfFSWlimP",
        "colab_type": "code",
        "colab": {}
      },
      "source": [
        "# Getting the sigmoid values in proper format\n",
        "stdy_predictions = []\n",
        "\n",
        "for i in range(len(studywise_predictions)):\n",
        "  stdy_predictions.append(studywise_predictions[i][0][0])"
      ],
      "execution_count": 0,
      "outputs": []
    },
    {
      "cell_type": "code",
      "metadata": {
        "id": "6j2utR2xmIDT",
        "colab_type": "code",
        "outputId": "28977904-1f74-4cca-8bb9-224988287a5b",
        "colab": {
          "base_uri": "https://localhost:8080/",
          "height": 458
        }
      },
      "source": [
        "# Plot ROC curve\n",
        "plt.rcParams[\"figure.figsize\"] = (7,7)\n",
        "from sklearn.metrics import roc_curve, roc_auc_score\n",
        "\n",
        "fpr, tpr, thresholds = roc_curve(valid_labelled_studies['label'].tolist(),stdy_predictions)\n",
        "auc_score = roc_auc_score(valid_labelled_studies['label'].tolist(),stdy_predictions)\n",
        "\n",
        "plt.plot(fpr,tpr,label='VGG16 model after finetuning and dropout')\n",
        "plt.plot(fpr,fpr,label='Random guessing')\n",
        "plt.title('ROC score of VGG16(finetuning+dropout) = %2.2f'%auc_score)\n",
        "plt.xlabel('False Positive Rate')\n",
        "plt.ylabel('True Positive Rate')\n",
        "plt.legend()\n",
        "\n",
        "plt.show()"
      ],
      "execution_count": 0,
      "outputs": [
        {
          "output_type": "display_data",
          "data": {
            "image/png": "[encoded data removed]",
            "text/plain": [
              "<Figure size 504x504 with 1 Axes>"
            ]
          },
          "metadata": {
            "tags": []
          }
        }
      ]
    },
    {
      "cell_type": "code",
      "metadata": {
        "id": "uahLNNt3m9F0",
        "colab_type": "code",
        "outputId": "9a0348f3-670a-446a-fa1a-4f98baaadfa6",
        "colab": {
          "base_uri": "https://localhost:8080/",
          "height": 34
        }
      },
      "source": [
        "# Try to calculate Cohen's Kappa score\n",
        "# In practice we need to compute this score on studies instead of individual images\n",
        "from sklearn.metrics import cohen_kappa_score\n",
        "\n",
        "cohen_kappa_score(studywise_predictions_binary_vgg16,valid_labelled_studies['label'].tolist())"
      ],
      "execution_count": 0,
      "outputs": [
        {
          "output_type": "execute_result",
          "data": {
            "text/plain": [
              "0.7201889020070837"
            ]
          },
          "metadata": {
            "tags": []
          },
          "execution_count": 33
        }
      ]
    },
    {
      "cell_type": "markdown",
      "metadata": {
        "id": "0oeijEANURuW",
        "colab_type": "text"
      },
      "source": [
        "## Get predictions for VGG19"
      ]
    },
    {
      "cell_type": "code",
      "metadata": {
        "colab_type": "code",
        "outputId": "43cebb4e-af9e-411c-ff58-5f2d067a3af7",
        "id": "CaE3VbkNUPXI",
        "colab": {
          "base_uri": "https://localhost:8080/",
          "height": 5389
        }
      },
      "source": [
        "# Studywise predictions\n",
        "studywise_predictions_binary_vgg19 = []\n",
        "studywise_predictions = []\n",
        "\n",
        "test_counter = 0\n",
        "\n",
        "for indx,study_row in valid_labelled_studies.iterrows():\n",
        "  print('Study:\\n',study_row['study_name'])\n",
        "  \n",
        "  # List of images for the study\n",
        "  study_image_list = study_row['images']\n",
        "  \n",
        "  # List to store the predictions for each image\n",
        "  study_predictions = []\n",
        "  \n",
        "  # Number of study images\n",
        "  num_study_imgs = len(study_image_list)\n",
        "  \n",
        "  for study_image in study_image_list:\n",
        "    # Read the image from disk\n",
        "    image_string = tf.read_file(study_image)\n",
        "    # Decode the image\n",
        "    image = tf.image.decode_png(image_string,channels=3)\n",
        "    # Resize into 512x512 images\n",
        "    image_vgg = tf.image.resize_image_with_crop_or_pad(image,512,512)\n",
        "    # Plot the image\n",
        "    image_vgg = sess.run(image_vgg)\n",
        "    # plt.imshow(image)\n",
        "    # plt.title(study_image[-10:])\n",
        "    # plt.show()\n",
        "    # Make the predictions\n",
        "    image_vgg = np.reshape(image_vgg,newshape=[1,512,512,3])\n",
        "    pred = loaded_model3.predict(image_vgg)\n",
        "    study_predictions.append(pred)\n",
        "    \n",
        "  # Take the average of all predictions as the study prediction\n",
        "  avg_prediction = sum(study_predictions)/num_study_imgs\n",
        "  \n",
        "  # Sigmoid values\n",
        "  studywise_predictions.append(avg_prediction)\n",
        "    \n",
        "  # Class predictions 0/1\n",
        "  if avg_prediction < 0.5:\n",
        "    studywise_predictions_binary_vgg19.append(0)\n",
        "  else:\n",
        "    studywise_predictions_binary_vgg19.append(1)\n",
        "  \n",
        "#   test_counter+=1\n",
        "  \n",
        "#   if test_counter==5:\n",
        "#     break"
      ],
      "execution_count": 0,
      "outputs": [
        {
          "output_type": "stream",
          "text": [
            "Study:\n",
            " MURA-v1.1/valid/XR_ELBOW/patient11659/study1_positive/\n",
            "Study:\n",
            " MURA-v1.1/valid/XR_ELBOW/patient11802/study1_positive/\n",
            "Study:\n",
            " MURA-v1.1/valid/XR_ELBOW/patient11803/study1_positive/\n",
            "Study:\n",
            " MURA-v1.1/valid/XR_ELBOW/patient11804/study1_positive/\n",
            "Study:\n",
            " MURA-v1.1/valid/XR_ELBOW/patient11805/study1_positive/\n",
            "Study:\n",
            " MURA-v1.1/valid/XR_ELBOW/patient11414/study1_positive/\n",
            "Study:\n",
            " MURA-v1.1/valid/XR_ELBOW/patient11186/study1_positive/\n",
            "Study:\n",
            " MURA-v1.1/valid/XR_ELBOW/patient11806/study1_positive/\n",
            "Study:\n",
            " MURA-v1.1/valid/XR_ELBOW/patient11807/study1_positive/\n",
            "Study:\n",
            " MURA-v1.1/valid/XR_ELBOW/patient11793/study1_positive/\n",
            "Study:\n",
            " MURA-v1.1/valid/XR_ELBOW/patient11358/study1_positive/\n",
            "Study:\n",
            " MURA-v1.1/valid/XR_ELBOW/patient11417/study1_positive/\n",
            "Study:\n",
            " MURA-v1.1/valid/XR_ELBOW/patient11417/study2_positive/\n",
            "Study:\n",
            " MURA-v1.1/valid/XR_ELBOW/patient11586/study1_positive/\n",
            "Study:\n",
            " MURA-v1.1/valid/XR_ELBOW/patient11389/study1_positive/\n",
            "Study:\n",
            " MURA-v1.1/valid/XR_ELBOW/patient11808/study1_positive/\n",
            "Study:\n",
            " MURA-v1.1/valid/XR_ELBOW/patient11342/study1_positive/\n",
            "Study:\n",
            " MURA-v1.1/valid/XR_ELBOW/patient11603/study1_positive/\n",
            "Study:\n",
            " MURA-v1.1/valid/XR_ELBOW/patient11809/study1_positive/\n",
            "Study:\n",
            " MURA-v1.1/valid/XR_ELBOW/patient11810/study1_positive/\n",
            "Study:\n",
            " MURA-v1.1/valid/XR_ELBOW/patient11811/study1_positive/\n",
            "Study:\n",
            " MURA-v1.1/valid/XR_ELBOW/patient11812/study1_positive/\n",
            "Study:\n",
            " MURA-v1.1/valid/XR_ELBOW/patient11189/study1_positive/\n",
            "Study:\n",
            " MURA-v1.1/valid/XR_ELBOW/patient11780/study1_positive/\n",
            "Study:\n",
            " MURA-v1.1/valid/XR_ELBOW/patient11813/study1_positive/\n",
            "Study:\n",
            " MURA-v1.1/valid/XR_ELBOW/patient11472/study1_positive/\n",
            "Study:\n",
            " MURA-v1.1/valid/XR_ELBOW/patient11326/study1_positive/\n",
            "Study:\n",
            " MURA-v1.1/valid/XR_ELBOW/patient11814/study1_positive/\n",
            "Study:\n",
            " MURA-v1.1/valid/XR_ELBOW/patient11390/study1_positive/\n",
            "Study:\n",
            " MURA-v1.1/valid/XR_ELBOW/patient11390/study2_negative/\n",
            "Study:\n",
            " MURA-v1.1/valid/XR_ELBOW/patient11264/study1_positive/\n",
            "Study:\n",
            " MURA-v1.1/valid/XR_ELBOW/patient11815/study1_positive/\n",
            "Study:\n",
            " MURA-v1.1/valid/XR_ELBOW/patient11816/study1_positive/\n",
            "Study:\n",
            " MURA-v1.1/valid/XR_ELBOW/patient11817/study1_positive/\n",
            "Study:\n",
            " MURA-v1.1/valid/XR_ELBOW/patient11818/study1_positive/\n",
            "Study:\n",
            " MURA-v1.1/valid/XR_ELBOW/patient11819/study1_positive/\n",
            "Study:\n",
            " MURA-v1.1/valid/XR_ELBOW/patient11820/study1_positive/\n",
            "Study:\n",
            " MURA-v1.1/valid/XR_ELBOW/patient11821/study1_positive/\n",
            "Study:\n",
            " MURA-v1.1/valid/XR_ELBOW/patient11764/study1_positive/\n",
            "Study:\n",
            " MURA-v1.1/valid/XR_ELBOW/patient11312/study1_positive/\n",
            "Study:\n",
            " MURA-v1.1/valid/XR_ELBOW/patient11430/study1_positive/\n",
            "Study:\n",
            " MURA-v1.1/valid/XR_ELBOW/patient11822/study1_positive/\n",
            "Study:\n",
            " MURA-v1.1/valid/XR_ELBOW/patient11823/study1_positive/\n",
            "Study:\n",
            " MURA-v1.1/valid/XR_ELBOW/patient11824/study1_positive/\n",
            "Study:\n",
            " MURA-v1.1/valid/XR_ELBOW/patient11824/study2_negative/\n",
            "Study:\n",
            " MURA-v1.1/valid/XR_ELBOW/patient11825/study1_positive/\n",
            "Study:\n",
            " MURA-v1.1/valid/XR_ELBOW/patient11756/study1_positive/\n",
            "Study:\n",
            " MURA-v1.1/valid/XR_ELBOW/patient11826/study1_positive/\n",
            "Study:\n",
            " MURA-v1.1/valid/XR_ELBOW/patient11827/study1_positive/\n",
            "Study:\n",
            " MURA-v1.1/valid/XR_ELBOW/patient11827/study2_negative/\n",
            "Study:\n",
            " MURA-v1.1/valid/XR_ELBOW/patient11828/study1_positive/\n",
            "Study:\n",
            " MURA-v1.1/valid/XR_ELBOW/patient11829/study1_positive/\n",
            "Study:\n",
            " MURA-v1.1/valid/XR_ELBOW/patient11830/study1_positive/\n",
            "Study:\n",
            " MURA-v1.1/valid/XR_ELBOW/patient11236/study1_positive/\n",
            "Study:\n",
            " MURA-v1.1/valid/XR_ELBOW/patient11831/study1_positive/\n",
            "Study:\n",
            " MURA-v1.1/valid/XR_ELBOW/patient11832/study1_positive/\n",
            "Study:\n",
            " MURA-v1.1/valid/XR_ELBOW/patient11833/study1_positive/\n",
            "Study:\n",
            " MURA-v1.1/valid/XR_ELBOW/patient11834/study1_positive/\n",
            "Study:\n",
            " MURA-v1.1/valid/XR_ELBOW/patient11835/study1_positive/\n",
            "Study:\n",
            " MURA-v1.1/valid/XR_ELBOW/patient11836/study1_positive/\n",
            "Study:\n",
            " MURA-v1.1/valid/XR_ELBOW/patient11837/study1_positive/\n",
            "Study:\n",
            " MURA-v1.1/valid/XR_ELBOW/patient11838/study1_positive/\n",
            "Study:\n",
            " MURA-v1.1/valid/XR_ELBOW/patient11421/study1_positive/\n",
            "Study:\n",
            " MURA-v1.1/valid/XR_ELBOW/patient11839/study1_positive/\n",
            "Study:\n",
            " MURA-v1.1/valid/XR_ELBOW/patient11840/study1_positive/\n",
            "Study:\n",
            " MURA-v1.1/valid/XR_ELBOW/patient11841/study1_positive/\n",
            "Study:\n",
            " MURA-v1.1/valid/XR_ELBOW/patient11842/study1_positive/\n",
            "Study:\n",
            " MURA-v1.1/valid/XR_ELBOW/patient11843/study1_positive/\n",
            "Study:\n",
            " MURA-v1.1/valid/XR_ELBOW/patient11844/study1_positive/\n",
            "Study:\n",
            " MURA-v1.1/valid/XR_ELBOW/patient11243/study1_negative/\n",
            "Study:\n",
            " MURA-v1.1/valid/XR_ELBOW/patient11736/study1_negative/\n",
            "Study:\n",
            " MURA-v1.1/valid/XR_ELBOW/patient11651/study1_negative/\n",
            "Study:\n",
            " MURA-v1.1/valid/XR_ELBOW/patient11345/study1_negative/\n",
            "Study:\n",
            " MURA-v1.1/valid/XR_ELBOW/patient11845/study1_negative/\n",
            "Study:\n",
            " MURA-v1.1/valid/XR_ELBOW/patient11846/study1_negative/\n",
            "Study:\n",
            " MURA-v1.1/valid/XR_ELBOW/patient11847/study1_negative/\n",
            "Study:\n",
            " MURA-v1.1/valid/XR_ELBOW/patient11534/study1_negative/\n",
            "Study:\n",
            " MURA-v1.1/valid/XR_ELBOW/patient11848/study1_negative/\n",
            "Study:\n",
            " MURA-v1.1/valid/XR_ELBOW/patient11773/study1_negative/\n",
            "Study:\n",
            " MURA-v1.1/valid/XR_ELBOW/patient11849/study1_negative/\n",
            "Study:\n",
            " MURA-v1.1/valid/XR_ELBOW/patient11850/study1_negative/\n",
            "Study:\n",
            " MURA-v1.1/valid/XR_ELBOW/patient11569/study1_negative/\n",
            "Study:\n",
            " MURA-v1.1/valid/XR_ELBOW/patient11606/study1_negative/\n",
            "Study:\n",
            " MURA-v1.1/valid/XR_ELBOW/patient11851/study1_negative/\n",
            "Study:\n",
            " MURA-v1.1/valid/XR_ELBOW/patient11851/study2_negative/\n",
            "Study:\n",
            " MURA-v1.1/valid/XR_ELBOW/patient11563/study1_negative/\n",
            "Study:\n",
            " MURA-v1.1/valid/XR_ELBOW/patient11204/study1_negative/\n",
            "Study:\n",
            " MURA-v1.1/valid/XR_ELBOW/patient11222/study1_negative/\n",
            "Study:\n",
            " MURA-v1.1/valid/XR_ELBOW/patient11852/study1_negative/\n",
            "Study:\n",
            " MURA-v1.1/valid/XR_ELBOW/patient11238/study1_negative/\n",
            "Study:\n",
            " MURA-v1.1/valid/XR_ELBOW/patient11673/study1_negative/\n",
            "Study:\n",
            " MURA-v1.1/valid/XR_ELBOW/patient11853/study1_negative/\n",
            "Study:\n",
            " MURA-v1.1/valid/XR_ELBOW/patient11854/study1_negative/\n",
            "Study:\n",
            " MURA-v1.1/valid/XR_ELBOW/patient11443/study1_negative/\n",
            "Study:\n",
            " MURA-v1.1/valid/XR_ELBOW/patient11855/study1_negative/\n",
            "Study:\n",
            " MURA-v1.1/valid/XR_ELBOW/patient11375/study1_negative/\n",
            "Study:\n",
            " MURA-v1.1/valid/XR_ELBOW/patient11466/study1_negative/\n",
            "Study:\n",
            " MURA-v1.1/valid/XR_ELBOW/patient11349/study1_negative/\n",
            "Study:\n",
            " MURA-v1.1/valid/XR_ELBOW/patient11856/study1_negative/\n",
            "Study:\n",
            " MURA-v1.1/valid/XR_ELBOW/patient11478/study1_negative/\n",
            "Study:\n",
            " MURA-v1.1/valid/XR_ELBOW/patient11857/study1_negative/\n",
            "Study:\n",
            " MURA-v1.1/valid/XR_ELBOW/patient11763/study1_negative/\n",
            "Study:\n",
            " MURA-v1.1/valid/XR_ELBOW/patient11568/study1_negative/\n",
            "Study:\n",
            " MURA-v1.1/valid/XR_ELBOW/patient11287/study1_negative/\n",
            "Study:\n",
            " MURA-v1.1/valid/XR_ELBOW/patient11711/study1_negative/\n",
            "Study:\n",
            " MURA-v1.1/valid/XR_ELBOW/patient11858/study1_negative/\n",
            "Study:\n",
            " MURA-v1.1/valid/XR_ELBOW/patient11859/study1_negative/\n",
            "Study:\n",
            " MURA-v1.1/valid/XR_ELBOW/patient11860/study1_negative/\n",
            "Study:\n",
            " MURA-v1.1/valid/XR_ELBOW/patient11282/study1_negative/\n",
            "Study:\n",
            " MURA-v1.1/valid/XR_ELBOW/patient11317/study1_negative/\n",
            "Study:\n",
            " MURA-v1.1/valid/XR_ELBOW/patient11536/study1_negative/\n",
            "Study:\n",
            " MURA-v1.1/valid/XR_ELBOW/patient11861/study1_negative/\n",
            "Study:\n",
            " MURA-v1.1/valid/XR_ELBOW/patient11588/study1_negative/\n",
            "Study:\n",
            " MURA-v1.1/valid/XR_ELBOW/patient11247/study1_negative/\n",
            "Study:\n",
            " MURA-v1.1/valid/XR_ELBOW/patient11724/study1_negative/\n",
            "Study:\n",
            " MURA-v1.1/valid/XR_ELBOW/patient11862/study1_negative/\n",
            "Study:\n",
            " MURA-v1.1/valid/XR_ELBOW/patient11259/study1_negative/\n",
            "Study:\n",
            " MURA-v1.1/valid/XR_ELBOW/patient11402/study1_negative/\n",
            "Study:\n",
            " MURA-v1.1/valid/XR_ELBOW/patient11235/study1_negative/\n",
            "Study:\n",
            " MURA-v1.1/valid/XR_ELBOW/patient11783/study1_negative/\n",
            "Study:\n",
            " MURA-v1.1/valid/XR_ELBOW/patient11582/study1_negative/\n",
            "Study:\n",
            " MURA-v1.1/valid/XR_ELBOW/patient11863/study1_negative/\n",
            "Study:\n",
            " MURA-v1.1/valid/XR_ELBOW/patient11338/study1_negative/\n",
            "Study:\n",
            " MURA-v1.1/valid/XR_ELBOW/patient11338/study2_negative/\n",
            "Study:\n",
            " MURA-v1.1/valid/XR_ELBOW/patient11864/study1_negative/\n",
            "Study:\n",
            " MURA-v1.1/valid/XR_ELBOW/patient11865/study1_negative/\n",
            "Study:\n",
            " MURA-v1.1/valid/XR_ELBOW/patient11866/study1_negative/\n",
            "Study:\n",
            " MURA-v1.1/valid/XR_ELBOW/patient11495/study1_negative/\n",
            "Study:\n",
            " MURA-v1.1/valid/XR_ELBOW/patient11867/study1_negative/\n",
            "Study:\n",
            " MURA-v1.1/valid/XR_ELBOW/patient11775/study1_negative/\n",
            "Study:\n",
            " MURA-v1.1/valid/XR_ELBOW/patient11283/study1_negative/\n",
            "Study:\n",
            " MURA-v1.1/valid/XR_ELBOW/patient11868/study1_negative/\n",
            "Study:\n",
            " MURA-v1.1/valid/XR_ELBOW/patient11262/study1_negative/\n",
            "Study:\n",
            " MURA-v1.1/valid/XR_ELBOW/patient11869/study1_negative/\n",
            "Study:\n",
            " MURA-v1.1/valid/XR_ELBOW/patient11408/study1_negative/\n",
            "Study:\n",
            " MURA-v1.1/valid/XR_ELBOW/patient11777/study1_negative/\n",
            "Study:\n",
            " MURA-v1.1/valid/XR_ELBOW/patient11708/study1_negative/\n",
            "Study:\n",
            " MURA-v1.1/valid/XR_ELBOW/patient11870/study1_negative/\n",
            "Study:\n",
            " MURA-v1.1/valid/XR_ELBOW/patient11871/study1_negative/\n",
            "Study:\n",
            " MURA-v1.1/valid/XR_ELBOW/patient11388/study1_negative/\n",
            "Study:\n",
            " MURA-v1.1/valid/XR_ELBOW/patient11872/study1_negative/\n",
            "Study:\n",
            " MURA-v1.1/valid/XR_ELBOW/patient11873/study1_negative/\n",
            "Study:\n",
            " MURA-v1.1/valid/XR_ELBOW/patient11874/study1_negative/\n",
            "Study:\n",
            " MURA-v1.1/valid/XR_ELBOW/patient11372/study1_negative/\n",
            "Study:\n",
            " MURA-v1.1/valid/XR_ELBOW/patient11875/study1_negative/\n",
            "Study:\n",
            " MURA-v1.1/valid/XR_ELBOW/patient11876/study1_negative/\n",
            "Study:\n",
            " MURA-v1.1/valid/XR_ELBOW/patient11523/study1_negative/\n",
            "Study:\n",
            " MURA-v1.1/valid/XR_ELBOW/patient11877/study1_negative/\n",
            "Study:\n",
            " MURA-v1.1/valid/XR_ELBOW/patient11878/study1_negative/\n",
            "Study:\n",
            " MURA-v1.1/valid/XR_ELBOW/patient11368/study1_negative/\n",
            "Study:\n",
            " MURA-v1.1/valid/XR_ELBOW/patient11521/study1_negative/\n",
            "Study:\n",
            " MURA-v1.1/valid/XR_ELBOW/patient11797/study1_negative/\n",
            "Study:\n",
            " MURA-v1.1/valid/XR_ELBOW/patient11879/study1_negative/\n",
            "Study:\n",
            " MURA-v1.1/valid/XR_ELBOW/patient11217/study1_negative/\n",
            "Study:\n",
            " MURA-v1.1/valid/XR_ELBOW/patient11880/study1_negative/\n",
            "Study:\n",
            " MURA-v1.1/valid/XR_ELBOW/patient11205/study1_negative/\n",
            "Study:\n",
            " MURA-v1.1/valid/XR_ELBOW/patient11881/study1_negative/\n",
            "Study:\n",
            " MURA-v1.1/valid/XR_ELBOW/patient11334/study1_negative/\n"
          ],
          "name": "stdout"
        }
      ]
    },
    {
      "cell_type": "code",
      "metadata": {
        "colab_type": "code",
        "outputId": "4eebaf63-309d-4e45-e925-dce13f4a8bf3",
        "id": "D_nXPodQUPXu",
        "colab": {
          "base_uri": "https://localhost:8080/",
          "height": 170
        }
      },
      "source": [
        "# Get the study classification report\n",
        "from sklearn.metrics import classification_report\n",
        "print(classification_report(studywise_predictions_binary_vgg19,valid_labelled_studies['label'].tolist()),)"
      ],
      "execution_count": 0,
      "outputs": [
        {
          "output_type": "stream",
          "text": [
            "              precision    recall  f1-score   support\n",
            "\n",
            "           0       0.95      0.81      0.87       107\n",
            "           1       0.70      0.90      0.79        51\n",
            "\n",
            "   micro avg       0.84      0.84      0.84       158\n",
            "   macro avg       0.82      0.86      0.83       158\n",
            "weighted avg       0.87      0.84      0.85       158\n",
            "\n"
          ],
          "name": "stdout"
        }
      ]
    },
    {
      "cell_type": "code",
      "metadata": {
        "colab_type": "code",
        "id": "aEsNj-ZfUPXz",
        "colab": {}
      },
      "source": [
        "# Getting the sigmoid values in proper format\n",
        "stdy_predictions = []\n",
        "\n",
        "for i in range(len(studywise_predictions)):\n",
        "  stdy_predictions.append(studywise_predictions[i][0][0])"
      ],
      "execution_count": 0,
      "outputs": []
    },
    {
      "cell_type": "code",
      "metadata": {
        "colab_type": "code",
        "outputId": "d8ad1b3d-6d56-41c4-f986-60a8d5e1a70b",
        "id": "Ff0LK514UPX1",
        "colab": {
          "base_uri": "https://localhost:8080/",
          "height": 458
        }
      },
      "source": [
        "# Plot ROC curve\n",
        "plt.rcParams[\"figure.figsize\"] = (7,7)\n",
        "from sklearn.metrics import roc_curve, roc_auc_score\n",
        "\n",
        "fpr, tpr, thresholds = roc_curve(valid_labelled_studies['label'].tolist(),stdy_predictions)\n",
        "auc_score = roc_auc_score(valid_labelled_studies['label'].tolist(),stdy_predictions)\n",
        "\n",
        "plt.plot(fpr,tpr,label='VGG16 model after finetuning and dropout')\n",
        "plt.plot(fpr,fpr,label='Random guessing')\n",
        "plt.title('ROC score of VGG16(finetuning+dropout) = %2.2f'%auc_score)\n",
        "plt.xlabel('False Positive Rate')\n",
        "plt.ylabel('True Positive Rate')\n",
        "plt.legend()\n",
        "\n",
        "plt.show()"
      ],
      "execution_count": 0,
      "outputs": [
        {
          "output_type": "display_data",
          "data": {
            "image/png": "[encoded data removed]",
            "text/plain": [
              "<Figure size 504x504 with 1 Axes>"
            ]
          },
          "metadata": {
            "tags": []
          }
        }
      ]
    },
    {
      "cell_type": "code",
      "metadata": {
        "colab_type": "code",
        "outputId": "0a49e742-f4f6-4bbf-ecdc-6b6881c69029",
        "id": "KANECv5QUPX9",
        "colab": {
          "base_uri": "https://localhost:8080/",
          "height": 34
        }
      },
      "source": [
        "# Try to calculate Cohen's Kappa score\n",
        "# In practice we need to compute this score on studies instead of individual images\n",
        "from sklearn.metrics import cohen_kappa_score\n",
        "\n",
        "cohen_kappa_score(studywise_predictions_binary_vgg19,valid_labelled_studies['label'].tolist())"
      ],
      "execution_count": 0,
      "outputs": [
        {
          "output_type": "execute_result",
          "data": {
            "text/plain": [
              "0.6639441892121831"
            ]
          },
          "metadata": {
            "tags": []
          },
          "execution_count": 40
        }
      ]
    },
    {
      "cell_type": "markdown",
      "metadata": {
        "id": "iBAlbyYWjjN-",
        "colab_type": "text"
      },
      "source": [
        "## Getting results for inception model"
      ]
    },
    {
      "cell_type": "code",
      "metadata": {
        "colab_type": "code",
        "outputId": "2f484151-7db9-4c01-a6a7-a8cef4e60cbf",
        "id": "DcylnbS4jqKI",
        "colab": {
          "base_uri": "https://localhost:8080/",
          "height": 5389
        }
      },
      "source": [
        "# Studywise predictions\n",
        "studywise_predictions_binary_inception = []\n",
        "studywise_predictions = []\n",
        "\n",
        "test_counter = 0\n",
        "\n",
        "for indx,study_row in valid_labelled_studies.iterrows():\n",
        "  print('Study:\\n',study_row['study_name'])\n",
        "  \n",
        "  # List of images for the study\n",
        "  study_image_list = study_row['images']\n",
        "  \n",
        "  # List to store the predictions for each image\n",
        "  study_predictions = []\n",
        "  \n",
        "  # Number of study images\n",
        "  num_study_imgs = len(study_image_list)\n",
        "  \n",
        "  for study_image in study_image_list:\n",
        "    # Read the image from disk\n",
        "    image_string = tf.read_file(study_image)\n",
        "    # Decode the image\n",
        "    image = tf.image.decode_png(image_string,channels=3)\n",
        "    # Resize into 512x512 images\n",
        "    image_vgg = tf.image.resize_image_with_crop_or_pad(image,420,420)\n",
        "    # Plot the image\n",
        "    image_vgg = sess.run(image_vgg)\n",
        "    # plt.imshow(image)\n",
        "    # plt.title(study_image[-10:])\n",
        "    # plt.show()\n",
        "    # Make the predictions\n",
        "    image_vgg = np.reshape(image_vgg,newshape=[1,420,420,3])\n",
        "    pred = loaded_model2.predict(image_vgg)\n",
        "    study_predictions.append(pred)\n",
        "    \n",
        "  # Take the average of all predictions as the study prediction\n",
        "  avg_prediction = sum(study_predictions)/num_study_imgs\n",
        "  \n",
        "  # Sigmoid values\n",
        "  studywise_predictions.append(avg_prediction)\n",
        "    \n",
        "  # Class predictions 0/1\n",
        "  if avg_prediction < 0.5:\n",
        "    studywise_predictions_binary_inception.append(0)\n",
        "  else:\n",
        "    studywise_predictions_binary_inception.append(1)\n",
        "  \n",
        "#   test_counter+=1\n",
        "  \n",
        "#   if test_counter==5:\n",
        "#     break"
      ],
      "execution_count": 0,
      "outputs": [
        {
          "output_type": "stream",
          "text": [
            "Study:\n",
            " MURA-v1.1/valid/XR_ELBOW/patient11659/study1_positive/\n",
            "Study:\n",
            " MURA-v1.1/valid/XR_ELBOW/patient11802/study1_positive/\n",
            "Study:\n",
            " MURA-v1.1/valid/XR_ELBOW/patient11803/study1_positive/\n",
            "Study:\n",
            " MURA-v1.1/valid/XR_ELBOW/patient11804/study1_positive/\n",
            "Study:\n",
            " MURA-v1.1/valid/XR_ELBOW/patient11805/study1_positive/\n",
            "Study:\n",
            " MURA-v1.1/valid/XR_ELBOW/patient11414/study1_positive/\n",
            "Study:\n",
            " MURA-v1.1/valid/XR_ELBOW/patient11186/study1_positive/\n",
            "Study:\n",
            " MURA-v1.1/valid/XR_ELBOW/patient11806/study1_positive/\n",
            "Study:\n",
            " MURA-v1.1/valid/XR_ELBOW/patient11807/study1_positive/\n",
            "Study:\n",
            " MURA-v1.1/valid/XR_ELBOW/patient11793/study1_positive/\n",
            "Study:\n",
            " MURA-v1.1/valid/XR_ELBOW/patient11358/study1_positive/\n",
            "Study:\n",
            " MURA-v1.1/valid/XR_ELBOW/patient11417/study1_positive/\n",
            "Study:\n",
            " MURA-v1.1/valid/XR_ELBOW/patient11417/study2_positive/\n",
            "Study:\n",
            " MURA-v1.1/valid/XR_ELBOW/patient11586/study1_positive/\n",
            "Study:\n",
            " MURA-v1.1/valid/XR_ELBOW/patient11389/study1_positive/\n",
            "Study:\n",
            " MURA-v1.1/valid/XR_ELBOW/patient11808/study1_positive/\n",
            "Study:\n",
            " MURA-v1.1/valid/XR_ELBOW/patient11342/study1_positive/\n",
            "Study:\n",
            " MURA-v1.1/valid/XR_ELBOW/patient11603/study1_positive/\n",
            "Study:\n",
            " MURA-v1.1/valid/XR_ELBOW/patient11809/study1_positive/\n",
            "Study:\n",
            " MURA-v1.1/valid/XR_ELBOW/patient11810/study1_positive/\n",
            "Study:\n",
            " MURA-v1.1/valid/XR_ELBOW/patient11811/study1_positive/\n",
            "Study:\n",
            " MURA-v1.1/valid/XR_ELBOW/patient11812/study1_positive/\n",
            "Study:\n",
            " MURA-v1.1/valid/XR_ELBOW/patient11189/study1_positive/\n",
            "Study:\n",
            " MURA-v1.1/valid/XR_ELBOW/patient11780/study1_positive/\n",
            "Study:\n",
            " MURA-v1.1/valid/XR_ELBOW/patient11813/study1_positive/\n",
            "Study:\n",
            " MURA-v1.1/valid/XR_ELBOW/patient11472/study1_positive/\n",
            "Study:\n",
            " MURA-v1.1/valid/XR_ELBOW/patient11326/study1_positive/\n",
            "Study:\n",
            " MURA-v1.1/valid/XR_ELBOW/patient11814/study1_positive/\n",
            "Study:\n",
            " MURA-v1.1/valid/XR_ELBOW/patient11390/study1_positive/\n",
            "Study:\n",
            " MURA-v1.1/valid/XR_ELBOW/patient11390/study2_negative/\n",
            "Study:\n",
            " MURA-v1.1/valid/XR_ELBOW/patient11264/study1_positive/\n",
            "Study:\n",
            " MURA-v1.1/valid/XR_ELBOW/patient11815/study1_positive/\n",
            "Study:\n",
            " MURA-v1.1/valid/XR_ELBOW/patient11816/study1_positive/\n",
            "Study:\n",
            " MURA-v1.1/valid/XR_ELBOW/patient11817/study1_positive/\n",
            "Study:\n",
            " MURA-v1.1/valid/XR_ELBOW/patient11818/study1_positive/\n",
            "Study:\n",
            " MURA-v1.1/valid/XR_ELBOW/patient11819/study1_positive/\n",
            "Study:\n",
            " MURA-v1.1/valid/XR_ELBOW/patient11820/study1_positive/\n",
            "Study:\n",
            " MURA-v1.1/valid/XR_ELBOW/patient11821/study1_positive/\n",
            "Study:\n",
            " MURA-v1.1/valid/XR_ELBOW/patient11764/study1_positive/\n",
            "Study:\n",
            " MURA-v1.1/valid/XR_ELBOW/patient11312/study1_positive/\n",
            "Study:\n",
            " MURA-v1.1/valid/XR_ELBOW/patient11430/study1_positive/\n",
            "Study:\n",
            " MURA-v1.1/valid/XR_ELBOW/patient11822/study1_positive/\n",
            "Study:\n",
            " MURA-v1.1/valid/XR_ELBOW/patient11823/study1_positive/\n",
            "Study:\n",
            " MURA-v1.1/valid/XR_ELBOW/patient11824/study1_positive/\n",
            "Study:\n",
            " MURA-v1.1/valid/XR_ELBOW/patient11824/study2_negative/\n",
            "Study:\n",
            " MURA-v1.1/valid/XR_ELBOW/patient11825/study1_positive/\n",
            "Study:\n",
            " MURA-v1.1/valid/XR_ELBOW/patient11756/study1_positive/\n",
            "Study:\n",
            " MURA-v1.1/valid/XR_ELBOW/patient11826/study1_positive/\n",
            "Study:\n",
            " MURA-v1.1/valid/XR_ELBOW/patient11827/study1_positive/\n",
            "Study:\n",
            " MURA-v1.1/valid/XR_ELBOW/patient11827/study2_negative/\n",
            "Study:\n",
            " MURA-v1.1/valid/XR_ELBOW/patient11828/study1_positive/\n",
            "Study:\n",
            " MURA-v1.1/valid/XR_ELBOW/patient11829/study1_positive/\n",
            "Study:\n",
            " MURA-v1.1/valid/XR_ELBOW/patient11830/study1_positive/\n",
            "Study:\n",
            " MURA-v1.1/valid/XR_ELBOW/patient11236/study1_positive/\n",
            "Study:\n",
            " MURA-v1.1/valid/XR_ELBOW/patient11831/study1_positive/\n",
            "Study:\n",
            " MURA-v1.1/valid/XR_ELBOW/patient11832/study1_positive/\n",
            "Study:\n",
            " MURA-v1.1/valid/XR_ELBOW/patient11833/study1_positive/\n",
            "Study:\n",
            " MURA-v1.1/valid/XR_ELBOW/patient11834/study1_positive/\n",
            "Study:\n",
            " MURA-v1.1/valid/XR_ELBOW/patient11835/study1_positive/\n",
            "Study:\n",
            " MURA-v1.1/valid/XR_ELBOW/patient11836/study1_positive/\n",
            "Study:\n",
            " MURA-v1.1/valid/XR_ELBOW/patient11837/study1_positive/\n",
            "Study:\n",
            " MURA-v1.1/valid/XR_ELBOW/patient11838/study1_positive/\n",
            "Study:\n",
            " MURA-v1.1/valid/XR_ELBOW/patient11421/study1_positive/\n",
            "Study:\n",
            " MURA-v1.1/valid/XR_ELBOW/patient11839/study1_positive/\n",
            "Study:\n",
            " MURA-v1.1/valid/XR_ELBOW/patient11840/study1_positive/\n",
            "Study:\n",
            " MURA-v1.1/valid/XR_ELBOW/patient11841/study1_positive/\n",
            "Study:\n",
            " MURA-v1.1/valid/XR_ELBOW/patient11842/study1_positive/\n",
            "Study:\n",
            " MURA-v1.1/valid/XR_ELBOW/patient11843/study1_positive/\n",
            "Study:\n",
            " MURA-v1.1/valid/XR_ELBOW/patient11844/study1_positive/\n",
            "Study:\n",
            " MURA-v1.1/valid/XR_ELBOW/patient11243/study1_negative/\n",
            "Study:\n",
            " MURA-v1.1/valid/XR_ELBOW/patient11736/study1_negative/\n",
            "Study:\n",
            " MURA-v1.1/valid/XR_ELBOW/patient11651/study1_negative/\n",
            "Study:\n",
            " MURA-v1.1/valid/XR_ELBOW/patient11345/study1_negative/\n",
            "Study:\n",
            " MURA-v1.1/valid/XR_ELBOW/patient11845/study1_negative/\n",
            "Study:\n",
            " MURA-v1.1/valid/XR_ELBOW/patient11846/study1_negative/\n",
            "Study:\n",
            " MURA-v1.1/valid/XR_ELBOW/patient11847/study1_negative/\n",
            "Study:\n",
            " MURA-v1.1/valid/XR_ELBOW/patient11534/study1_negative/\n",
            "Study:\n",
            " MURA-v1.1/valid/XR_ELBOW/patient11848/study1_negative/\n",
            "Study:\n",
            " MURA-v1.1/valid/XR_ELBOW/patient11773/study1_negative/\n",
            "Study:\n",
            " MURA-v1.1/valid/XR_ELBOW/patient11849/study1_negative/\n",
            "Study:\n",
            " MURA-v1.1/valid/XR_ELBOW/patient11850/study1_negative/\n",
            "Study:\n",
            " MURA-v1.1/valid/XR_ELBOW/patient11569/study1_negative/\n",
            "Study:\n",
            " MURA-v1.1/valid/XR_ELBOW/patient11606/study1_negative/\n",
            "Study:\n",
            " MURA-v1.1/valid/XR_ELBOW/patient11851/study1_negative/\n",
            "Study:\n",
            " MURA-v1.1/valid/XR_ELBOW/patient11851/study2_negative/\n",
            "Study:\n",
            " MURA-v1.1/valid/XR_ELBOW/patient11563/study1_negative/\n",
            "Study:\n",
            " MURA-v1.1/valid/XR_ELBOW/patient11204/study1_negative/\n",
            "Study:\n",
            " MURA-v1.1/valid/XR_ELBOW/patient11222/study1_negative/\n",
            "Study:\n",
            " MURA-v1.1/valid/XR_ELBOW/patient11852/study1_negative/\n",
            "Study:\n",
            " MURA-v1.1/valid/XR_ELBOW/patient11238/study1_negative/\n",
            "Study:\n",
            " MURA-v1.1/valid/XR_ELBOW/patient11673/study1_negative/\n",
            "Study:\n",
            " MURA-v1.1/valid/XR_ELBOW/patient11853/study1_negative/\n",
            "Study:\n",
            " MURA-v1.1/valid/XR_ELBOW/patient11854/study1_negative/\n",
            "Study:\n",
            " MURA-v1.1/valid/XR_ELBOW/patient11443/study1_negative/\n",
            "Study:\n",
            " MURA-v1.1/valid/XR_ELBOW/patient11855/study1_negative/\n",
            "Study:\n",
            " MURA-v1.1/valid/XR_ELBOW/patient11375/study1_negative/\n",
            "Study:\n",
            " MURA-v1.1/valid/XR_ELBOW/patient11466/study1_negative/\n",
            "Study:\n",
            " MURA-v1.1/valid/XR_ELBOW/patient11349/study1_negative/\n",
            "Study:\n",
            " MURA-v1.1/valid/XR_ELBOW/patient11856/study1_negative/\n",
            "Study:\n",
            " MURA-v1.1/valid/XR_ELBOW/patient11478/study1_negative/\n",
            "Study:\n",
            " MURA-v1.1/valid/XR_ELBOW/patient11857/study1_negative/\n",
            "Study:\n",
            " MURA-v1.1/valid/XR_ELBOW/patient11763/study1_negative/\n",
            "Study:\n",
            " MURA-v1.1/valid/XR_ELBOW/patient11568/study1_negative/\n",
            "Study:\n",
            " MURA-v1.1/valid/XR_ELBOW/patient11287/study1_negative/\n",
            "Study:\n",
            " MURA-v1.1/valid/XR_ELBOW/patient11711/study1_negative/\n",
            "Study:\n",
            " MURA-v1.1/valid/XR_ELBOW/patient11858/study1_negative/\n",
            "Study:\n",
            " MURA-v1.1/valid/XR_ELBOW/patient11859/study1_negative/\n",
            "Study:\n",
            " MURA-v1.1/valid/XR_ELBOW/patient11860/study1_negative/\n",
            "Study:\n",
            " MURA-v1.1/valid/XR_ELBOW/patient11282/study1_negative/\n",
            "Study:\n",
            " MURA-v1.1/valid/XR_ELBOW/patient11317/study1_negative/\n",
            "Study:\n",
            " MURA-v1.1/valid/XR_ELBOW/patient11536/study1_negative/\n",
            "Study:\n",
            " MURA-v1.1/valid/XR_ELBOW/patient11861/study1_negative/\n",
            "Study:\n",
            " MURA-v1.1/valid/XR_ELBOW/patient11588/study1_negative/\n",
            "Study:\n",
            " MURA-v1.1/valid/XR_ELBOW/patient11247/study1_negative/\n",
            "Study:\n",
            " MURA-v1.1/valid/XR_ELBOW/patient11724/study1_negative/\n",
            "Study:\n",
            " MURA-v1.1/valid/XR_ELBOW/patient11862/study1_negative/\n",
            "Study:\n",
            " MURA-v1.1/valid/XR_ELBOW/patient11259/study1_negative/\n",
            "Study:\n",
            " MURA-v1.1/valid/XR_ELBOW/patient11402/study1_negative/\n",
            "Study:\n",
            " MURA-v1.1/valid/XR_ELBOW/patient11235/study1_negative/\n",
            "Study:\n",
            " MURA-v1.1/valid/XR_ELBOW/patient11783/study1_negative/\n",
            "Study:\n",
            " MURA-v1.1/valid/XR_ELBOW/patient11582/study1_negative/\n",
            "Study:\n",
            " MURA-v1.1/valid/XR_ELBOW/patient11863/study1_negative/\n",
            "Study:\n",
            " MURA-v1.1/valid/XR_ELBOW/patient11338/study1_negative/\n",
            "Study:\n",
            " MURA-v1.1/valid/XR_ELBOW/patient11338/study2_negative/\n",
            "Study:\n",
            " MURA-v1.1/valid/XR_ELBOW/patient11864/study1_negative/\n",
            "Study:\n",
            " MURA-v1.1/valid/XR_ELBOW/patient11865/study1_negative/\n",
            "Study:\n",
            " MURA-v1.1/valid/XR_ELBOW/patient11866/study1_negative/\n",
            "Study:\n",
            " MURA-v1.1/valid/XR_ELBOW/patient11495/study1_negative/\n",
            "Study:\n",
            " MURA-v1.1/valid/XR_ELBOW/patient11867/study1_negative/\n",
            "Study:\n",
            " MURA-v1.1/valid/XR_ELBOW/patient11775/study1_negative/\n",
            "Study:\n",
            " MURA-v1.1/valid/XR_ELBOW/patient11283/study1_negative/\n",
            "Study:\n",
            " MURA-v1.1/valid/XR_ELBOW/patient11868/study1_negative/\n",
            "Study:\n",
            " MURA-v1.1/valid/XR_ELBOW/patient11262/study1_negative/\n",
            "Study:\n",
            " MURA-v1.1/valid/XR_ELBOW/patient11869/study1_negative/\n",
            "Study:\n",
            " MURA-v1.1/valid/XR_ELBOW/patient11408/study1_negative/\n",
            "Study:\n",
            " MURA-v1.1/valid/XR_ELBOW/patient11777/study1_negative/\n",
            "Study:\n",
            " MURA-v1.1/valid/XR_ELBOW/patient11708/study1_negative/\n",
            "Study:\n",
            " MURA-v1.1/valid/XR_ELBOW/patient11870/study1_negative/\n",
            "Study:\n",
            " MURA-v1.1/valid/XR_ELBOW/patient11871/study1_negative/\n",
            "Study:\n",
            " MURA-v1.1/valid/XR_ELBOW/patient11388/study1_negative/\n",
            "Study:\n",
            " MURA-v1.1/valid/XR_ELBOW/patient11872/study1_negative/\n",
            "Study:\n",
            " MURA-v1.1/valid/XR_ELBOW/patient11873/study1_negative/\n",
            "Study:\n",
            " MURA-v1.1/valid/XR_ELBOW/patient11874/study1_negative/\n",
            "Study:\n",
            " MURA-v1.1/valid/XR_ELBOW/patient11372/study1_negative/\n",
            "Study:\n",
            " MURA-v1.1/valid/XR_ELBOW/patient11875/study1_negative/\n",
            "Study:\n",
            " MURA-v1.1/valid/XR_ELBOW/patient11876/study1_negative/\n",
            "Study:\n",
            " MURA-v1.1/valid/XR_ELBOW/patient11523/study1_negative/\n",
            "Study:\n",
            " MURA-v1.1/valid/XR_ELBOW/patient11877/study1_negative/\n",
            "Study:\n",
            " MURA-v1.1/valid/XR_ELBOW/patient11878/study1_negative/\n",
            "Study:\n",
            " MURA-v1.1/valid/XR_ELBOW/patient11368/study1_negative/\n",
            "Study:\n",
            " MURA-v1.1/valid/XR_ELBOW/patient11521/study1_negative/\n",
            "Study:\n",
            " MURA-v1.1/valid/XR_ELBOW/patient11797/study1_negative/\n",
            "Study:\n",
            " MURA-v1.1/valid/XR_ELBOW/patient11879/study1_negative/\n",
            "Study:\n",
            " MURA-v1.1/valid/XR_ELBOW/patient11217/study1_negative/\n",
            "Study:\n",
            " MURA-v1.1/valid/XR_ELBOW/patient11880/study1_negative/\n",
            "Study:\n",
            " MURA-v1.1/valid/XR_ELBOW/patient11205/study1_negative/\n",
            "Study:\n",
            " MURA-v1.1/valid/XR_ELBOW/patient11881/study1_negative/\n",
            "Study:\n",
            " MURA-v1.1/valid/XR_ELBOW/patient11334/study1_negative/\n"
          ],
          "name": "stdout"
        }
      ]
    },
    {
      "cell_type": "code",
      "metadata": {
        "colab_type": "code",
        "outputId": "37150b18-84d9-46de-98bd-155ac35cc7fa",
        "id": "mWcB2j3TjqKP",
        "colab": {
          "base_uri": "https://localhost:8080/",
          "height": 170
        }
      },
      "source": [
        "# Get the study classification report\n",
        "from sklearn.metrics import classification_report\n",
        "print(classification_report(studywise_predictions_binary_inception,valid_labelled_studies['label'].tolist()),)"
      ],
      "execution_count": 0,
      "outputs": [
        {
          "output_type": "stream",
          "text": [
            "              precision    recall  f1-score   support\n",
            "\n",
            "           0       0.96      0.79      0.87       111\n",
            "           1       0.65      0.91      0.76        47\n",
            "\n",
            "   micro avg       0.83      0.83      0.83       158\n",
            "   macro avg       0.80      0.85      0.81       158\n",
            "weighted avg       0.87      0.83      0.84       158\n",
            "\n"
          ],
          "name": "stdout"
        }
      ]
    },
    {
      "cell_type": "code",
      "metadata": {
        "colab_type": "code",
        "id": "KqdxUL6m2P2d",
        "colab": {}
      },
      "source": [
        "# Getting the sigmoid values in proper format\n",
        "stdy_predictions = []\n",
        "\n",
        "for i in range(len(studywise_predictions)):\n",
        "  stdy_predictions.append(studywise_predictions[i][0][0])"
      ],
      "execution_count": 0,
      "outputs": []
    },
    {
      "cell_type": "code",
      "metadata": {
        "colab_type": "code",
        "outputId": "9c61febf-44a7-461e-ebfe-4f2564c89eca",
        "id": "t-OGWHpojqKW",
        "colab": {
          "base_uri": "https://localhost:8080/",
          "height": 231
        }
      },
      "source": [
        "# Plot ROC curve\n",
        "plt.rcParams[\"figure.figsize\"] = (7,7)\n",
        "from sklearn.metrics import roc_curve, roc_auc_score\n",
        "\n",
        "fpr, tpr, thresholds = roc_curve(valid_labelled_studies['label'].tolist(),stdy_predictions)\n",
        "auc_score = roc_auc_score(valid_labelled_studies['label'].tolist(),stdy_predictions)\n",
        "\n",
        "plt.plot(fpr,tpr,label='VGG16 model after finetuning and dropout')\n",
        "plt.plot(fpr,fpr,label='Random guessing')\n",
        "plt.title('ROC score of VGG16(finetuning+dropout) = %2.2f'%auc_score)\n",
        "plt.xlabel('False Positive Rate')\n",
        "plt.ylabel('True Positive Rate')\n",
        "plt.legend()\n",
        "\n",
        "plt.show()"
      ],
      "execution_count": 0,
      "outputs": [
        {
          "output_type": "error",
          "ename": "NameError",
          "evalue": "ignored",
          "traceback": [
            "\u001b[0;31m---------------------------------------------------------------------------\u001b[0m",
            "\u001b[0;31mNameError\u001b[0m                                 Traceback (most recent call last)",
            "\u001b[0;32m<ipython-input-1-9da376483791>\u001b[0m in \u001b[0;36m<module>\u001b[0;34m()\u001b[0m\n\u001b[0;32m----> 1\u001b[0;31m \u001b[0mplt\u001b[0m\u001b[0;34m.\u001b[0m\u001b[0mrcParams\u001b[0m\u001b[0;34m[\u001b[0m\u001b[0;34m\"figure.figsize\"\u001b[0m\u001b[0;34m]\u001b[0m \u001b[0;34m=\u001b[0m \u001b[0;34m(\u001b[0m\u001b[0;36m7\u001b[0m\u001b[0;34m,\u001b[0m\u001b[0;36m7\u001b[0m\u001b[0;34m)\u001b[0m\u001b[0;34m\u001b[0m\u001b[0;34m\u001b[0m\u001b[0m\n\u001b[0m\u001b[1;32m      2\u001b[0m \u001b[0;32mfrom\u001b[0m \u001b[0msklearn\u001b[0m\u001b[0;34m.\u001b[0m\u001b[0mmetrics\u001b[0m \u001b[0;32mimport\u001b[0m \u001b[0mroc_curve\u001b[0m\u001b[0;34m,\u001b[0m \u001b[0mroc_auc_score\u001b[0m\u001b[0;34m\u001b[0m\u001b[0;34m\u001b[0m\u001b[0m\n\u001b[1;32m      3\u001b[0m \u001b[0;34m\u001b[0m\u001b[0m\n\u001b[1;32m      4\u001b[0m \u001b[0mfpr\u001b[0m\u001b[0;34m,\u001b[0m \u001b[0mtpr\u001b[0m\u001b[0;34m,\u001b[0m \u001b[0mthresholds\u001b[0m \u001b[0;34m=\u001b[0m \u001b[0mroc_curve\u001b[0m\u001b[0;34m(\u001b[0m\u001b[0mvalid_labelled_studies\u001b[0m\u001b[0;34m[\u001b[0m\u001b[0;34m'label'\u001b[0m\u001b[0;34m]\u001b[0m\u001b[0;34m.\u001b[0m\u001b[0mtolist\u001b[0m\u001b[0;34m(\u001b[0m\u001b[0;34m)\u001b[0m\u001b[0;34m,\u001b[0m\u001b[0mstdy_predictions\u001b[0m\u001b[0;34m)\u001b[0m\u001b[0;34m\u001b[0m\u001b[0;34m\u001b[0m\u001b[0m\n\u001b[1;32m      5\u001b[0m \u001b[0mauc_score\u001b[0m \u001b[0;34m=\u001b[0m \u001b[0mroc_auc_score\u001b[0m\u001b[0;34m(\u001b[0m\u001b[0mvalid_labelled_studies\u001b[0m\u001b[0;34m[\u001b[0m\u001b[0;34m'label'\u001b[0m\u001b[0;34m]\u001b[0m\u001b[0;34m.\u001b[0m\u001b[0mtolist\u001b[0m\u001b[0;34m(\u001b[0m\u001b[0;34m)\u001b[0m\u001b[0;34m,\u001b[0m\u001b[0mstdy_predictions\u001b[0m\u001b[0;34m)\u001b[0m\u001b[0;34m\u001b[0m\u001b[0;34m\u001b[0m\u001b[0m\n",
            "\u001b[0;31mNameError\u001b[0m: name 'plt' is not defined"
          ]
        }
      ]
    },
    {
      "cell_type": "code",
      "metadata": {
        "colab_type": "code",
        "outputId": "621d05aa-c1b1-4c87-9e93-1e67c4fa5d6b",
        "id": "dqig6ZZljqKc",
        "colab": {
          "base_uri": "https://localhost:8080/",
          "height": 34
        }
      },
      "source": [
        "# Try to calculate Cohen's Kappa score\n",
        "# In practice we need to compute this score on studies instead of individual images\n",
        "from sklearn.metrics import cohen_kappa_score\n",
        "\n",
        "cohen_kappa_score(studywise_predictions_binary_inception,valid_labelled_studies['label'].tolist())"
      ],
      "execution_count": 0,
      "outputs": [
        {
          "output_type": "execute_result",
          "data": {
            "text/plain": [
              "0.6338197424892704"
            ]
          },
          "metadata": {
            "tags": []
          },
          "execution_count": 47
        }
      ]
    },
    {
      "cell_type": "markdown",
      "metadata": {
        "id": "uH0CqYb5lLo-",
        "colab_type": "text"
      },
      "source": [
        "## Ensembling"
      ]
    },
    {
      "cell_type": "code",
      "metadata": {
        "id": "OH3gdSu7lPs_",
        "colab_type": "code",
        "colab": {}
      },
      "source": [
        "def voting(p1,p2,p3):\n",
        "  p = []\n",
        "  for i in range(len(p1)):\n",
        "    res = 0.72*p1[i] + 0.66*p2[i] + 0.63*p3[i]\n",
        "    if res < 1.3:\n",
        "      p.append(0)\n",
        "    else:\n",
        "      p.append(1)\n",
        "  return p\n",
        "      \n",
        "predictions_binary_ensemble = voting(studywise_predictions_binary_vgg16,studywise_predictions_binary_vgg19,studywise_predictions_binary_inception)"
      ],
      "execution_count": 0,
      "outputs": []
    },
    {
      "cell_type": "code",
      "metadata": {
        "colab_type": "code",
        "outputId": "194d01e4-4a58-41fc-df25-9e99bb222b73",
        "id": "ClzQD9xe2a7F",
        "colab": {
          "base_uri": "https://localhost:8080/",
          "height": 170
        }
      },
      "source": [
        "# Get the study classification report\n",
        "from sklearn.metrics import classification_report\n",
        "print(classification_report(predictions_binary_ensemble,valid_labelled_studies['label'].tolist()))"
      ],
      "execution_count": 0,
      "outputs": [
        {
          "output_type": "stream",
          "text": [
            "              precision    recall  f1-score   support\n",
            "\n",
            "           0       0.97      0.82      0.89       108\n",
            "           1       0.71      0.94      0.81        50\n",
            "\n",
            "   micro avg       0.86      0.86      0.86       158\n",
            "   macro avg       0.84      0.88      0.85       158\n",
            "weighted avg       0.89      0.86      0.86       158\n",
            "\n"
          ],
          "name": "stdout"
        }
      ]
    },
    {
      "cell_type": "code",
      "metadata": {
        "colab_type": "code",
        "outputId": "36a5df24-a4b6-4587-e75c-b9bd97efa236",
        "id": "w1riHne82a7J",
        "colab": {
          "base_uri": "https://localhost:8080/",
          "height": 34
        }
      },
      "source": [
        "# Try to calculate Cohen's Kappa score\n",
        "# In practice we need to compute this score on studies instead of individual images\n",
        "from sklearn.metrics import cohen_kappa_score\n",
        "\n",
        "cohen_kappa_score(predictions_binary_ensemble,valid_labelled_studies['label'].tolist())"
      ],
      "execution_count": 0,
      "outputs": [
        {
          "output_type": "execute_result",
          "data": {
            "text/plain": [
              "0.7036152796725784"
            ]
          },
          "metadata": {
            "tags": []
          },
          "execution_count": 116
        }
      ]
    },
    {
      "cell_type": "code",
      "metadata": {
        "id": "Kla3D7kS9U7m",
        "colab_type": "code",
        "colab": {}
      },
      "source": [
        ""
      ],
      "execution_count": 0,
      "outputs": []
    }
  ]
}